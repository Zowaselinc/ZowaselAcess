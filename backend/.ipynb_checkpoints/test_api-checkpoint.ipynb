{
 "cells": [
  {
   "cell_type": "code",
   "execution_count": 1,
   "id": "7821d168",
   "metadata": {},
   "outputs": [],
   "source": [
    "import requests"
   ]
  },
  {
   "cell_type": "markdown",
   "id": "03664c76",
   "metadata": {},
   "source": [
    "# Farmer Bio"
   ]
  },
  {
   "cell_type": "code",
   "execution_count": 2,
   "id": "ce7fd9e2",
   "metadata": {},
   "outputs": [
    {
     "data": {
      "text/plain": [
       "{'id': '1',\n",
       " 'FirstName': '1',\n",
       " 'Surname': '1',\n",
       " 'Middlename': '1',\n",
       " 'Telephone': '1',\n",
       " 'Age': '1',\n",
       " 'Gender': '1',\n",
       " 'Language': '1',\n",
       " 'MaritalStatus': '1',\n",
       " 'Bankname': '1',\n",
       " 'Accountno': '1',\n",
       " 'Bvn': '1',\n",
       " 'MeansofID': '1',\n",
       " 'Issuedate': '1',\n",
       " 'Expirydate': '1',\n",
       " 'Nin': '1',\n",
       " 'PermanentAddress': '1',\n",
       " 'Landmark': '1',\n",
       " 'Stateoforigin': '1',\n",
       " 'IsinaGroup': '1',\n",
       " 'ReasonNoGroup': '1',\n",
       " 'Group': '1',\n",
       " 'NumberofMembers': '1',\n",
       " 'FirstNameNok': '1',\n",
       " 'SurnameNok': '1',\n",
       " 'MiddlenameNok': '1',\n",
       " 'RelationshipNok': '1',\n",
       " 'OccupationNok': '1',\n",
       " 'TelephoneNok': '1',\n",
       " 'PermanentAddressNok': '1',\n",
       " 'LandmarkNok': '1',\n",
       " 'NinNok': '1'}"
      ]
     },
     "execution_count": 2,
     "metadata": {},
     "output_type": "execute_result"
    }
   ],
   "source": [
    "# Load farmer with Bvn \n",
    "requests.get('http://127.0.0.1:5000/api/farmer/Bvn=1').json()"
   ]
  },
  {
   "cell_type": "code",
   "execution_count": 3,
   "id": "01ee01f3",
   "metadata": {},
   "outputs": [
    {
     "data": {
      "text/plain": [
       "{'id': '2',\n",
       " 'FirstName': '1',\n",
       " 'Surname': '1',\n",
       " 'Middlename': '1',\n",
       " 'Telephone': '1',\n",
       " 'Age': '1',\n",
       " 'Gender': '1',\n",
       " 'Language': '1',\n",
       " 'MaritalStatus': '1',\n",
       " 'Bankname': '1',\n",
       " 'Accountno': '1',\n",
       " 'Bvn': '2',\n",
       " 'MeansofID': '1',\n",
       " 'Issuedate': '1',\n",
       " 'Expirydate': '1',\n",
       " 'Nin': '1',\n",
       " 'PermanentAddress': '1',\n",
       " 'Landmark': '1',\n",
       " 'Stateoforigin': '1',\n",
       " 'IsinaGroup': '1',\n",
       " 'ReasonNoGroup': '1',\n",
       " 'Group': '1',\n",
       " 'NumberofMembers': '1',\n",
       " 'FirstNameNok': '1',\n",
       " 'SurnameNok': '1',\n",
       " 'MiddlenameNok': '1',\n",
       " 'RelationshipNok': '1',\n",
       " 'OccupationNok': '1',\n",
       " 'TelephoneNok': '1',\n",
       " 'PermanentAddressNok': '1',\n",
       " 'LandmarkNok': '1',\n",
       " 'NinNok': '1'}"
      ]
     },
     "execution_count": 3,
     "metadata": {},
     "output_type": "execute_result"
    }
   ],
   "source": [
    "# Load farmer with Bvn \n",
    "requests.get('http://127.0.0.1:5000/api/farmer/Bvn=2').json()"
   ]
  },
  {
   "cell_type": "code",
   "execution_count": 4,
   "id": "a9a1c9aa",
   "metadata": {},
   "outputs": [
    {
     "data": {
      "text/plain": [
       "[{'id': '1',\n",
       "  'FirstName': '1',\n",
       "  'Surname': '1',\n",
       "  'Middlename': '1',\n",
       "  'Telephone': '1',\n",
       "  'Age': '1',\n",
       "  'Gender': '1',\n",
       "  'Language': '1',\n",
       "  'MaritalStatus': '1',\n",
       "  'Bankname': '1',\n",
       "  'Accountno': '1',\n",
       "  'Bvn': '1',\n",
       "  'MeansofID': '1',\n",
       "  'Issuedate': '1',\n",
       "  'Expirydate': '1',\n",
       "  'Nin': '1',\n",
       "  'PermanentAddress': '1',\n",
       "  'Landmark': '1',\n",
       "  'Stateoforigin': '1',\n",
       "  'IsinaGroup': '1',\n",
       "  'ReasonNoGroup': '1',\n",
       "  'Group': '1',\n",
       "  'NumberofMembers': '1',\n",
       "  'FirstNameNok': '1',\n",
       "  'SurnameNok': '1',\n",
       "  'MiddlenameNok': '1',\n",
       "  'RelationshipNok': '1',\n",
       "  'OccupationNok': '1',\n",
       "  'TelephoneNok': '1',\n",
       "  'PermanentAddressNok': '1',\n",
       "  'LandmarkNok': '1',\n",
       "  'NinNok': '1'},\n",
       " {'id': '2',\n",
       "  'FirstName': '1',\n",
       "  'Surname': '1',\n",
       "  'Middlename': '1',\n",
       "  'Telephone': '1',\n",
       "  'Age': '1',\n",
       "  'Gender': '1',\n",
       "  'Language': '1',\n",
       "  'MaritalStatus': '1',\n",
       "  'Bankname': '1',\n",
       "  'Accountno': '1',\n",
       "  'Bvn': '2',\n",
       "  'MeansofID': '1',\n",
       "  'Issuedate': '1',\n",
       "  'Expirydate': '1',\n",
       "  'Nin': '1',\n",
       "  'PermanentAddress': '1',\n",
       "  'Landmark': '1',\n",
       "  'Stateoforigin': '1',\n",
       "  'IsinaGroup': '1',\n",
       "  'ReasonNoGroup': '1',\n",
       "  'Group': '1',\n",
       "  'NumberofMembers': '1',\n",
       "  'FirstNameNok': '1',\n",
       "  'SurnameNok': '1',\n",
       "  'MiddlenameNok': '1',\n",
       "  'RelationshipNok': '1',\n",
       "  'OccupationNok': '1',\n",
       "  'TelephoneNok': '1',\n",
       "  'PermanentAddressNok': '1',\n",
       "  'LandmarkNok': '1',\n",
       "  'NinNok': '1'},\n",
       " {'id': '3',\n",
       "  'FirstName': '1',\n",
       "  'Surname': '1',\n",
       "  'Middlename': '1',\n",
       "  'Telephone': '1',\n",
       "  'Age': '1',\n",
       "  'Gender': '1',\n",
       "  'Language': '1',\n",
       "  'MaritalStatus': '1',\n",
       "  'Bankname': '1',\n",
       "  'Accountno': '1',\n",
       "  'Bvn': '3',\n",
       "  'MeansofID': '1',\n",
       "  'Issuedate': '1',\n",
       "  'Expirydate': '1',\n",
       "  'Nin': '1',\n",
       "  'PermanentAddress': '1',\n",
       "  'Landmark': '1',\n",
       "  'Stateoforigin': '1',\n",
       "  'IsinaGroup': '1',\n",
       "  'ReasonNoGroup': '1',\n",
       "  'Group': '1',\n",
       "  'NumberofMembers': '1',\n",
       "  'FirstNameNok': '1',\n",
       "  'SurnameNok': '1',\n",
       "  'MiddlenameNok': '1',\n",
       "  'RelationshipNok': '1',\n",
       "  'OccupationNok': '1',\n",
       "  'TelephoneNok': '1',\n",
       "  'PermanentAddressNok': '1',\n",
       "  'LandmarkNok': '1',\n",
       "  'NinNok': '1'}]"
      ]
     },
     "execution_count": 4,
     "metadata": {},
     "output_type": "execute_result"
    }
   ],
   "source": [
    "# Load all Farmers\n",
    "requests.get('http://127.0.0.1:5000/api/farmer/all').json()"
   ]
  },
  {
   "cell_type": "code",
   "execution_count": 5,
   "id": "4aac6000",
   "metadata": {},
   "outputs": [
    {
     "data": {
      "text/plain": [
       "<Response [200]>"
      ]
     },
     "execution_count": 5,
     "metadata": {},
     "output_type": "execute_result"
    }
   ],
   "source": [
    "# Add New Farmer\n",
    "data = {\n",
    " 'FirstName': '1',\n",
    " 'Surname': '1',\n",
    " 'Middlename': '1',\n",
    " 'Telephone': '1',\n",
    " 'Age': '1',\n",
    " 'Gender': '1',\n",
    " 'Language': '1',\n",
    " 'MaritalStatus': '1',\n",
    " 'Bankname': '1',\n",
    " 'Accountno': '1',\n",
    " 'Bvn': '4',\n",
    " 'MeansofID': '1',\n",
    " 'Issuedate': '1',\n",
    " 'Expirydate': '1',\n",
    " 'Nin': '1',\n",
    " 'PermanentAddress': '1',\n",
    " 'Landmark': '1',\n",
    " 'Stateoforigin': '1',\n",
    " 'IsinaGroup': '1',\n",
    " 'ReasonNoGroup': '1',\n",
    " 'Group': '1',\n",
    " 'NumberofMembers': '1',\n",
    " 'FirstNameNok': '1',\n",
    " 'SurnameNok': '1',\n",
    " 'MiddlenameNok': '1',\n",
    " 'RelationshipNok': '1',\n",
    " 'OccupationNok': '1',\n",
    " 'TelephoneNok': '1',\n",
    " 'PermanentAddressNok': '1',\n",
    " 'LandmarkNok': '1',\n",
    " 'NinNok': '1'}\n",
    "\n",
    "requests.post('http://127.0.0.1:5000/api/add/farmer', data=data)"
   ]
  },
  {
   "cell_type": "code",
   "execution_count": null,
   "id": "38614ff0",
   "metadata": {},
   "outputs": [],
   "source": []
  }
 ],
 "metadata": {
  "kernelspec": {
   "display_name": "Python 3",
   "language": "python",
   "name": "python3"
  },
  "language_info": {
   "codemirror_mode": {
    "name": "ipython",
    "version": 3
   },
   "file_extension": ".py",
   "mimetype": "text/x-python",
   "name": "python",
   "nbconvert_exporter": "python",
   "pygments_lexer": "ipython3",
   "version": "3.8.8"
  }
 },
 "nbformat": 4,
 "nbformat_minor": 5
}
