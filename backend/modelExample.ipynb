{
 "cells": [
  {
   "cell_type": "markdown",
   "id": "f3717fd2",
   "metadata": {},
   "source": [
    "## Import all Libraries here"
   ]
  },
  {
   "cell_type": "code",
   "execution_count": 33,
   "id": "c614d505",
   "metadata": {},
   "outputs": [],
   "source": [
    "import pandas as pd\n",
    "import warnings\n",
    "warnings.filterwarnings(\"ignore\")\n",
    "pd.set_option('display.max_colwidth', 250)\n",
    "pd.set_option('display.max_columns', 500)"
   ]
  },
  {
   "cell_type": "markdown",
   "id": "7d20ca9f",
   "metadata": {},
   "source": [
    "#!pip install imblearn\n",
    "from imblearn.over_sampling import SMOTE\n",
    "from imblearn.under_sampling import RandomUnderSampler\n",
    "from imblearn.pipeline import Pipeline\n",
    "from imblearn.over_sampling import RandomOverSampler "
   ]
  },
  {
   "cell_type": "markdown",
   "id": "dfc5f0d3",
   "metadata": {},
   "source": [
    "## **Data Cleaning & Imputation**\n"
   ]
  },
  {
   "cell_type": "code",
   "execution_count": 34,
   "id": "33192836",
   "metadata": {},
   "outputs": [
    {
     "data": {
      "text/plain": [
       "1    81\n",
       "0     2\n",
       "Name: notPayupLoan, dtype: int64"
      ]
     },
     "execution_count": 34,
     "metadata": {},
     "output_type": "execute_result"
    }
   ],
   "source": [
    "ext_baseline3=pd.read_csv(\"ext_baseline3.csv\")\n",
    "ext_baseline3=ext_baseline3.drop(['Unnamed: 0','address(original)','size(original)','intercropCrop','cropVariety','machines(original)'],axis=1)\n",
    "ext_baseline3=ext_baseline3.dropna(axis=0, how='all')\n",
    "ext_baseline3=ext_baseline3.dropna(subset=[\"notPayupLoan\"])\n",
    "cleanup={\"notPayupLoan\":{\"no\":0,\"yes\":1}}\n",
    "ext_baseline3=ext_baseline3.replace(cleanup)\n",
    "ext_baseline3[\"numberOfLand\"]=ext_baseline3[\"numberOfLand\"].fillna(ext_baseline3[\"numberOfLand\"].mean())\n",
    "ext_baseline3[\"size\"]=ext_baseline3[\"size\"].fillna(ext_baseline3[\"size\"].mean())\n",
    "ext_baseline3[\"estimateMonthlyIncome\"]=ext_baseline3[\"estimateMonthlyIncome\"].fillna(ext_baseline3[\"estimateMonthlyIncome\"].median())\n",
    "ext_baseline3[\"applyLoanAmount\"]=ext_baseline3[\"applyLoanAmount\"].fillna(ext_baseline3[\"applyLoanAmount\"].median())\n",
    "ext_baseline3[\"yearsCultivating\"]=ext_baseline3[\"yearsCultivating\"].fillna(ext_baseline3[\"yearsCultivating\"].median())\n",
    "ext_baseline3[\"address\"]=ext_baseline3[\"address\"].fillna(ext_baseline3[\"address\"].mode()[0])\n",
    "ext_baseline3[\"intercropping\"]=ext_baseline3[\"intercropping\"].fillna(ext_baseline3[\"intercropping\"].mode()[0])\n",
    "ext_baseline3.address=ext_baseline3.address.replace({'Akasan taura ':'taura','Akasan taura':'taura'})\n",
    "ext_baseline3.address=ext_baseline3.address.replace({'Gurjawa Kwalam ':'Gurjawa Kwalam'})  \n",
    "ext_baseline3.crop=ext_baseline3.crop.replace({'Oil palm':'Oil Palm'})    \n",
    "ext_baseline3.crop=ext_baseline3.crop.replace({'maize':'Maize'})    \n",
    "ext_baseline3.machines=ext_baseline3.machines.replace({'n':'No','y':'Yes'})    \n",
    "ext_baseline3.notPayupLoan=ext_baseline3.notPayupLoan.replace({'No':1,'Yes':0})    \n",
    "ext_baseline3.notPayupLoan=ext_baseline3.notPayupLoan.astype('int')\n",
    "ext_baseline3[\"notPayupLoan\"].value_counts()"
   ]
  },
  {
   "cell_type": "code",
   "execution_count": 35,
   "id": "1fe4b1f4",
   "metadata": {},
   "outputs": [],
   "source": [
    "ext_baseline3.numberOfLand=ext_baseline3.numberOfLand.astype('int')\n",
    "ext_baseline3.drop('size',axis=1,inplace=True)\n",
    "ext_baseline3['income']=ext_baseline3.estimateMonthlyIncome.astype('int')\n",
    "ext_baseline3.estimateMonthlyIncome[ext_baseline3.income<=50000]='below-50k'\n",
    "ext_baseline3.estimateMonthlyIncome[(ext_baseline3.income>50000)&(ext_baseline3.income<=100000)]='50k-100k'\n",
    "ext_baseline3.estimateMonthlyIncome[(ext_baseline3.income>100000)&(ext_baseline3.income<=250000)]='100k-250k'\n",
    "ext_baseline3.estimateMonthlyIncome[(ext_baseline3.income>250000)&(ext_baseline3.income<=500000)]='250k-500k'\n",
    "ext_baseline3.estimateMonthlyIncome[(ext_baseline3.income>500000)&(ext_baseline3.income<=1000000)]='500k-1m'\n",
    "ext_baseline3.estimateMonthlyIncome[ext_baseline3.income>1000000]='1m-Above'\n",
    "ext_baseline3.drop('income',axis=1,inplace=True)\n",
    "ext_baseline3.estimateMonthlyIncome.value_counts()\n",
    "ext_baseline3['amount']=ext_baseline3.applyLoanAmount.astype('int')\n",
    "#ext_baseline3.applyLoanAmount[ext_baseline3.amount<=50000]='below-50k'\n",
    "#ext_baseline3.applyLoanAmount[(ext_baseline3.amount>50000)&(ext_baseline3.amount<=100000)]='50k-100k'\n",
    "#ext_baseline3.applyLoanAmount[(ext_baseline3.amount>100000)&(ext_baseline3.amount<=250000)]='100k-250k'\n",
    "#ext_baseline3.applyLoanAmount[(ext_baseline3.amount>250000)&(ext_baseline3.amount<=500000)]='250k-500k'\n",
    "#ext_baseline3.applyLoanAmount[(ext_baseline3.amount>500000)&(ext_baseline3.amount<=1000000)]='500k-1m'\n",
    "#ext_baseline3.applyLoanAmount[ext_baseline3.amount>1000000]='1m-Above'\n",
    "ext_baseline3.drop('amount',axis=1,inplace=True)\n",
    "ext_baseline3['years']=ext_baseline3.yearsCultivating.astype('int')\n",
    "ext_baseline3.yearsCultivating[ext_baseline3.years<=5]='below-5'\n",
    "ext_baseline3.yearsCultivating[(ext_baseline3.years>5)&(ext_baseline3.years<=10)]='6-10'\n",
    "ext_baseline3.yearsCultivating[(ext_baseline3.years>10)&(ext_baseline3.years<=20)]='11-20'\n",
    "ext_baseline3.yearsCultivating[(ext_baseline3.years>20)&(ext_baseline3.years<=30)]='21-30'\n",
    "ext_baseline3.yearsCultivating[(ext_baseline3.years>30)&(ext_baseline3.years<=40)]='31-40'\n",
    "ext_baseline3.yearsCultivating[ext_baseline3.years>40]='41-Above'\n",
    "#ext_baseline3.drop('applyLoanAmount',axis=1,inplace=True)\n",
    "ext_baseline3.drop('address',axis=1,inplace=True)\n",
    "ext_baseline3.drop('years',axis=1,inplace=True)"
   ]
  },
  {
   "cell_type": "code",
   "execution_count": null,
   "id": "08857875",
   "metadata": {},
   "outputs": [],
   "source": []
  },
  {
   "cell_type": "markdown",
   "id": "71f7791b",
   "metadata": {},
   "source": [
    "## Split Data before feature generation"
   ]
  },
  {
   "cell_type": "code",
   "execution_count": 36,
   "id": "8d3d79d1",
   "metadata": {},
   "outputs": [],
   "source": [
    "from sklearn.model_selection import train_test_split\n",
    "bl, bl_test = train_test_split(ext_baseline3, test_size=0.3, random_state=123)"
   ]
  },
  {
   "cell_type": "code",
   "execution_count": 37,
   "id": "5aa1216e",
   "metadata": {},
   "outputs": [
    {
     "data": {
      "text/html": [
       "<div>\n",
       "<style scoped>\n",
       "    .dataframe tbody tr th:only-of-type {\n",
       "        vertical-align: middle;\n",
       "    }\n",
       "\n",
       "    .dataframe tbody tr th {\n",
       "        vertical-align: top;\n",
       "    }\n",
       "\n",
       "    .dataframe thead th {\n",
       "        text-align: right;\n",
       "    }\n",
       "</style>\n",
       "<table border=\"1\" class=\"dataframe\">\n",
       "  <thead>\n",
       "    <tr style=\"text-align: right;\">\n",
       "      <th></th>\n",
       "      <th>age</th>\n",
       "      <th>numberOfLand</th>\n",
       "      <th>owner_caretaker</th>\n",
       "      <th>crop</th>\n",
       "      <th>intercropping</th>\n",
       "      <th>machines</th>\n",
       "      <th>estimateMonthlyIncome</th>\n",
       "      <th>applyLoanAmount</th>\n",
       "      <th>yearsCultivating</th>\n",
       "      <th>notPayupLoan</th>\n",
       "    </tr>\n",
       "  </thead>\n",
       "  <tbody>\n",
       "    <tr>\n",
       "      <th>103</th>\n",
       "      <td>45-54</td>\n",
       "      <td>1</td>\n",
       "      <td>Owner</td>\n",
       "      <td>Sorghum</td>\n",
       "      <td>Yes</td>\n",
       "      <td>Yes</td>\n",
       "      <td>below-50k</td>\n",
       "      <td>200000.0</td>\n",
       "      <td>11-20</td>\n",
       "      <td>1</td>\n",
       "    </tr>\n",
       "    <tr>\n",
       "      <th>109</th>\n",
       "      <td>25-34</td>\n",
       "      <td>3</td>\n",
       "      <td>Owner</td>\n",
       "      <td>Soya bean</td>\n",
       "      <td>No</td>\n",
       "      <td>Yes</td>\n",
       "      <td>100k-250k</td>\n",
       "      <td>1500000.0</td>\n",
       "      <td>below-5</td>\n",
       "      <td>1</td>\n",
       "    </tr>\n",
       "    <tr>\n",
       "      <th>7</th>\n",
       "      <td>45-54</td>\n",
       "      <td>2</td>\n",
       "      <td>Owner</td>\n",
       "      <td>sesame</td>\n",
       "      <td>Yes</td>\n",
       "      <td>Yes</td>\n",
       "      <td>50k-100k</td>\n",
       "      <td>250000.0</td>\n",
       "      <td>11-20</td>\n",
       "      <td>1</td>\n",
       "    </tr>\n",
       "    <tr>\n",
       "      <th>114</th>\n",
       "      <td>25-34</td>\n",
       "      <td>5</td>\n",
       "      <td>Owner</td>\n",
       "      <td>Cucumber</td>\n",
       "      <td>Yes</td>\n",
       "      <td>No</td>\n",
       "      <td>250k-500k</td>\n",
       "      <td>1600000.0</td>\n",
       "      <td>6-10</td>\n",
       "      <td>1</td>\n",
       "    </tr>\n",
       "    <tr>\n",
       "      <th>35</th>\n",
       "      <td>35-44</td>\n",
       "      <td>2</td>\n",
       "      <td>Inherited</td>\n",
       "      <td>Rice</td>\n",
       "      <td>No</td>\n",
       "      <td>Yes</td>\n",
       "      <td>50k-100k</td>\n",
       "      <td>200000.0</td>\n",
       "      <td>11-20</td>\n",
       "      <td>1</td>\n",
       "    </tr>\n",
       "  </tbody>\n",
       "</table>\n",
       "</div>"
      ],
      "text/plain": [
       "       age  numberOfLand owner_caretaker       crop intercropping machines  \\\n",
       "103  45-54             1           Owner    Sorghum           Yes      Yes   \n",
       "109  25-34             3           Owner  Soya bean            No      Yes   \n",
       "7    45-54             2           Owner     sesame           Yes      Yes   \n",
       "114  25-34             5           Owner   Cucumber           Yes       No   \n",
       "35   35-44             2       Inherited       Rice            No      Yes   \n",
       "\n",
       "    estimateMonthlyIncome  applyLoanAmount yearsCultivating  notPayupLoan  \n",
       "103             below-50k         200000.0            11-20             1  \n",
       "109             100k-250k        1500000.0          below-5             1  \n",
       "7                50k-100k         250000.0            11-20             1  \n",
       "114             250k-500k        1600000.0             6-10             1  \n",
       "35               50k-100k         200000.0            11-20             1  "
      ]
     },
     "execution_count": 37,
     "metadata": {},
     "output_type": "execute_result"
    }
   ],
   "source": [
    "bl_test.head()"
   ]
  },
  {
   "cell_type": "code",
   "execution_count": 38,
   "id": "bdf13208",
   "metadata": {},
   "outputs": [
    {
     "data": {
      "text/plain": [
       "Index(['age', 'numberOfLand', 'owner_caretaker', 'crop', 'intercropping',\n",
       "       'machines', 'estimateMonthlyIncome', 'applyLoanAmount',\n",
       "       'yearsCultivating', 'notPayupLoan'],\n",
       "      dtype='object')"
      ]
     },
     "execution_count": 38,
     "metadata": {},
     "output_type": "execute_result"
    }
   ],
   "source": [
    "bl_test.columns"
   ]
  },
  {
   "cell_type": "markdown",
   "id": "33b0a162",
   "metadata": {},
   "source": [
    "## **Feature Engineering** "
   ]
  },
  {
   "cell_type": "code",
   "execution_count": 39,
   "id": "d55de6e0",
   "metadata": {},
   "outputs": [],
   "source": [
    "def preprocess_yearsCultivating(df):\n",
    "    cleanup={\"yearsCultivating\":{'Less than 5 years':1,\"below-5\":1,\n",
    "                                 '5 to 10 years':2,\"6-10\":2,\n",
    "                                \"11-20\":3,'10 to 15 years':3,'15 to 20 years':3,\n",
    "                                \"21-30\":4,\"31-40\":4,\"41-Above\":4,'20 to 25 years':4,'25 years and more':4}}\n",
    "    df=df.replace(cleanup)\n",
    "    return(df)\n",
    "def preprocess_estimateMonthlyIncome(df):\n",
    "    cleanup={\"estimateMonthlyIncome\":{\"below-50k\":1,\"50k-100k\":1,\"100k-250k\":1,\"250k-500k\":1,'Less than 500,000':1,\n",
    "                                      \"500k-1m\":2,'500,000 to 1,000,000':2,\n",
    "                                      \"1m-Above\":3,'1,000,000 and more':3}}\n",
    "    df=df.replace(cleanup)\n",
    "    return(df)\n",
    "#def preprocess_applyLoanAmount(df):\n",
    "    #cleanup={\"applyLoanAmount\":{\"below-50k\":50,\"50k-100k\":100,\"100k-250k\":250,\"250k-500k\":500,\"500k-1m\":500,\"1m-Above\":1000}}\n",
    "    #df=df.replace(cleanup)\n",
    "    #return(df)\n",
    "def preprocess_intercropping(df):\n",
    "    cleanup={\"intercropping\":{\"No\":1,'Mixed cropping':1,\n",
    "                              \"Yes\":2,'Intercropping':2}}\n",
    "    df=df.replace(cleanup)\n",
    "    return(df)\n",
    "def preprocess_machines(df):\n",
    "    cleanup={\"machines\":{\"No\":0,\"Yes\":2}}\n",
    "    df=df.replace(cleanup)\n",
    "    return(df)\n",
    "def preprocess_owner_caretaker(df):\n",
    "    cleanup={\"owner_caretaker\":{\"Owner\":3,\n",
    "                                \"Rental\":1,\"Lease\":1,\"Inherited\":1,\n",
    "                                \"Caretaker\":1}}\n",
    "    df=df.replace(cleanup)\n",
    "    return(df)\n",
    "\n",
    "def preprocess_crop(df):\n",
    "    cleanup={\"crop\":{\"Cocoa\":2,\"sesame\":2,\"Sorghum\":1,\"Rice\":1,'Food crops':1,'Cash crops':2,\n",
    "                     \"Millet\":1,'Maize':1,'Tomato':1,'Oil Palm':2, 'Cassava':1}}\n",
    "    df=df.replace(cleanup)\n",
    "    crop=[1,2]\n",
    "    for x in crop:\n",
    "            df['crop'+str(x)]=(df.crop==x).astype('int')\n",
    "    df.drop('crop',axis=1,inplace=True)\n",
    "    return df\n",
    "\n",
    "def preprocess_age(df):\n",
    "    cleanup={\"age\":{\"25-34\":2,\"25 or less\":1,\"35 to 45\":3,\"45 or more\":4,'45-54':4,'65-Above':4,\n",
    "                     \"35-44\":3,'55-64':4}}\n",
    "    age=[1,2,3,4]\n",
    "    for x in age:\n",
    "            df['age'+str(x)]=(df.age==x).astype('int')\n",
    "    df.drop('age',axis=1,inplace=True)\n",
    "    return df\n",
    "def preprocess_numberOfLand(df):\n",
    "    df.numberOfLand[df.numberOfLand=='6-Above']=6\n",
    "    df.numberOfLand[df.numberOfLand=='Less than 3 farms']=2\n",
    "    df.numberOfLand[df.numberOfLand=='More than 3 farms']=3\n",
    "    df.numberOfLand=df.numberOfLand.astype('int')\n",
    "    df.numberOfLand=((df.numberOfLand>=3).astype('int'))+1\n",
    "    return df"
   ]
  },
  {
   "cell_type": "code",
   "execution_count": 40,
   "id": "ff2c8f43",
   "metadata": {},
   "outputs": [],
   "source": [
    "def feature_engineer(df):\n",
    "    # Generate your features here!!!\n",
    "    df.applyLoanAmount=df.applyLoanAmount.astype('int')\n",
    "    df=preprocess_numberOfLand(df)\n",
    "    df=preprocess_intercropping(preprocess_yearsCultivating(df))\n",
    "    df=preprocess_machines(preprocess_estimateMonthlyIncome(df))\n",
    "    df=preprocess_owner_caretaker(df)\n",
    "    #df = preprocess_applyLoanAmount(df)\n",
    "    df=preprocess_crop(df)\n",
    "    df=preprocess_age(df)\n",
    "    #df=preprocess_address(df)\n",
    "    return df"
   ]
  },
  {
   "cell_type": "code",
   "execution_count": 41,
   "id": "a3356a2e",
   "metadata": {},
   "outputs": [],
   "source": [
    "cols=['age', 'number_of_land', 'owner_caretaker', 'crop',\n",
    "            'intercropping', 'machines', 'estimate_monthly_income','years_cultivating','applyLoanAmount']"
   ]
  },
  {
   "cell_type": "code",
   "execution_count": 42,
   "id": "1262c9c3",
   "metadata": {},
   "outputs": [
    {
     "data": {
      "text/html": [
       "<div>\n",
       "<style scoped>\n",
       "    .dataframe tbody tr th:only-of-type {\n",
       "        vertical-align: middle;\n",
       "    }\n",
       "\n",
       "    .dataframe tbody tr th {\n",
       "        vertical-align: top;\n",
       "    }\n",
       "\n",
       "    .dataframe thead th {\n",
       "        text-align: right;\n",
       "    }\n",
       "</style>\n",
       "<table border=\"1\" class=\"dataframe\">\n",
       "  <thead>\n",
       "    <tr style=\"text-align: right;\">\n",
       "      <th></th>\n",
       "      <th>numberOfLand</th>\n",
       "      <th>owner_caretaker</th>\n",
       "      <th>intercropping</th>\n",
       "      <th>machines</th>\n",
       "      <th>estimateMonthlyIncome</th>\n",
       "      <th>applyLoanAmount</th>\n",
       "      <th>yearsCultivating</th>\n",
       "      <th>notPayupLoan</th>\n",
       "      <th>crop1</th>\n",
       "      <th>crop2</th>\n",
       "      <th>age1</th>\n",
       "      <th>age2</th>\n",
       "      <th>age3</th>\n",
       "      <th>age4</th>\n",
       "    </tr>\n",
       "  </thead>\n",
       "  <tbody>\n",
       "    <tr>\n",
       "      <th>98</th>\n",
       "      <td>1</td>\n",
       "      <td>3</td>\n",
       "      <td>2</td>\n",
       "      <td>0</td>\n",
       "      <td>1</td>\n",
       "      <td>20000</td>\n",
       "      <td>3</td>\n",
       "      <td>1</td>\n",
       "      <td>0</td>\n",
       "      <td>1</td>\n",
       "      <td>0</td>\n",
       "      <td>0</td>\n",
       "      <td>0</td>\n",
       "      <td>0</td>\n",
       "    </tr>\n",
       "    <tr>\n",
       "      <th>59</th>\n",
       "      <td>1</td>\n",
       "      <td>3</td>\n",
       "      <td>1</td>\n",
       "      <td>2</td>\n",
       "      <td>1</td>\n",
       "      <td>160000</td>\n",
       "      <td>2</td>\n",
       "      <td>1</td>\n",
       "      <td>0</td>\n",
       "      <td>1</td>\n",
       "      <td>0</td>\n",
       "      <td>0</td>\n",
       "      <td>0</td>\n",
       "      <td>0</td>\n",
       "    </tr>\n",
       "    <tr>\n",
       "      <th>97</th>\n",
       "      <td>1</td>\n",
       "      <td>3</td>\n",
       "      <td>2</td>\n",
       "      <td>2</td>\n",
       "      <td>1</td>\n",
       "      <td>120000</td>\n",
       "      <td>3</td>\n",
       "      <td>1</td>\n",
       "      <td>1</td>\n",
       "      <td>0</td>\n",
       "      <td>0</td>\n",
       "      <td>0</td>\n",
       "      <td>0</td>\n",
       "      <td>0</td>\n",
       "    </tr>\n",
       "    <tr>\n",
       "      <th>26</th>\n",
       "      <td>1</td>\n",
       "      <td>1</td>\n",
       "      <td>2</td>\n",
       "      <td>2</td>\n",
       "      <td>1</td>\n",
       "      <td>300000</td>\n",
       "      <td>3</td>\n",
       "      <td>1</td>\n",
       "      <td>1</td>\n",
       "      <td>0</td>\n",
       "      <td>0</td>\n",
       "      <td>0</td>\n",
       "      <td>0</td>\n",
       "      <td>0</td>\n",
       "    </tr>\n",
       "    <tr>\n",
       "      <th>17</th>\n",
       "      <td>1</td>\n",
       "      <td>3</td>\n",
       "      <td>2</td>\n",
       "      <td>2</td>\n",
       "      <td>1</td>\n",
       "      <td>180000</td>\n",
       "      <td>4</td>\n",
       "      <td>1</td>\n",
       "      <td>1</td>\n",
       "      <td>0</td>\n",
       "      <td>0</td>\n",
       "      <td>0</td>\n",
       "      <td>0</td>\n",
       "      <td>0</td>\n",
       "    </tr>\n",
       "  </tbody>\n",
       "</table>\n",
       "</div>"
      ],
      "text/plain": [
       "    numberOfLand  owner_caretaker  intercropping  machines  \\\n",
       "98             1                3              2         0   \n",
       "59             1                3              1         2   \n",
       "97             1                3              2         2   \n",
       "26             1                1              2         2   \n",
       "17             1                3              2         2   \n",
       "\n",
       "    estimateMonthlyIncome  applyLoanAmount  yearsCultivating  notPayupLoan  \\\n",
       "98                      1            20000                 3             1   \n",
       "59                      1           160000                 2             1   \n",
       "97                      1           120000                 3             1   \n",
       "26                      1           300000                 3             1   \n",
       "17                      1           180000                 4             1   \n",
       "\n",
       "    crop1  crop2  age1  age2  age3  age4  \n",
       "98      0      1     0     0     0     0  \n",
       "59      0      1     0     0     0     0  \n",
       "97      1      0     0     0     0     0  \n",
       "26      1      0     0     0     0     0  \n",
       "17      1      0     0     0     0     0  "
      ]
     },
     "execution_count": 42,
     "metadata": {},
     "output_type": "execute_result"
    }
   ],
   "source": [
    "# run feature engineering on train set\n",
    "bl = feature_engineer(bl)\n",
    "bl.head()"
   ]
  },
  {
   "cell_type": "markdown",
   "id": "d07986c4",
   "metadata": {},
   "source": [
    "## Train & Save Model (you can name it with your notebook's name)"
   ]
  },
  {
   "cell_type": "code",
   "execution_count": 43,
   "id": "88e809f2",
   "metadata": {},
   "outputs": [],
   "source": [
    "bl=bl.rename({'numberOfLand':'number_of_land','estimateMonthlyIncome':'estimate_monthly_income','yearsCultivating':'years_cultivating','applyLoanAmount':'apply_loan_amount'},axis=1)"
   ]
  },
  {
   "cell_type": "code",
   "execution_count": 44,
   "id": "7899639b",
   "metadata": {},
   "outputs": [],
   "source": [
    "X=bl.drop([\"notPayupLoan\"],axis=1)\n",
    "y=bl[\"notPayupLoan\"]"
   ]
  },
  {
   "cell_type": "code",
   "execution_count": 45,
   "id": "f6022db3",
   "metadata": {},
   "outputs": [],
   "source": [
    "from sklearn.linear_model import LogisticRegression\n",
    "classifier =  LogisticRegression()\n",
    "classifier.fit(X, y)\n",
    "### Create a Pickle file using serialization \n",
    "import pickle\n",
    "pickle_out = open(\"modelExample.pkl\",\"wb\")\n",
    "pickle.dump(classifier, pickle_out)\n",
    "pickle_out.close()"
   ]
  },
  {
   "cell_type": "markdown",
   "id": "1c25073e",
   "metadata": {},
   "source": [
    "## Load Test Set"
   ]
  },
  {
   "cell_type": "code",
   "execution_count": 46,
   "id": "c9c9bd23",
   "metadata": {},
   "outputs": [],
   "source": [
    "# run feature engineering on test set\n",
    "bl_test = feature_engineer(bl_test)"
   ]
  },
  {
   "cell_type": "code",
   "execution_count": 47,
   "id": "07d929c7",
   "metadata": {},
   "outputs": [],
   "source": [
    "bl_test=bl_test.rename({'numberOfLand':'number_of_land','estimateMonthlyIncome':'estimate_monthly_income','yearsCultivating':'years_cultivating','applyLoanAmount':'apply_loan_amount'},axis=1)"
   ]
  },
  {
   "cell_type": "code",
   "execution_count": 48,
   "id": "8e1e2728",
   "metadata": {},
   "outputs": [],
   "source": [
    "X_test=bl_test.drop([\"notPayupLoan\"],axis=1)\n",
    "y_test=bl_test[\"notPayupLoan\"]"
   ]
  },
  {
   "cell_type": "markdown",
   "id": "fbd5d3fb",
   "metadata": {},
   "source": [
    "## Load Model"
   ]
  },
  {
   "cell_type": "code",
   "execution_count": 49,
   "id": "dac83f1b",
   "metadata": {},
   "outputs": [],
   "source": [
    "model = pickle.load(open('modelExample.pkl','rb'))"
   ]
  },
  {
   "cell_type": "code",
   "execution_count": 50,
   "id": "842bbf98",
   "metadata": {},
   "outputs": [],
   "source": [
    "y_pred = model.predict_proba(X_test)[:,1]\n",
    "y_p = model.predict(X_test)"
   ]
  },
  {
   "cell_type": "code",
   "execution_count": 51,
   "id": "4597851d",
   "metadata": {},
   "outputs": [
    {
     "data": {
      "text/plain": [
       "Index(['number_of_land', 'owner_caretaker', 'intercropping', 'machines',\n",
       "       'estimate_monthly_income', 'apply_loan_amount', 'years_cultivating',\n",
       "       'crop1', 'crop2', 'age1', 'age2', 'age3', 'age4'],\n",
       "      dtype='object')"
      ]
     },
     "execution_count": 51,
     "metadata": {},
     "output_type": "execute_result"
    }
   ],
   "source": [
    "X_test.columns"
   ]
  },
  {
   "cell_type": "code",
   "execution_count": 52,
   "id": "9d0833e5",
   "metadata": {},
   "outputs": [],
   "source": [
    "from sklearn.metrics import classification_report, confusion_matrix, accuracy_score,f1_score, roc_auc_score\n",
    "#print(confusion_matrix(y_test,y_pred))"
   ]
  },
  {
   "cell_type": "code",
   "execution_count": 53,
   "id": "66b9ba31",
   "metadata": {},
   "outputs": [
    {
     "name": "stdout",
     "output_type": "stream",
     "text": [
      "0.625\n"
     ]
    }
   ],
   "source": [
    "print(roc_auc_score(y_test, y_pred))"
   ]
  },
  {
   "cell_type": "code",
   "execution_count": 54,
   "id": "8855bbd6",
   "metadata": {},
   "outputs": [
    {
     "name": "stdout",
     "output_type": "stream",
     "text": [
      "0.96\n"
     ]
    }
   ],
   "source": [
    "print(accuracy_score(y_test, y_p))"
   ]
  },
  {
   "cell_type": "code",
   "execution_count": null,
   "id": "59990ef9",
   "metadata": {},
   "outputs": [],
   "source": []
  },
  {
   "cell_type": "code",
   "execution_count": null,
   "id": "ea72c43b",
   "metadata": {},
   "outputs": [],
   "source": []
  }
 ],
 "metadata": {
  "kernelspec": {
   "display_name": "Python 3",
   "language": "python",
   "name": "python3"
  },
  "language_info": {
   "codemirror_mode": {
    "name": "ipython",
    "version": 3
   },
   "file_extension": ".py",
   "mimetype": "text/x-python",
   "name": "python",
   "nbconvert_exporter": "python",
   "pygments_lexer": "ipython3",
   "version": "3.10.8 (tags/v3.10.8:aaaf517, Oct 11 2022, 16:50:30) [MSC v.1933 64 bit (AMD64)]"
  },
  "vscode": {
   "interpreter": {
    "hash": "369f2c481f4da34e4445cda3fffd2e751bd1c4d706f27375911949ba6bb62e1c"
   }
  }
 },
 "nbformat": 4,
 "nbformat_minor": 5
}
