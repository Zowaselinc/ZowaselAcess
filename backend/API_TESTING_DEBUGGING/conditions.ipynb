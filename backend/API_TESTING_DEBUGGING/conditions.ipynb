{
 "cells": [
  {
   "cell_type": "code",
   "execution_count": 1,
   "id": "7821d168",
   "metadata": {},
   "outputs": [],
   "source": [
    "import requests"
   ]
  },
  {
   "cell_type": "markdown",
   "id": "b5b6c8aa",
   "metadata": {},
   "source": [
    "# conditions"
   ]
  },
  {
   "cell_type": "code",
   "execution_count": 2,
   "id": "ce7fd9e2",
   "metadata": {},
   "outputs": [
    {
     "data": {
      "text/plain": [
       "{'id': 4,\n",
       " 'bvn': '1',\n",
       " 'duration': '1',\n",
       " 'seller': '1',\n",
       " 'seller_mou': '1',\n",
       " 'CropYieldPrediction': '0',\n",
       " 'CropExpectedMarketValue': '0',\n",
       " 'ZowaselMarketplacePriceOffers': '0'}"
      ]
     },
     "execution_count": 2,
     "metadata": {},
     "output_type": "execute_result"
    }
   ],
   "source": [
    "# Load farmer with Bvn \n",
    "requests.get('http://127.0.0.1:5000/api/conditions/bvn=1').json()"
   ]
  },
  {
   "cell_type": "code",
   "execution_count": 3,
   "id": "01ee01f3",
   "metadata": {},
   "outputs": [
    {
     "data": {
      "text/plain": [
       "{'error': True,\n",
       " 'message': 'Sorry your request can not be processed at the moment',\n",
       " 'data': 'bvn Not Found'}"
      ]
     },
     "execution_count": 3,
     "metadata": {},
     "output_type": "execute_result"
    }
   ],
   "source": [
    "# Load farmer with Bvn \n",
    "requests.get('http://127.0.0.1:5000/api/conditions/bvn=2').json()"
   ]
  },
  {
   "cell_type": "code",
   "execution_count": 32,
   "id": "a9a1c9aa",
   "metadata": {},
   "outputs": [
    {
     "data": {
      "text/plain": [
       "[{'id': 1,\n",
       "  'bvn': '40',\n",
       "  'duration': '3',\n",
       "  'seller': '3',\n",
       "  'seller_mou': '3',\n",
       "  'CropYieldPrediction': '0',\n",
       "  'CropExpectedMarketValue': '0',\n",
       "  'ZowaselMarketplacePriceOffers': '0'},\n",
       " {'id': 2,\n",
       "  'bvn': '400',\n",
       "  'duration': '3',\n",
       "  'seller': '3',\n",
       "  'seller_mou': '3',\n",
       "  'CropYieldPrediction': '0',\n",
       "  'CropExpectedMarketValue': '0',\n",
       "  'ZowaselMarketplacePriceOffers': '0'},\n",
       " {'id': 3,\n",
       "  'bvn': '4000',\n",
       "  'duration': '3',\n",
       "  'seller': '3',\n",
       "  'seller_mou': '3',\n",
       "  'CropYieldPrediction': '0',\n",
       "  'CropExpectedMarketValue': '0',\n",
       "  'ZowaselMarketplacePriceOffers': '0'},\n",
       " {'id': 4,\n",
       "  'bvn': '1',\n",
       "  'duration': '1',\n",
       "  'seller': '1',\n",
       "  'seller_mou': '1',\n",
       "  'CropYieldPrediction': '0',\n",
       "  'CropExpectedMarketValue': '0',\n",
       "  'ZowaselMarketplacePriceOffers': '0'},\n",
       " {'id': 5,\n",
       "  'bvn': '40000',\n",
       "  'duration': '3',\n",
       "  'seller': '3',\n",
       "  'seller_mou': '3',\n",
       "  'CropYieldPrediction': '0',\n",
       "  'CropExpectedMarketValue': '0',\n",
       "  'ZowaselMarketplacePriceOffers': '0'},\n",
       " {'id': 6,\n",
       "  'bvn': '400000',\n",
       "  'duration': '3',\n",
       "  'seller': '3',\n",
       "  'seller_mou': '3',\n",
       "  'CropYieldPrediction': '0',\n",
       "  'CropExpectedMarketValue': '0',\n",
       "  'ZowaselMarketplacePriceOffers': '0'},\n",
       " {'id': 7,\n",
       "  'bvn': '667',\n",
       "  'duration': 'before harvest period',\n",
       "  'seller': 'Yes',\n",
       "  'seller_mou': 'signed',\n",
       "  'CropYieldPrediction': '0',\n",
       "  'CropExpectedMarketValue': '0',\n",
       "  'ZowaselMarketplacePriceOffers': '0'},\n",
       " {'id': 8,\n",
       "  'bvn': '5',\n",
       "  'duration': 'same as harvest period',\n",
       "  'seller': 'Yes',\n",
       "  'seller_mou': 'signed',\n",
       "  'CropYieldPrediction': '0',\n",
       "  'CropExpectedMarketValue': '0',\n",
       "  'ZowaselMarketplacePriceOffers': '0'},\n",
       " {'id': 9,\n",
       "  'bvn': 'frr',\n",
       "  'duration': 'before harvest period',\n",
       "  'seller': 'Yes',\n",
       "  'seller_mou': 'signed',\n",
       "  'CropYieldPrediction': '0',\n",
       "  'CropExpectedMarketValue': '0',\n",
       "  'ZowaselMarketplacePriceOffers': '0'},\n",
       " {'id': 10,\n",
       "  'bvn': 'csd',\n",
       "  'duration': 'before harvest period',\n",
       "  'seller': 'No',\n",
       "  'seller_mou': 'signed',\n",
       "  'CropYieldPrediction': '0',\n",
       "  'CropExpectedMarketValue': '0',\n",
       "  'ZowaselMarketplacePriceOffers': '0'},\n",
       " {'id': 11,\n",
       "  'bvn': 'jvio',\n",
       "  'duration': 'same as harvest period',\n",
       "  'seller': 'Yes',\n",
       "  'seller_mou': 'signed',\n",
       "  'CropYieldPrediction': '0',\n",
       "  'CropExpectedMarketValue': '0',\n",
       "  'ZowaselMarketplacePriceOffers': '0'},\n",
       " {'id': 12,\n",
       "  'bvn': '44',\n",
       "  'duration': 'same as harvest period',\n",
       "  'seller': 'Yes',\n",
       "  'seller_mou': 'signed',\n",
       "  'CropYieldPrediction': '0',\n",
       "  'CropExpectedMarketValue': '0',\n",
       "  'ZowaselMarketplacePriceOffers': '0'},\n",
       " {'id': 13,\n",
       "  'bvn': '100',\n",
       "  'duration': '1',\n",
       "  'seller': '1',\n",
       "  'seller_mou': '1',\n",
       "  'CropYieldPrediction': '0',\n",
       "  'CropExpectedMarketValue': '0',\n",
       "  'ZowaselMarketplacePriceOffers': '0'},\n",
       " {'id': 14,\n",
       "  'bvn': '555',\n",
       "  'duration': 'same as harvest period',\n",
       "  'seller': 'Yes',\n",
       "  'seller_mou': 'signed',\n",
       "  'CropYieldPrediction': '0',\n",
       "  'CropExpectedMarketValue': '0',\n",
       "  'ZowaselMarketplacePriceOffers': '0'},\n",
       " {'id': 15,\n",
       "  'bvn': '839ur9',\n",
       "  'duration': 'before harvest period',\n",
       "  'seller': 'Yes',\n",
       "  'seller_mou': 'signed',\n",
       "  'CropYieldPrediction': '0',\n",
       "  'CropExpectedMarketValue': '0',\n",
       "  'ZowaselMarketplacePriceOffers': '0'},\n",
       " {'id': 16,\n",
       "  'bvn': '7777',\n",
       "  'duration': 'after harvest period',\n",
       "  'seller': 'Yes',\n",
       "  'seller_mou': 'signed',\n",
       "  'CropYieldPrediction': '0',\n",
       "  'CropExpectedMarketValue': '0',\n",
       "  'ZowaselMarketplacePriceOffers': '0'}]"
      ]
     },
     "execution_count": 32,
     "metadata": {},
     "output_type": "execute_result"
    }
   ],
   "source": [
    "# Load all Farmers\n",
    "requests.get('http://127.0.0.1:5000/api/conditions/all').json()"
   ]
  },
  {
   "cell_type": "code",
   "execution_count": 30,
   "id": "4aac6000",
   "metadata": {},
   "outputs": [
    {
     "ename": "NameError",
     "evalue": "name 'bvn' is not defined",
     "output_type": "error",
     "traceback": [
      "\u001b[1;31m---------------------------------------------------------------------------\u001b[0m",
      "\u001b[1;31mNameError\u001b[0m                                 Traceback (most recent call last)",
      "\u001b[1;32m<ipython-input-30-dfa10352fe85>\u001b[0m in \u001b[0;36m<module>\u001b[1;34m\u001b[0m\n\u001b[0;32m      1\u001b[0m \u001b[1;31m# Add New Farmer\u001b[0m\u001b[1;33m\u001b[0m\u001b[1;33m\u001b[0m\u001b[1;33m\u001b[0m\u001b[0m\n\u001b[0;32m      2\u001b[0m data = {\n\u001b[1;32m----> 3\u001b[1;33m       \u001b[0mbvn\u001b[0m\u001b[1;33m:\u001b[0m\u001b[1;36m1000\u001b[0m\u001b[1;33m,\u001b[0m\u001b[1;33m\u001b[0m\u001b[1;33m\u001b[0m\u001b[0m\n\u001b[0m\u001b[0;32m      4\u001b[0m         \u001b[0mduration\u001b[0m\u001b[1;33m:\u001b[0m\u001b[1;36m1\u001b[0m\u001b[1;33m,\u001b[0m\u001b[0mseller\u001b[0m\u001b[1;33m:\u001b[0m\u001b[1;36m1\u001b[0m\u001b[1;33m,\u001b[0m\u001b[0mseller_mou\u001b[0m\u001b[1;33m:\u001b[0m\u001b[1;36m1\u001b[0m\u001b[1;33m\u001b[0m\u001b[1;33m\u001b[0m\u001b[0m\n\u001b[0;32m      5\u001b[0m }\n",
      "\u001b[1;31mNameError\u001b[0m: name 'bvn' is not defined"
     ]
    }
   ],
   "source": [
    "# Add New Farmer\n",
    "data = {\n",
    "      bvn:1000,\n",
    "        duration:1,seller:1,seller_mou:1\n",
    "}\n",
    "\n",
    "requests.post('http://127.0.0.1:5000/api/5c_conditions/add', data=data)#.json()"
   ]
  },
  {
   "cell_type": "markdown",
   "id": "c556f613",
   "metadata": {},
   "source": [
    "# request merging\n",
    "# 5c/conditions "
   ]
  },
  {
   "cell_type": "code",
   "execution_count": 6,
   "id": "441df68d",
   "metadata": {},
   "outputs": [
    {
     "data": {
      "text/plain": [
       "{'conditions': {'id': 4,\n",
       "  'bvn': '1',\n",
       "  'duration': '1',\n",
       "  'seller': '1',\n",
       "  'seller_mou': '1',\n",
       "  'CropYieldPrediction': '0',\n",
       "  'CropExpectedMarketValue': '0',\n",
       "  'ZowaselMarketplacePriceOffers': '0'}}"
      ]
     },
     "execution_count": 6,
     "metadata": {},
     "output_type": "execute_result"
    }
   ],
   "source": [
    "# Load farmer with Bvn \n",
    "requests.get('http://127.0.0.1:5000/api/5c_conditions/bvn=1').json()"
   ]
  },
  {
   "cell_type": "code",
   "execution_count": 7,
   "id": "65a5a9bc",
   "metadata": {},
   "outputs": [
    {
     "data": {
      "text/plain": [
       "{'message': 'success'}"
      ]
     },
     "execution_count": 7,
     "metadata": {},
     "output_type": "execute_result"
    }
   ],
   "source": [
    "# Load farmer with Bvn \n",
    "requests.delete('http://127.0.0.1:5000/api/5c_conditions/bvn=4').json()"
   ]
  },
  {
   "cell_type": "code",
   "execution_count": 11,
   "id": "38614ff0",
   "metadata": {},
   "outputs": [
    {
     "data": {
      "text/plain": [
       "[{'id': 1,\n",
       "  'bvn': '40',\n",
       "  'duration': '3',\n",
       "  'seller': '3',\n",
       "  'seller_mou': '3',\n",
       "  'CropYieldPrediction': '0',\n",
       "  'CropExpectedMarketValue': '0',\n",
       "  'ZowaselMarketplacePriceOffers': '0'},\n",
       " {'id': 2,\n",
       "  'bvn': '400',\n",
       "  'duration': '3',\n",
       "  'seller': '3',\n",
       "  'seller_mou': '3',\n",
       "  'CropYieldPrediction': '0',\n",
       "  'CropExpectedMarketValue': '0',\n",
       "  'ZowaselMarketplacePriceOffers': '0'},\n",
       " {'id': 3,\n",
       "  'bvn': '4000',\n",
       "  'duration': '3',\n",
       "  'seller': '3',\n",
       "  'seller_mou': '3',\n",
       "  'CropYieldPrediction': '0',\n",
       "  'CropExpectedMarketValue': '0',\n",
       "  'ZowaselMarketplacePriceOffers': '0'},\n",
       " {'id': 4,\n",
       "  'bvn': '1',\n",
       "  'duration': '1',\n",
       "  'seller': '1',\n",
       "  'seller_mou': '1',\n",
       "  'CropYieldPrediction': '0',\n",
       "  'CropExpectedMarketValue': '0',\n",
       "  'ZowaselMarketplacePriceOffers': '0'},\n",
       " {'id': 5,\n",
       "  'bvn': '40000',\n",
       "  'duration': '3',\n",
       "  'seller': '3',\n",
       "  'seller_mou': '3',\n",
       "  'CropYieldPrediction': '0',\n",
       "  'CropExpectedMarketValue': '0',\n",
       "  'ZowaselMarketplacePriceOffers': '0'},\n",
       " {'id': 6,\n",
       "  'bvn': '400000',\n",
       "  'duration': '3',\n",
       "  'seller': '3',\n",
       "  'seller_mou': '3',\n",
       "  'CropYieldPrediction': '0',\n",
       "  'CropExpectedMarketValue': '0',\n",
       "  'ZowaselMarketplacePriceOffers': '0'}]"
      ]
     },
     "execution_count": 11,
     "metadata": {},
     "output_type": "execute_result"
    }
   ],
   "source": [
    "# Load all Farmers\n",
    "requests.get('http://127.0.0.1:5000/api/conditions/all').json()"
   ]
  },
  {
   "cell_type": "code",
   "execution_count": 9,
   "id": "32420bcf",
   "metadata": {},
   "outputs": [
    {
     "data": {
      "text/plain": [
       "{'id': None,\n",
       " 'bvn': '1',\n",
       " 'duration': '1',\n",
       " 'seller': '1',\n",
       " 'seller_mou': '1',\n",
       " 'CropYieldPrediction': None,\n",
       " 'CropExpectedMarketValue': None,\n",
       " 'ZowaselMarketplacePriceOffers': None}"
      ]
     },
     "execution_count": 9,
     "metadata": {},
     "output_type": "execute_result"
    }
   ],
   "source": [
    "# Add New Farmer\n",
    "data = {\n",
    "'bvn':1,\n",
    "        'duration':1,'seller':1,'seller_mou':1\n",
    "}\n",
    "\n",
    "requests.post('http://127.0.0.1:5000/api/5c_conditions/add', data=data).json()"
   ]
  },
  {
   "cell_type": "code",
   "execution_count": null,
   "id": "c429fee9",
   "metadata": {},
   "outputs": [],
   "source": []
  }
 ],
 "metadata": {
  "kernelspec": {
   "display_name": "Python 3",
   "language": "python",
   "name": "python3"
  },
  "language_info": {
   "codemirror_mode": {
    "name": "ipython",
    "version": 3
   },
   "file_extension": ".py",
   "mimetype": "text/x-python",
   "name": "python",
   "nbconvert_exporter": "python",
   "pygments_lexer": "ipython3",
   "version": "3.8.8"
  }
 },
 "nbformat": 4,
 "nbformat_minor": 5
}
