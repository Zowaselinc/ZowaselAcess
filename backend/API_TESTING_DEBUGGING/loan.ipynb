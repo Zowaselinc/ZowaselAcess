{
 "cells": [
  {
   "cell_type": "code",
   "execution_count": 21,
   "id": "7821d168",
   "metadata": {},
   "outputs": [],
   "source": [
    "import requests"
   ]
  },
  {
   "cell_type": "markdown",
   "id": "b5b6c8aa",
   "metadata": {},
   "source": [
    "# loan"
   ]
  },
  {
   "cell_type": "code",
   "execution_count": 22,
   "id": "a9a1c9aa",
   "metadata": {},
   "outputs": [
    {
     "data": {
      "text/plain": [
       "{'loans': []}"
      ]
     },
     "execution_count": 22,
     "metadata": {},
     "output_type": "execute_result"
    }
   ],
   "source": [
    "# Load all loan\n",
    "requests.get('http://127.0.0.1:5000/api/loan/all').json()"
   ]
  },
  {
   "cell_type": "code",
   "execution_count": 23,
   "id": "4aac6000",
   "metadata": {},
   "outputs": [
    {
     "data": {
      "text/plain": [
       "{'id': 1,\n",
       " 'loan_type': '1',\n",
       " 'repayment_months': 1,\n",
       " 'interest_rate_per_annum': 1,\n",
       " 'date_created': '2022-11-25 06:00:44.832950'}"
      ]
     },
     "execution_count": 23,
     "metadata": {},
     "output_type": "execute_result"
    }
   ],
   "source": [
    "# Add New loan\n",
    "data = {\n",
    "      'loan_type':1,\n",
    "    'repayment_months':1,\n",
    "    'interest_rate_per_annum':1\n",
    "}\n",
    "\n",
    "requests.post('http://127.0.0.1:5000/api/loan/add', data=data).json()"
   ]
  },
  {
   "cell_type": "code",
   "execution_count": 24,
   "id": "44620270",
   "metadata": {},
   "outputs": [
    {
     "data": {
      "text/plain": [
       "{'message': 'Internal Server Error'}"
      ]
     },
     "execution_count": 24,
     "metadata": {},
     "output_type": "execute_result"
    }
   ],
   "source": [
    "# Load all loan\n",
    "requests.get('http://127.0.0.1:5000/api/loan/all').json()"
   ]
  }
 ],
 "metadata": {
  "kernelspec": {
   "display_name": "Python 3",
   "language": "python",
   "name": "python3"
  },
  "language_info": {
   "codemirror_mode": {
    "name": "ipython",
    "version": 3
   },
   "file_extension": ".py",
   "mimetype": "text/x-python",
   "name": "python",
   "nbconvert_exporter": "python",
   "pygments_lexer": "ipython3",
   "version": "3.8.8"
  }
 },
 "nbformat": 4,
 "nbformat_minor": 5
}
