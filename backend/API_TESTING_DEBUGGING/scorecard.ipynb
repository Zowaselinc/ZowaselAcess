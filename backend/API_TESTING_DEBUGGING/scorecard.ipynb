{
 "cells": [
  {
   "cell_type": "code",
   "execution_count": 74,
   "id": "7821d168",
   "metadata": {},
   "outputs": [],
   "source": [
    "import requests"
   ]
  },
  {
   "cell_type": "code",
   "execution_count": 75,
   "id": "ce7fd9e2",
   "metadata": {},
   "outputs": [
    {
     "data": {
      "text/plain": [
       "{'error': True,\n",
       " 'message': 'Sorry your request can not be processed at the moment',\n",
       " 'data': 'Bvn Not Found'}"
      ]
     },
     "execution_count": 75,
     "metadata": {},
     "output_type": "execute_result"
    }
   ],
   "source": [
    "# Load farmer with Bvn \n",
    "requests.get('http://127.0.0.1:5000/api/scorecard/Bvn=1').json()"
   ]
  },
  {
   "cell_type": "code",
   "execution_count": 76,
   "id": "01ee01f3",
   "metadata": {},
   "outputs": [
    {
     "data": {
      "text/plain": [
       "[{'id': 7,\n",
       "  'Bvn': '2',\n",
       "  'age': '1',\n",
       "  'number_of_land': '1',\n",
       "  'address': '1',\n",
       "  'owner_caretaker': '1',\n",
       "  'crop': '1',\n",
       "  'intercropping': '1',\n",
       "  'machines': '1',\n",
       "  'estimate_monthly_income': '1',\n",
       "  'years_cultivating': '1',\n",
       "  'gender': '1',\n",
       "  'owns_a_bank_account': '1',\n",
       "  'size_of_farm': '1',\n",
       "  'number_of_crops': '1',\n",
       "  'is_in_a_cooperative': '1',\n",
       "  'no_of_agronomist_visits': '1',\n",
       "  'date_created': '2022-11-23 07:13:20.445580'},\n",
       " {'id': 8,\n",
       "  'Bvn': '2',\n",
       "  'age': '1',\n",
       "  'number_of_land': '1',\n",
       "  'address': '1',\n",
       "  'owner_caretaker': '1',\n",
       "  'crop': '1',\n",
       "  'intercropping': '1',\n",
       "  'machines': '1',\n",
       "  'estimate_monthly_income': '1',\n",
       "  'years_cultivating': '1',\n",
       "  'gender': '1',\n",
       "  'owns_a_bank_account': '1',\n",
       "  'size_of_farm': '1',\n",
       "  'number_of_crops': '1',\n",
       "  'is_in_a_cooperative': '1',\n",
       "  'no_of_agronomist_visits': '1',\n",
       "  'date_created': '2022-11-23 07:13:22.961215'},\n",
       " {'id': 9,\n",
       "  'Bvn': '2',\n",
       "  'age': '1',\n",
       "  'number_of_land': '1',\n",
       "  'address': '1',\n",
       "  'owner_caretaker': '1',\n",
       "  'crop': '1',\n",
       "  'intercropping': '1',\n",
       "  'machines': '1',\n",
       "  'estimate_monthly_income': '1',\n",
       "  'years_cultivating': '1',\n",
       "  'gender': '1',\n",
       "  'owns_a_bank_account': '1',\n",
       "  'size_of_farm': '1',\n",
       "  'number_of_crops': '1',\n",
       "  'is_in_a_cooperative': '1',\n",
       "  'no_of_agronomist_visits': '1',\n",
       "  'date_created': '2022-11-23 07:13:29.680354'}]"
      ]
     },
     "execution_count": 76,
     "metadata": {},
     "output_type": "execute_result"
    }
   ],
   "source": [
    "# Load farmer with Bvn \n",
    "requests.get('http://127.0.0.1:5000/api/scorecard/Bvn=2').json()"
   ]
  },
  {
   "cell_type": "code",
   "execution_count": 85,
   "id": "a9a1c9aa",
   "metadata": {},
   "outputs": [
    {
     "data": {
      "text/plain": [
       "[{'id': 7,\n",
       "  'Bvn': '2',\n",
       "  'age': '1',\n",
       "  'number_of_land': '1',\n",
       "  'address': '1',\n",
       "  'owner_caretaker': '1',\n",
       "  'crop': '1',\n",
       "  'intercropping': '1',\n",
       "  'machines': '1',\n",
       "  'estimate_monthly_income': '1',\n",
       "  'years_cultivating': '1',\n",
       "  'gender': '1',\n",
       "  'owns_a_bank_account': '1',\n",
       "  'size_of_farm': '1',\n",
       "  'number_of_crops': '1',\n",
       "  'is_in_a_cooperative': '1',\n",
       "  'no_of_agronomist_visits': '1',\n",
       "  'date_created': '2022-11-23 07:13:20.445580'},\n",
       " {'id': 8,\n",
       "  'Bvn': '2',\n",
       "  'age': '1',\n",
       "  'number_of_land': '1',\n",
       "  'address': '1',\n",
       "  'owner_caretaker': '1',\n",
       "  'crop': '1',\n",
       "  'intercropping': '1',\n",
       "  'machines': '1',\n",
       "  'estimate_monthly_income': '1',\n",
       "  'years_cultivating': '1',\n",
       "  'gender': '1',\n",
       "  'owns_a_bank_account': '1',\n",
       "  'size_of_farm': '1',\n",
       "  'number_of_crops': '1',\n",
       "  'is_in_a_cooperative': '1',\n",
       "  'no_of_agronomist_visits': '1',\n",
       "  'date_created': '2022-11-23 07:13:22.961215'},\n",
       " {'id': 9,\n",
       "  'Bvn': '2',\n",
       "  'age': '1',\n",
       "  'number_of_land': '1',\n",
       "  'address': '1',\n",
       "  'owner_caretaker': '1',\n",
       "  'crop': '1',\n",
       "  'intercropping': '1',\n",
       "  'machines': '1',\n",
       "  'estimate_monthly_income': '1',\n",
       "  'years_cultivating': '1',\n",
       "  'gender': '1',\n",
       "  'owns_a_bank_account': '1',\n",
       "  'size_of_farm': '1',\n",
       "  'number_of_crops': '1',\n",
       "  'is_in_a_cooperative': '1',\n",
       "  'no_of_agronomist_visits': '1',\n",
       "  'date_created': '2022-11-23 07:13:29.680354'},\n",
       " {'id': 10,\n",
       "  'Bvn': '2',\n",
       "  'age': '1',\n",
       "  'number_of_land': '1',\n",
       "  'address': '1',\n",
       "  'owner_caretaker': '1',\n",
       "  'crop': '1',\n",
       "  'intercropping': '1',\n",
       "  'machines': '1',\n",
       "  'estimate_monthly_income': '1',\n",
       "  'years_cultivating': '1',\n",
       "  'gender': '1',\n",
       "  'owns_a_bank_account': '1',\n",
       "  'size_of_farm': '1',\n",
       "  'number_of_crops': '1',\n",
       "  'is_in_a_cooperative': '1',\n",
       "  'no_of_agronomist_visits': '1',\n",
       "  'date_created': '2022-11-23 07:50:33.639181'},\n",
       " {'id': 11,\n",
       "  'Bvn': '99',\n",
       "  'age': '1',\n",
       "  'number_of_land': '1',\n",
       "  'address': '1',\n",
       "  'owner_caretaker': '1',\n",
       "  'crop': '1',\n",
       "  'intercropping': '1',\n",
       "  'machines': '1',\n",
       "  'estimate_monthly_income': '1',\n",
       "  'years_cultivating': '1',\n",
       "  'gender': '1',\n",
       "  'owns_a_bank_account': '1',\n",
       "  'size_of_farm': '1',\n",
       "  'number_of_crops': '1',\n",
       "  'is_in_a_cooperative': '1',\n",
       "  'no_of_agronomist_visits': '1',\n",
       "  'date_created': '2022-11-23 08:05:32.622152'}]"
      ]
     },
     "execution_count": 85,
     "metadata": {},
     "output_type": "execute_result"
    }
   ],
   "source": [
    "# Load all Farmers\n",
    "requests.get('http://127.0.0.1:5000/api/scorecard/all').json()"
   ]
  },
  {
   "cell_type": "code",
   "execution_count": 84,
   "id": "4aac6000",
   "metadata": {},
   "outputs": [
    {
     "data": {
      "text/plain": [
       "{'recommendations': ['Add KYF',\n",
       "  'Add 5c/capital',\n",
       "  'Add 5c/character',\n",
       "  'Add 5c/collateral',\n",
       "  'Add 5c/capacity',\n",
       "  'Add 5c/conditions']}"
      ]
     },
     "execution_count": 84,
     "metadata": {},
     "output_type": "execute_result"
    }
   ],
   "source": [
    "# Add New Scorecard\n",
    "data = {\n",
    " 'Bvn': '99',\n",
    " 'age': '1',\n",
    " 'number_of_land': '1',\n",
    " 'address': '1',\n",
    " 'owner_caretaker': '1',\n",
    " 'crop': '1',\n",
    " 'intercropping': '1',\n",
    " 'machines': '1',\n",
    " 'estimate_monthly_income': '1',\n",
    " 'years_cultivating': '1',\n",
    " 'gender': '1',\n",
    " 'owns_a_bank_account': '1',\n",
    " 'size_of_farm': '1',\n",
    " 'number_of_crops': '1',\n",
    " 'is_in_a_cooperative': '1',\n",
    " 'no_of_agronomist_visits': '1',\n",
    " 'date_created': '1'\n",
    "}\n",
    "\n",
    "recommendations = requests.post('http://127.0.0.1:5000/api/add/scorecard', data=data).json()\n",
    "recommendations"
   ]
  },
  {
   "cell_type": "code",
   "execution_count": 79,
   "id": "3397bbc0",
   "metadata": {},
   "outputs": [],
   "source": [
    "# Load farmer with Bvn \n",
    "farmer = requests.get('http://127.0.0.1:5000/api/scorecard/Bvn=2').json()"
   ]
  },
  {
   "cell_type": "code",
   "execution_count": 80,
   "id": "d21a7be8",
   "metadata": {},
   "outputs": [],
   "source": [
    "import pandas as pd\n",
    "import numpy as np"
   ]
  },
  {
   "cell_type": "code",
   "execution_count": 81,
   "id": "ab536382",
   "metadata": {},
   "outputs": [
    {
     "data": {
      "text/html": [
       "<div>\n",
       "<style scoped>\n",
       "    .dataframe tbody tr th:only-of-type {\n",
       "        vertical-align: middle;\n",
       "    }\n",
       "\n",
       "    .dataframe tbody tr th {\n",
       "        vertical-align: top;\n",
       "    }\n",
       "\n",
       "    .dataframe thead th {\n",
       "        text-align: right;\n",
       "    }\n",
       "</style>\n",
       "<table border=\"1\" class=\"dataframe\">\n",
       "  <thead>\n",
       "    <tr style=\"text-align: right;\">\n",
       "      <th></th>\n",
       "      <th>id</th>\n",
       "      <th>Bvn</th>\n",
       "      <th>age</th>\n",
       "      <th>number_of_land</th>\n",
       "      <th>address</th>\n",
       "      <th>owner_caretaker</th>\n",
       "      <th>crop</th>\n",
       "      <th>intercropping</th>\n",
       "      <th>machines</th>\n",
       "      <th>estimate_monthly_income</th>\n",
       "      <th>years_cultivating</th>\n",
       "      <th>gender</th>\n",
       "      <th>owns_a_bank_account</th>\n",
       "      <th>size_of_farm</th>\n",
       "      <th>number_of_crops</th>\n",
       "      <th>is_in_a_cooperative</th>\n",
       "      <th>no_of_agronomist_visits</th>\n",
       "      <th>date_created</th>\n",
       "    </tr>\n",
       "  </thead>\n",
       "  <tbody>\n",
       "    <tr>\n",
       "      <th>0</th>\n",
       "      <td>7</td>\n",
       "      <td>2</td>\n",
       "      <td>1</td>\n",
       "      <td>1</td>\n",
       "      <td>1</td>\n",
       "      <td>1</td>\n",
       "      <td>1</td>\n",
       "      <td>1</td>\n",
       "      <td>1</td>\n",
       "      <td>1</td>\n",
       "      <td>1</td>\n",
       "      <td>1</td>\n",
       "      <td>1</td>\n",
       "      <td>1</td>\n",
       "      <td>1</td>\n",
       "      <td>1</td>\n",
       "      <td>1</td>\n",
       "      <td>2022-11-23 07:13:20.445580</td>\n",
       "    </tr>\n",
       "    <tr>\n",
       "      <th>1</th>\n",
       "      <td>8</td>\n",
       "      <td>2</td>\n",
       "      <td>1</td>\n",
       "      <td>1</td>\n",
       "      <td>1</td>\n",
       "      <td>1</td>\n",
       "      <td>1</td>\n",
       "      <td>1</td>\n",
       "      <td>1</td>\n",
       "      <td>1</td>\n",
       "      <td>1</td>\n",
       "      <td>1</td>\n",
       "      <td>1</td>\n",
       "      <td>1</td>\n",
       "      <td>1</td>\n",
       "      <td>1</td>\n",
       "      <td>1</td>\n",
       "      <td>2022-11-23 07:13:22.961215</td>\n",
       "    </tr>\n",
       "    <tr>\n",
       "      <th>2</th>\n",
       "      <td>9</td>\n",
       "      <td>2</td>\n",
       "      <td>1</td>\n",
       "      <td>1</td>\n",
       "      <td>1</td>\n",
       "      <td>1</td>\n",
       "      <td>1</td>\n",
       "      <td>1</td>\n",
       "      <td>1</td>\n",
       "      <td>1</td>\n",
       "      <td>1</td>\n",
       "      <td>1</td>\n",
       "      <td>1</td>\n",
       "      <td>1</td>\n",
       "      <td>1</td>\n",
       "      <td>1</td>\n",
       "      <td>1</td>\n",
       "      <td>2022-11-23 07:13:29.680354</td>\n",
       "    </tr>\n",
       "    <tr>\n",
       "      <th>3</th>\n",
       "      <td>10</td>\n",
       "      <td>2</td>\n",
       "      <td>1</td>\n",
       "      <td>1</td>\n",
       "      <td>1</td>\n",
       "      <td>1</td>\n",
       "      <td>1</td>\n",
       "      <td>1</td>\n",
       "      <td>1</td>\n",
       "      <td>1</td>\n",
       "      <td>1</td>\n",
       "      <td>1</td>\n",
       "      <td>1</td>\n",
       "      <td>1</td>\n",
       "      <td>1</td>\n",
       "      <td>1</td>\n",
       "      <td>1</td>\n",
       "      <td>2022-11-23 07:50:33.639181</td>\n",
       "    </tr>\n",
       "  </tbody>\n",
       "</table>\n",
       "</div>"
      ],
      "text/plain": [
       "   id Bvn age number_of_land address owner_caretaker crop intercropping  \\\n",
       "0   7   2   1              1       1               1    1             1   \n",
       "1   8   2   1              1       1               1    1             1   \n",
       "2   9   2   1              1       1               1    1             1   \n",
       "3  10   2   1              1       1               1    1             1   \n",
       "\n",
       "  machines estimate_monthly_income years_cultivating gender  \\\n",
       "0        1                       1                 1      1   \n",
       "1        1                       1                 1      1   \n",
       "2        1                       1                 1      1   \n",
       "3        1                       1                 1      1   \n",
       "\n",
       "  owns_a_bank_account size_of_farm number_of_crops is_in_a_cooperative  \\\n",
       "0                   1            1               1                   1   \n",
       "1                   1            1               1                   1   \n",
       "2                   1            1               1                   1   \n",
       "3                   1            1               1                   1   \n",
       "\n",
       "  no_of_agronomist_visits                date_created  \n",
       "0                       1  2022-11-23 07:13:20.445580  \n",
       "1                       1  2022-11-23 07:13:22.961215  \n",
       "2                       1  2022-11-23 07:13:29.680354  \n",
       "3                       1  2022-11-23 07:50:33.639181  "
      ]
     },
     "execution_count": 81,
     "metadata": {},
     "output_type": "execute_result"
    }
   ],
   "source": [
    "pd.DataFrame(farmer)"
   ]
  },
  {
   "cell_type": "code",
   "execution_count": 82,
   "id": "38614ff0",
   "metadata": {},
   "outputs": [
    {
     "data": {
      "text/plain": [
       "{'message': 'success'}"
      ]
     },
     "execution_count": 82,
     "metadata": {},
     "output_type": "execute_result"
    }
   ],
   "source": [
    "# delete farmer with Bvn \n",
    "requests.delete('http://127.0.0.1:5000/api/scorecard/Bvn=1').json()"
   ]
  },
  {
   "cell_type": "code",
   "execution_count": 86,
   "id": "e6a4a21b",
   "metadata": {},
   "outputs": [
    {
     "data": {
      "text/plain": [
       "[{'id': 11,\n",
       "  'Bvn': '99',\n",
       "  'age': '1',\n",
       "  'number_of_land': '1',\n",
       "  'address': '1',\n",
       "  'owner_caretaker': '1',\n",
       "  'crop': '1',\n",
       "  'intercropping': '1',\n",
       "  'machines': '1',\n",
       "  'estimate_monthly_income': '1',\n",
       "  'years_cultivating': '1',\n",
       "  'gender': '1',\n",
       "  'owns_a_bank_account': '1',\n",
       "  'size_of_farm': '1',\n",
       "  'number_of_crops': '1',\n",
       "  'is_in_a_cooperative': '1',\n",
       "  'no_of_agronomist_visits': '1',\n",
       "  'date_created': '2022-11-23 08:05:32.622152'}]"
      ]
     },
     "execution_count": 86,
     "metadata": {},
     "output_type": "execute_result"
    }
   ],
   "source": [
    "# Load farmer with Bvn \n",
    "requests.get('http://127.0.0.1:5000/api/scorecard/Bvn=99').json()"
   ]
  },
  {
   "cell_type": "code",
   "execution_count": null,
   "id": "fa683061",
   "metadata": {},
   "outputs": [],
   "source": []
  }
 ],
 "metadata": {
  "kernelspec": {
   "display_name": "Python 3",
   "language": "python",
   "name": "python3"
  },
  "language_info": {
   "codemirror_mode": {
    "name": "ipython",
    "version": 3
   },
   "file_extension": ".py",
   "mimetype": "text/x-python",
   "name": "python",
   "nbconvert_exporter": "python",
   "pygments_lexer": "ipython3",
   "version": "3.8.8"
  }
 },
 "nbformat": 4,
 "nbformat_minor": 5
}
