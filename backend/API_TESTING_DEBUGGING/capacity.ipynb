{
 "cells": [
  {
   "cell_type": "code",
   "execution_count": 45,
   "id": "7821d168",
   "metadata": {},
   "outputs": [],
   "source": [
    "import requests"
   ]
  },
  {
   "cell_type": "markdown",
   "id": "b5b6c8aa",
   "metadata": {},
   "source": [
    "# capacity"
   ]
  },
  {
   "cell_type": "code",
   "execution_count": 46,
   "id": "ce7fd9e2",
   "metadata": {},
   "outputs": [
    {
     "data": {
      "text/plain": [
       "{'error': True,\n",
       " 'message': 'Sorry your request can not be processed at the moment',\n",
       " 'data': 'Bvn Not Found'}"
      ]
     },
     "execution_count": 46,
     "metadata": {},
     "output_type": "execute_result"
    }
   ],
   "source": [
    "# Load farmer with Bvn \n",
    "requests.get('http://127.0.0.1:5000/api/capacity/Bvn=1').json()"
   ]
  },
  {
   "cell_type": "code",
   "execution_count": 47,
   "id": "01ee01f3",
   "metadata": {},
   "outputs": [
    {
     "data": {
      "text/plain": [
       "{'error': True,\n",
       " 'message': 'Sorry your request can not be processed at the moment',\n",
       " 'data': 'Bvn Not Found'}"
      ]
     },
     "execution_count": 47,
     "metadata": {},
     "output_type": "execute_result"
    }
   ],
   "source": [
    "# Load farmer with Bvn \n",
    "requests.get('http://127.0.0.1:5000/api/capacity/Bvn=2').json()"
   ]
  },
  {
   "cell_type": "code",
   "execution_count": 48,
   "id": "a9a1c9aa",
   "metadata": {},
   "outputs": [
    {
     "data": {
      "text/plain": [
       "[]"
      ]
     },
     "execution_count": 48,
     "metadata": {},
     "output_type": "execute_result"
    }
   ],
   "source": [
    "# Load all Farmers\n",
    "requests.get('http://127.0.0.1:5000/api/capacity/all').json()"
   ]
  },
  {
   "cell_type": "code",
   "execution_count": 49,
   "id": "4aac6000",
   "metadata": {},
   "outputs": [
    {
     "data": {
      "text/plain": [
       "{'id': '1',\n",
       " 'Bvn': '1',\n",
       " 'HowLongBeenFarming': '1',\n",
       " 'ParticipatedInTraining': '1',\n",
       " 'FarmingPractice': '1',\n",
       " 'KeepsAnimals': '1',\n",
       " 'HasCooperative': '1',\n",
       " 'CooperativeName': '1',\n",
       " 'EducationLevel': '1'}"
      ]
     },
     "execution_count": 49,
     "metadata": {},
     "output_type": "execute_result"
    }
   ],
   "source": [
    "# Add New Farmer\n",
    "data = {\n",
    "  'Bvn':1,\n",
    "        'HowLongBeenFarming':1,'ParticipatedInTraining':1,\n",
    "        'FarmingPractice':1,'KeepsAnimals':1,\n",
    "        'HasCooperative':1,'CooperativeName':1,\n",
    "        'EducationLevel':1\n",
    "}\n",
    "\n",
    "requests.post('http://127.0.0.1:5000/api/add/capacity', data=data).json()"
   ]
  },
  {
   "cell_type": "markdown",
   "id": "367fc5fb",
   "metadata": {},
   "source": [
    "# practice"
   ]
  },
  {
   "cell_type": "code",
   "execution_count": 50,
   "id": "1c81cb28",
   "metadata": {},
   "outputs": [
    {
     "data": {
      "text/plain": [
       "{'error': True,\n",
       " 'message': 'Sorry your request can not be processed at the moment',\n",
       " 'data': 'Bvn Not Found'}"
      ]
     },
     "execution_count": 50,
     "metadata": {},
     "output_type": "execute_result"
    }
   ],
   "source": [
    "# Load farmer with Bvn \n",
    "requests.get('http://127.0.0.1:5000/api/practice/Bvn=1').json()"
   ]
  },
  {
   "cell_type": "code",
   "execution_count": 51,
   "id": "108fe7aa",
   "metadata": {},
   "outputs": [
    {
     "data": {
      "text/plain": [
       "{'error': True,\n",
       " 'message': 'Sorry your request can not be processed at the moment',\n",
       " 'data': 'Bvn Not Found'}"
      ]
     },
     "execution_count": 51,
     "metadata": {},
     "output_type": "execute_result"
    }
   ],
   "source": [
    "# Load farmer with Bvn \n",
    "requests.get('http://127.0.0.1:5000/api/practice/Bvn=30').json()"
   ]
  },
  {
   "cell_type": "code",
   "execution_count": 52,
   "id": "ff11c196",
   "metadata": {},
   "outputs": [
    {
     "data": {
      "text/plain": [
       "[]"
      ]
     },
     "execution_count": 52,
     "metadata": {},
     "output_type": "execute_result"
    }
   ],
   "source": [
    "# Load all Farmers\n",
    "requests.get('http://127.0.0.1:5000/api/practice/all').json()"
   ]
  },
  {
   "cell_type": "code",
   "execution_count": 54,
   "id": "6ea9c817",
   "metadata": {},
   "outputs": [
    {
     "data": {
      "text/plain": [
       "{'id': '1',\n",
       " 'Bvn': '1',\n",
       " 'SizeOfFarm': '1',\n",
       " 'FarmIsRentedorLeased': '1',\n",
       " 'NoOfYearsLeased': '1',\n",
       " 'UsesMachines': '1',\n",
       " 'RotatesCrops': '1',\n",
       " 'NoOfHectaresProducedYearly': '1',\n",
       " 'ApproxFertilizerUse': '1',\n",
       " 'NoOfFertlizerApplications': '1',\n",
       " 'DecisionForSpraying': '1',\n",
       " 'WeedControlPractice': '1',\n",
       " 'EstimatedIncomePerCrop': '1',\n",
       " 'CropthatcanSellWell': '1',\n",
       " 'HasFarmPlanOrProject': '1',\n",
       " 'FarmProjectInfo': '1'}"
      ]
     },
     "execution_count": 54,
     "metadata": {},
     "output_type": "execute_result"
    }
   ],
   "source": [
    "# Add New Farmer\n",
    "data = {\n",
    "  'Bvn':1,'SizeOfFarm':1,\n",
    "        'FarmIsRentedorLeased':1,'NoOfYearsLeased':1,\n",
    "        'UsesMachines':1,'RotatesCrops':1,\n",
    "        'NoOfHectaresProducedYearly':1,'ApproxFertilizerUse':1,\n",
    "        'NoOfFertlizerApplications':1,'DecisionForSpraying':1,\n",
    "        'WeedControlPractice':1,'EstimatedIncomePerCrop':1,\n",
    "        'CropthatcanSellWell':1,'HasFarmPlanOrProject':1,\n",
    "        'FarmProjectInfo':1\n",
    "}\n",
    "\n",
    "requests.post('http://127.0.0.1:5000/api/add/practice', data=data).json()"
   ]
  },
  {
   "cell_type": "markdown",
   "id": "6cf1a8a3",
   "metadata": {},
   "source": [
    "# mechanization"
   ]
  },
  {
   "cell_type": "code",
   "execution_count": 55,
   "id": "4d1b2fe9",
   "metadata": {},
   "outputs": [
    {
     "data": {
      "text/plain": [
       "{'error': True,\n",
       " 'message': 'Sorry your request can not be processed at the moment',\n",
       " 'data': 'Bvn Not Found'}"
      ]
     },
     "execution_count": 55,
     "metadata": {},
     "output_type": "execute_result"
    }
   ],
   "source": [
    "# Load farmer with Bvn \n",
    "requests.get('http://127.0.0.1:5000/api/mechanization/Bvn=1').json()"
   ]
  },
  {
   "cell_type": "code",
   "execution_count": 56,
   "id": "8137cd6f",
   "metadata": {},
   "outputs": [
    {
     "data": {
      "text/plain": [
       "{'error': True,\n",
       " 'message': 'Sorry your request can not be processed at the moment',\n",
       " 'data': 'Bvn Not Found'}"
      ]
     },
     "execution_count": 56,
     "metadata": {},
     "output_type": "execute_result"
    }
   ],
   "source": [
    "# Load farmer with Bvn \n",
    "requests.get('http://127.0.0.1:5000/api/mechanization/Bvn=30').json()"
   ]
  },
  {
   "cell_type": "code",
   "execution_count": 57,
   "id": "a147a8ee",
   "metadata": {},
   "outputs": [
    {
     "data": {
      "text/plain": [
       "[]"
      ]
     },
     "execution_count": 57,
     "metadata": {},
     "output_type": "execute_result"
    }
   ],
   "source": [
    "# Load all Farmers\n",
    "requests.get('http://127.0.0.1:5000/api/mechanization/all').json()"
   ]
  },
  {
   "cell_type": "code",
   "execution_count": 58,
   "id": "52fde303",
   "metadata": {},
   "outputs": [
    {
     "data": {
      "text/plain": [
       "{'id': '1',\n",
       " 'Bvn': '1',\n",
       " 'MachinesUsed': '1',\n",
       " 'MachineHasHelped': '1',\n",
       " 'AdviseMachineOrLabour': '1',\n",
       " 'OtherMachinesNeeded': '1',\n",
       " 'CanAcquireMoreLands': '1',\n",
       " 'PercentCostSaved': '1'}"
      ]
     },
     "execution_count": 58,
     "metadata": {},
     "output_type": "execute_result"
    }
   ],
   "source": [
    "# Add New Farmer\n",
    "data = {\n",
    "  'Bvn':1,\n",
    "        'MachinesUsed':1,'MachineHasHelped':1,\n",
    "        'AdviseMachineOrLabour':1,'OtherMachinesNeeded':1,\n",
    "        'CanAcquireMoreLands':1,'PercentCostSaved':1\n",
    "}\n",
    "\n",
    "requests.post('http://127.0.0.1:5000/api/add/mechanization', data=data).json()"
   ]
  },
  {
   "cell_type": "markdown",
   "id": "bfb3513a",
   "metadata": {},
   "source": [
    "# cultivation"
   ]
  },
  {
   "cell_type": "code",
   "execution_count": 59,
   "id": "7269708b",
   "metadata": {},
   "outputs": [
    {
     "data": {
      "text/plain": [
       "{'error': True,\n",
       " 'message': 'Sorry your request can not be processed at the moment',\n",
       " 'data': 'Bvn Not Found'}"
      ]
     },
     "execution_count": 59,
     "metadata": {},
     "output_type": "execute_result"
    }
   ],
   "source": [
    "# Load farmer with Bvn \n",
    "requests.get('http://127.0.0.1:5000/api/cultivation/Bvn=1').json()"
   ]
  },
  {
   "cell_type": "code",
   "execution_count": 60,
   "id": "d4735ac3",
   "metadata": {},
   "outputs": [
    {
     "data": {
      "text/plain": [
       "{'error': True,\n",
       " 'message': 'Sorry your request can not be processed at the moment',\n",
       " 'data': 'Bvn Not Found'}"
      ]
     },
     "execution_count": 60,
     "metadata": {},
     "output_type": "execute_result"
    }
   ],
   "source": [
    "# Load farmer with Bvn \n",
    "requests.get('http://127.0.0.1:5000/api/cultivation/Bvn=30').json()"
   ]
  },
  {
   "cell_type": "code",
   "execution_count": 61,
   "id": "c987503f",
   "metadata": {},
   "outputs": [
    {
     "data": {
      "text/plain": [
       "[]"
      ]
     },
     "execution_count": 61,
     "metadata": {},
     "output_type": "execute_result"
    }
   ],
   "source": [
    "# Load all Farmers\n",
    "requests.get('http://127.0.0.1:5000/api/cultivation/all').json()"
   ]
  },
  {
   "cell_type": "code",
   "execution_count": 62,
   "id": "45094f75",
   "metadata": {},
   "outputs": [
    {
     "data": {
      "text/plain": [
       "{'id': '1',\n",
       " 'Bvn': '1',\n",
       " 'type_of_labor': '1',\n",
       " 'pay_for_labor': '1',\n",
       " 'how_many_housechildren_help': '1',\n",
       " 'season_children_help': '1',\n",
       " 'labor_children_do': '1',\n",
       " 'household_vs_hire_cost': '1',\n",
       " 'labor_women_do': '1',\n",
       " 'percent_female_hired': '1'}"
      ]
     },
     "execution_count": 62,
     "metadata": {},
     "output_type": "execute_result"
    }
   ],
   "source": [
    "# Add New Farmer\n",
    "data = {\n",
    " 'Bvn':1,'type_of_labor':1,\n",
    "        'pay_for_labor':1,'how_many_housechildren_help':1,\n",
    "        'season_children_help':1,'labor_children_do':1,\n",
    "        'household_vs_hire_cost':1,'labor_women_do':1,\n",
    "        'percent_female_hired':1\n",
    "}\n",
    "\n",
    "requests.post('http://127.0.0.1:5000/api/add/cultivation', data=data).json()"
   ]
  },
  {
   "cell_type": "markdown",
   "id": "2ab5e500",
   "metadata": {},
   "source": [
    "# harvest"
   ]
  },
  {
   "cell_type": "code",
   "execution_count": 63,
   "id": "981ef121",
   "metadata": {},
   "outputs": [
    {
     "data": {
      "text/plain": [
       "{'error': True,\n",
       " 'message': 'Sorry your request can not be processed at the moment',\n",
       " 'data': 'Bvn Not Found'}"
      ]
     },
     "execution_count": 63,
     "metadata": {},
     "output_type": "execute_result"
    }
   ],
   "source": [
    "# Load farmer with Bvn \n",
    "requests.get('http://127.0.0.1:5000/api/harvest/Bvn=1').json()"
   ]
  },
  {
   "cell_type": "code",
   "execution_count": 64,
   "id": "14b6ed01",
   "metadata": {},
   "outputs": [
    {
     "data": {
      "text/plain": [
       "{'error': True,\n",
       " 'message': 'Sorry your request can not be processed at the moment',\n",
       " 'data': 'Bvn Not Found'}"
      ]
     },
     "execution_count": 64,
     "metadata": {},
     "output_type": "execute_result"
    }
   ],
   "source": [
    "# Load farmer with Bvn \n",
    "requests.get('http://127.0.0.1:5000/api/harvest/Bvn=30').json()"
   ]
  },
  {
   "cell_type": "code",
   "execution_count": 65,
   "id": "54728ae6",
   "metadata": {},
   "outputs": [
    {
     "data": {
      "text/plain": [
       "[]"
      ]
     },
     "execution_count": 65,
     "metadata": {},
     "output_type": "execute_result"
    }
   ],
   "source": [
    "# Load all Farmers\n",
    "requests.get('http://127.0.0.1:5000/api/harvest/all').json()"
   ]
  },
  {
   "cell_type": "code",
   "execution_count": 66,
   "id": "06c75eec",
   "metadata": {},
   "outputs": [
    {
     "data": {
      "text/plain": [
       "{'id': '1',\n",
       " 'Bvn': '1',\n",
       " 'when_is_harvest_season': '1',\n",
       " 'no_of_hired_workers': '1',\n",
       " 'no_of_family_workers': '1',\n",
       " 'no_of_permanent_workers': '1',\n",
       " 'no_hired_constantly': '1'}"
      ]
     },
     "execution_count": 66,
     "metadata": {},
     "output_type": "execute_result"
    }
   ],
   "source": [
    "# Add New Farmer\n",
    "data = {\n",
    "'Bvn':1,'when_is_harvest_season':1,\n",
    "        'no_of_hired_workers':1,'no_of_family_workers':1,\n",
    "        'no_of_permanent_workers':1,'no_hired_constantly':1\n",
    "}\n",
    "\n",
    "requests.post('http://127.0.0.1:5000/api/add/harvest', data=data).json()"
   ]
  },
  {
   "cell_type": "markdown",
   "id": "c556f613",
   "metadata": {},
   "source": [
    "# request merging\n",
    "# 5c/capacity"
   ]
  },
  {
   "cell_type": "code",
   "execution_count": 67,
   "id": "441df68d",
   "metadata": {},
   "outputs": [
    {
     "ename": "JSONDecodeError",
     "evalue": "[Errno Expecting value] <!DOCTYPE HTML PUBLIC \"-//W3C//DTD HTML 3.2 Final//EN\">\n<title>404 Not Found</title>\n<h1>Not Found</h1>\n<p>The requested URL was not found on the server. If you entered the URL manually please check your spelling and try again.</p>\n: 0",
     "output_type": "error",
     "traceback": [
      "\u001b[1;31m---------------------------------------------------------------------------\u001b[0m",
      "\u001b[1;31mJSONDecodeError\u001b[0m                           Traceback (most recent call last)",
      "\u001b[1;32m~\\anaconda3\\lib\\site-packages\\requests\\models.py\u001b[0m in \u001b[0;36mjson\u001b[1;34m(self, **kwargs)\u001b[0m\n\u001b[0;32m    909\u001b[0m         \u001b[1;32mtry\u001b[0m\u001b[1;33m:\u001b[0m\u001b[1;33m\u001b[0m\u001b[1;33m\u001b[0m\u001b[0m\n\u001b[1;32m--> 910\u001b[1;33m             \u001b[1;32mreturn\u001b[0m \u001b[0mcomplexjson\u001b[0m\u001b[1;33m.\u001b[0m\u001b[0mloads\u001b[0m\u001b[1;33m(\u001b[0m\u001b[0mself\u001b[0m\u001b[1;33m.\u001b[0m\u001b[0mtext\u001b[0m\u001b[1;33m,\u001b[0m \u001b[1;33m**\u001b[0m\u001b[0mkwargs\u001b[0m\u001b[1;33m)\u001b[0m\u001b[1;33m\u001b[0m\u001b[1;33m\u001b[0m\u001b[0m\n\u001b[0m\u001b[0;32m    911\u001b[0m         \u001b[1;32mexcept\u001b[0m \u001b[0mJSONDecodeError\u001b[0m \u001b[1;32mas\u001b[0m \u001b[0me\u001b[0m\u001b[1;33m:\u001b[0m\u001b[1;33m\u001b[0m\u001b[1;33m\u001b[0m\u001b[0m\n",
      "\u001b[1;32m~\\anaconda3\\lib\\json\\__init__.py\u001b[0m in \u001b[0;36mloads\u001b[1;34m(s, cls, object_hook, parse_float, parse_int, parse_constant, object_pairs_hook, **kw)\u001b[0m\n\u001b[0;32m    356\u001b[0m             parse_constant is None and object_pairs_hook is None and not kw):\n\u001b[1;32m--> 357\u001b[1;33m         \u001b[1;32mreturn\u001b[0m \u001b[0m_default_decoder\u001b[0m\u001b[1;33m.\u001b[0m\u001b[0mdecode\u001b[0m\u001b[1;33m(\u001b[0m\u001b[0ms\u001b[0m\u001b[1;33m)\u001b[0m\u001b[1;33m\u001b[0m\u001b[1;33m\u001b[0m\u001b[0m\n\u001b[0m\u001b[0;32m    358\u001b[0m     \u001b[1;32mif\u001b[0m \u001b[0mcls\u001b[0m \u001b[1;32mis\u001b[0m \u001b[1;32mNone\u001b[0m\u001b[1;33m:\u001b[0m\u001b[1;33m\u001b[0m\u001b[1;33m\u001b[0m\u001b[0m\n",
      "\u001b[1;32m~\\anaconda3\\lib\\json\\decoder.py\u001b[0m in \u001b[0;36mdecode\u001b[1;34m(self, s, _w)\u001b[0m\n\u001b[0;32m    336\u001b[0m         \"\"\"\n\u001b[1;32m--> 337\u001b[1;33m         \u001b[0mobj\u001b[0m\u001b[1;33m,\u001b[0m \u001b[0mend\u001b[0m \u001b[1;33m=\u001b[0m \u001b[0mself\u001b[0m\u001b[1;33m.\u001b[0m\u001b[0mraw_decode\u001b[0m\u001b[1;33m(\u001b[0m\u001b[0ms\u001b[0m\u001b[1;33m,\u001b[0m \u001b[0midx\u001b[0m\u001b[1;33m=\u001b[0m\u001b[0m_w\u001b[0m\u001b[1;33m(\u001b[0m\u001b[0ms\u001b[0m\u001b[1;33m,\u001b[0m \u001b[1;36m0\u001b[0m\u001b[1;33m)\u001b[0m\u001b[1;33m.\u001b[0m\u001b[0mend\u001b[0m\u001b[1;33m(\u001b[0m\u001b[1;33m)\u001b[0m\u001b[1;33m)\u001b[0m\u001b[1;33m\u001b[0m\u001b[1;33m\u001b[0m\u001b[0m\n\u001b[0m\u001b[0;32m    338\u001b[0m         \u001b[0mend\u001b[0m \u001b[1;33m=\u001b[0m \u001b[0m_w\u001b[0m\u001b[1;33m(\u001b[0m\u001b[0ms\u001b[0m\u001b[1;33m,\u001b[0m \u001b[0mend\u001b[0m\u001b[1;33m)\u001b[0m\u001b[1;33m.\u001b[0m\u001b[0mend\u001b[0m\u001b[1;33m(\u001b[0m\u001b[1;33m)\u001b[0m\u001b[1;33m\u001b[0m\u001b[1;33m\u001b[0m\u001b[0m\n",
      "\u001b[1;32m~\\anaconda3\\lib\\json\\decoder.py\u001b[0m in \u001b[0;36mraw_decode\u001b[1;34m(self, s, idx)\u001b[0m\n\u001b[0;32m    354\u001b[0m         \u001b[1;32mexcept\u001b[0m \u001b[0mStopIteration\u001b[0m \u001b[1;32mas\u001b[0m \u001b[0merr\u001b[0m\u001b[1;33m:\u001b[0m\u001b[1;33m\u001b[0m\u001b[1;33m\u001b[0m\u001b[0m\n\u001b[1;32m--> 355\u001b[1;33m             \u001b[1;32mraise\u001b[0m \u001b[0mJSONDecodeError\u001b[0m\u001b[1;33m(\u001b[0m\u001b[1;34m\"Expecting value\"\u001b[0m\u001b[1;33m,\u001b[0m \u001b[0ms\u001b[0m\u001b[1;33m,\u001b[0m \u001b[0merr\u001b[0m\u001b[1;33m.\u001b[0m\u001b[0mvalue\u001b[0m\u001b[1;33m)\u001b[0m \u001b[1;32mfrom\u001b[0m \u001b[1;32mNone\u001b[0m\u001b[1;33m\u001b[0m\u001b[1;33m\u001b[0m\u001b[0m\n\u001b[0m\u001b[0;32m    356\u001b[0m         \u001b[1;32mreturn\u001b[0m \u001b[0mobj\u001b[0m\u001b[1;33m,\u001b[0m \u001b[0mend\u001b[0m\u001b[1;33m\u001b[0m\u001b[1;33m\u001b[0m\u001b[0m\n",
      "\u001b[1;31mJSONDecodeError\u001b[0m: Expecting value: line 1 column 1 (char 0)",
      "\nDuring handling of the above exception, another exception occurred:\n",
      "\u001b[1;31mJSONDecodeError\u001b[0m                           Traceback (most recent call last)",
      "\u001b[1;32m<ipython-input-67-2f329b0733f2>\u001b[0m in \u001b[0;36m<module>\u001b[1;34m\u001b[0m\n\u001b[0;32m      1\u001b[0m \u001b[1;31m# Load farmer with Bvn\u001b[0m\u001b[1;33m\u001b[0m\u001b[1;33m\u001b[0m\u001b[1;33m\u001b[0m\u001b[0m\n\u001b[1;32m----> 2\u001b[1;33m \u001b[0mrequests\u001b[0m\u001b[1;33m.\u001b[0m\u001b[0mget\u001b[0m\u001b[1;33m(\u001b[0m\u001b[1;34m'http://127.0.0.1:5000/api/5c/capacity/Bvn=1'\u001b[0m\u001b[1;33m)\u001b[0m\u001b[1;33m.\u001b[0m\u001b[0mjson\u001b[0m\u001b[1;33m(\u001b[0m\u001b[1;33m)\u001b[0m\u001b[1;33m\u001b[0m\u001b[1;33m\u001b[0m\u001b[0m\n\u001b[0m",
      "\u001b[1;32m~\\anaconda3\\lib\\site-packages\\requests\\models.py\u001b[0m in \u001b[0;36mjson\u001b[1;34m(self, **kwargs)\u001b[0m\n\u001b[0;32m    915\u001b[0m                 \u001b[1;32mraise\u001b[0m \u001b[0mRequestsJSONDecodeError\u001b[0m\u001b[1;33m(\u001b[0m\u001b[0me\u001b[0m\u001b[1;33m.\u001b[0m\u001b[0mmessage\u001b[0m\u001b[1;33m)\u001b[0m\u001b[1;33m\u001b[0m\u001b[1;33m\u001b[0m\u001b[0m\n\u001b[0;32m    916\u001b[0m             \u001b[1;32melse\u001b[0m\u001b[1;33m:\u001b[0m\u001b[1;33m\u001b[0m\u001b[1;33m\u001b[0m\u001b[0m\n\u001b[1;32m--> 917\u001b[1;33m                 \u001b[1;32mraise\u001b[0m \u001b[0mRequestsJSONDecodeError\u001b[0m\u001b[1;33m(\u001b[0m\u001b[0me\u001b[0m\u001b[1;33m.\u001b[0m\u001b[0mmsg\u001b[0m\u001b[1;33m,\u001b[0m \u001b[0me\u001b[0m\u001b[1;33m.\u001b[0m\u001b[0mdoc\u001b[0m\u001b[1;33m,\u001b[0m \u001b[0me\u001b[0m\u001b[1;33m.\u001b[0m\u001b[0mpos\u001b[0m\u001b[1;33m)\u001b[0m\u001b[1;33m\u001b[0m\u001b[1;33m\u001b[0m\u001b[0m\n\u001b[0m\u001b[0;32m    918\u001b[0m \u001b[1;33m\u001b[0m\u001b[0m\n\u001b[0;32m    919\u001b[0m     \u001b[1;33m@\u001b[0m\u001b[0mproperty\u001b[0m\u001b[1;33m\u001b[0m\u001b[1;33m\u001b[0m\u001b[0m\n",
      "\u001b[1;31mJSONDecodeError\u001b[0m: [Errno Expecting value] <!DOCTYPE HTML PUBLIC \"-//W3C//DTD HTML 3.2 Final//EN\">\n<title>404 Not Found</title>\n<h1>Not Found</h1>\n<p>The requested URL was not found on the server. If you entered the URL manually please check your spelling and try again.</p>\n: 0"
     ]
    }
   ],
   "source": [
    "# Load farmer with Bvn \n",
    "requests.get('http://127.0.0.1:5000/api/5c/capacity/Bvn=1').json()"
   ]
  },
  {
   "cell_type": "code",
   "execution_count": null,
   "id": "65a5a9bc",
   "metadata": {},
   "outputs": [],
   "source": [
    "# Load farmer with Bvn \n",
    "requests.delete('http://127.0.0.1:5000/api/5c/capacity/Bvn=4').json()"
   ]
  },
  {
   "cell_type": "code",
   "execution_count": null,
   "id": "38614ff0",
   "metadata": {},
   "outputs": [],
   "source": [
    "# Load all Farmers\n",
    "requests.get('http://127.0.0.1:5000/api/5c/capacity/all').json()"
   ]
  },
  {
   "cell_type": "code",
   "execution_count": null,
   "id": "32420bcf",
   "metadata": {},
   "outputs": [],
   "source": [
    "# Add New Farmer\n",
    "data = {\n",
    " 'Bvn':1,\n",
    "        'HowLongBeenFarming':1,'ParticipatedInTraining':1,\n",
    "        'FarmingPractice':1,'KeepsAnimals':1,\n",
    "        'HasCooperative':1,'CooperativeName':1,\n",
    "        'EducationLevel':1,'when_is_harvest_season':1,\n",
    "        'no_of_hired_workers':1,'no_of_family_workers':1,\n",
    "        'no_of_permanent_workers':1,'no_hired_constantly':1,\n",
    "    'type_of_labor':1,\n",
    "        'pay_for_labor':1,'how_many_housechildren_help':1,\n",
    "        'season_children_help':1,'labor_children_do':1,\n",
    "        'household_vs_hire_cost':1,'labor_women_do':1,\n",
    "        'percent_female_hired':1,\n",
    "     'MachinesUsed':1,'MachineHasHelped':1,\n",
    "        'AdviseMachineOrLabour':1,'OtherMachinesNeeded':1,\n",
    "        'CanAcquireMoreLands':1,'PercentCostSaved':1,'SizeOfFarm':1,\n",
    "        'FarmIsRentedorLeased':1,'NoOfYearsLeased':1,\n",
    "        'UsesMachines':1,'RotatesCrops':1,\n",
    "        'NoOfHectaresProducedYearly':1,'ApproxFertilizerUse':1,\n",
    "        'NoOfFertlizerApplications':1,'DecisionForSpraying':1,\n",
    "        'WeedControlPractice':1,'EstimatedIncomePerCrop':1,\n",
    "        'CropthatcanSellWell':1,'HasFarmPlanOrProject':1,\n",
    "        'FarmProjectInfo':1\n",
    "}\n",
    "\n",
    "requests.post('http://127.0.0.1:5000/api/add/5c/capacity', data=data).json()"
   ]
  },
  {
   "cell_type": "code",
   "execution_count": null,
   "id": "c429fee9",
   "metadata": {},
   "outputs": [],
   "source": []
  }
 ],
 "metadata": {
  "kernelspec": {
   "display_name": "Python 3",
   "language": "python",
   "name": "python3"
  },
  "language_info": {
   "codemirror_mode": {
    "name": "ipython",
    "version": 3
   },
   "file_extension": ".py",
   "mimetype": "text/x-python",
   "name": "python",
   "nbconvert_exporter": "python",
   "pygments_lexer": "ipython3",
   "version": "3.8.8"
  }
 },
 "nbformat": 4,
 "nbformat_minor": 5
}
