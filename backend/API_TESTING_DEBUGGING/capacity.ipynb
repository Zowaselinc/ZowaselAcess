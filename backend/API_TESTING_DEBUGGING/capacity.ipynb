{
 "cells": [
  {
   "cell_type": "code",
   "execution_count": 69,
   "id": "7821d168",
   "metadata": {},
   "outputs": [],
   "source": [
    "import requests"
   ]
  },
  {
   "cell_type": "markdown",
   "id": "b5b6c8aa",
   "metadata": {},
   "source": [
    "# capacity"
   ]
  },
  {
   "cell_type": "code",
   "execution_count": 70,
   "id": "ce7fd9e2",
   "metadata": {},
   "outputs": [
    {
     "data": {
      "text/plain": [
       "{'id': '1',\n",
       " 'Bvn': '1',\n",
       " 'HowLongBeenFarming': '1',\n",
       " 'ParticipatedInTraining': '1',\n",
       " 'FarmingPractice': '1',\n",
       " 'KeepsAnimals': '1',\n",
       " 'HasCooperative': '1',\n",
       " 'CooperativeName': '1',\n",
       " 'EducationLevel': '1'}"
      ]
     },
     "execution_count": 70,
     "metadata": {},
     "output_type": "execute_result"
    }
   ],
   "source": [
    "# Load farmer with Bvn \n",
    "requests.get('http://127.0.0.1:5000/api/capacity/Bvn=1').json()"
   ]
  },
  {
   "cell_type": "code",
   "execution_count": 71,
   "id": "01ee01f3",
   "metadata": {},
   "outputs": [
    {
     "data": {
      "text/plain": [
       "{'error': True,\n",
       " 'message': 'Sorry your request can not be processed at the moment',\n",
       " 'data': 'Bvn Not Found'}"
      ]
     },
     "execution_count": 71,
     "metadata": {},
     "output_type": "execute_result"
    }
   ],
   "source": [
    "# Load farmer with Bvn \n",
    "requests.get('http://127.0.0.1:5000/api/capacity/Bvn=2').json()"
   ]
  },
  {
   "cell_type": "code",
   "execution_count": 72,
   "id": "a9a1c9aa",
   "metadata": {},
   "outputs": [
    {
     "data": {
      "text/plain": [
       "[{'id': '1',\n",
       "  'Bvn': '1',\n",
       "  'HowLongBeenFarming': '1',\n",
       "  'ParticipatedInTraining': '1',\n",
       "  'FarmingPractice': '1',\n",
       "  'KeepsAnimals': '1',\n",
       "  'HasCooperative': '1',\n",
       "  'CooperativeName': '1',\n",
       "  'EducationLevel': '1'}]"
      ]
     },
     "execution_count": 72,
     "metadata": {},
     "output_type": "execute_result"
    }
   ],
   "source": [
    "# Load all Farmers\n",
    "requests.get('http://127.0.0.1:5000/api/capacity/all').json()"
   ]
  },
  {
   "cell_type": "code",
   "execution_count": 73,
   "id": "4aac6000",
   "metadata": {},
   "outputs": [
    {
     "data": {
      "text/plain": [
       "{'error': True,\n",
       " 'message': 'Sorry your request can not be processed at the moment',\n",
       " 'data': 'Record with Bvn already exists!'}"
      ]
     },
     "execution_count": 73,
     "metadata": {},
     "output_type": "execute_result"
    }
   ],
   "source": [
    "# Add New Farmer\n",
    "data = {\n",
    "  'Bvn':1,\n",
    "        'HowLongBeenFarming':1,'ParticipatedInTraining':1,\n",
    "        'FarmingPractice':1,'KeepsAnimals':1,\n",
    "        'HasCooperative':1,'CooperativeName':1,\n",
    "        'EducationLevel':1\n",
    "}\n",
    "\n",
    "requests.post('http://127.0.0.1:5000/api/add/capacity', data=data).json()"
   ]
  },
  {
   "cell_type": "markdown",
   "id": "367fc5fb",
   "metadata": {},
   "source": [
    "# practice"
   ]
  },
  {
   "cell_type": "code",
   "execution_count": 74,
   "id": "1c81cb28",
   "metadata": {},
   "outputs": [
    {
     "data": {
      "text/plain": [
       "{'id': '1',\n",
       " 'Bvn': '1',\n",
       " 'SizeOfFarm': '1',\n",
       " 'FarmIsRentedorLeased': '1',\n",
       " 'NoOfYearsLeased': '1',\n",
       " 'UsesMachines': '1',\n",
       " 'RotatesCrops': '1',\n",
       " 'NoOfHectaresProducedYearly': '1',\n",
       " 'ApproxFertilizerUse': '1',\n",
       " 'NoOfFertlizerApplications': '1',\n",
       " 'DecisionForSpraying': '1',\n",
       " 'WeedControlPractice': '1',\n",
       " 'EstimatedIncomePerCrop': '1',\n",
       " 'CropthatcanSellWell': '1',\n",
       " 'HasFarmPlanOrProject': '1',\n",
       " 'FarmProjectInfo': '1'}"
      ]
     },
     "execution_count": 74,
     "metadata": {},
     "output_type": "execute_result"
    }
   ],
   "source": [
    "# Load farmer with Bvn \n",
    "requests.get('http://127.0.0.1:5000/api/practice/Bvn=1').json()"
   ]
  },
  {
   "cell_type": "code",
   "execution_count": 75,
   "id": "108fe7aa",
   "metadata": {},
   "outputs": [
    {
     "data": {
      "text/plain": [
       "{'error': True,\n",
       " 'message': 'Sorry your request can not be processed at the moment',\n",
       " 'data': 'Bvn Not Found'}"
      ]
     },
     "execution_count": 75,
     "metadata": {},
     "output_type": "execute_result"
    }
   ],
   "source": [
    "# Load farmer with Bvn \n",
    "requests.get('http://127.0.0.1:5000/api/practice/Bvn=30').json()"
   ]
  },
  {
   "cell_type": "code",
   "execution_count": 76,
   "id": "ff11c196",
   "metadata": {},
   "outputs": [
    {
     "data": {
      "text/plain": [
       "[{'id': '1',\n",
       "  'Bvn': '1',\n",
       "  'SizeOfFarm': '1',\n",
       "  'FarmIsRentedorLeased': '1',\n",
       "  'NoOfYearsLeased': '1',\n",
       "  'UsesMachines': '1',\n",
       "  'RotatesCrops': '1',\n",
       "  'NoOfHectaresProducedYearly': '1',\n",
       "  'ApproxFertilizerUse': '1',\n",
       "  'NoOfFertlizerApplications': '1',\n",
       "  'DecisionForSpraying': '1',\n",
       "  'WeedControlPractice': '1',\n",
       "  'EstimatedIncomePerCrop': '1',\n",
       "  'CropthatcanSellWell': '1',\n",
       "  'HasFarmPlanOrProject': '1',\n",
       "  'FarmProjectInfo': '1'}]"
      ]
     },
     "execution_count": 76,
     "metadata": {},
     "output_type": "execute_result"
    }
   ],
   "source": [
    "# Load all Farmers\n",
    "requests.get('http://127.0.0.1:5000/api/practice/all').json()"
   ]
  },
  {
   "cell_type": "code",
   "execution_count": 77,
   "id": "6ea9c817",
   "metadata": {},
   "outputs": [
    {
     "data": {
      "text/plain": [
       "{'error': True,\n",
       " 'message': 'Sorry your request can not be processed at the moment',\n",
       " 'data': 'Record with Bvn already exists!'}"
      ]
     },
     "execution_count": 77,
     "metadata": {},
     "output_type": "execute_result"
    }
   ],
   "source": [
    "# Add New Farmer\n",
    "data = {\n",
    "  'Bvn':1,'SizeOfFarm':1,\n",
    "        'FarmIsRentedorLeased':1,'NoOfYearsLeased':1,\n",
    "        'UsesMachines':1,'RotatesCrops':1,\n",
    "        'NoOfHectaresProducedYearly':1,'ApproxFertilizerUse':1,\n",
    "        'NoOfFertlizerApplications':1,'DecisionForSpraying':1,\n",
    "        'WeedControlPractice':1,'EstimatedIncomePerCrop':1,\n",
    "        'CropthatcanSellWell':1,'HasFarmPlanOrProject':1,\n",
    "        'FarmProjectInfo':1\n",
    "}\n",
    "\n",
    "requests.post('http://127.0.0.1:5000/api/add/practice', data=data).json()"
   ]
  },
  {
   "cell_type": "markdown",
   "id": "6cf1a8a3",
   "metadata": {},
   "source": [
    "# mechanization"
   ]
  },
  {
   "cell_type": "code",
   "execution_count": 78,
   "id": "4d1b2fe9",
   "metadata": {},
   "outputs": [
    {
     "data": {
      "text/plain": [
       "{'id': '1',\n",
       " 'Bvn': '1',\n",
       " 'MachinesUsed': '1',\n",
       " 'MachineHasHelped': '1',\n",
       " 'AdviseMachineOrLabour': '1',\n",
       " 'OtherMachinesNeeded': '1',\n",
       " 'CanAcquireMoreLands': '1',\n",
       " 'PercentCostSaved': '1'}"
      ]
     },
     "execution_count": 78,
     "metadata": {},
     "output_type": "execute_result"
    }
   ],
   "source": [
    "# Load farmer with Bvn \n",
    "requests.get('http://127.0.0.1:5000/api/mechanization/Bvn=1').json()"
   ]
  },
  {
   "cell_type": "code",
   "execution_count": 79,
   "id": "8137cd6f",
   "metadata": {},
   "outputs": [
    {
     "data": {
      "text/plain": [
       "{'error': True,\n",
       " 'message': 'Sorry your request can not be processed at the moment',\n",
       " 'data': 'Bvn Not Found'}"
      ]
     },
     "execution_count": 79,
     "metadata": {},
     "output_type": "execute_result"
    }
   ],
   "source": [
    "# Load farmer with Bvn \n",
    "requests.get('http://127.0.0.1:5000/api/mechanization/Bvn=30').json()"
   ]
  },
  {
   "cell_type": "code",
   "execution_count": 80,
   "id": "a147a8ee",
   "metadata": {},
   "outputs": [
    {
     "data": {
      "text/plain": [
       "[{'id': '1',\n",
       "  'Bvn': '1',\n",
       "  'MachinesUsed': '1',\n",
       "  'MachineHasHelped': '1',\n",
       "  'AdviseMachineOrLabour': '1',\n",
       "  'OtherMachinesNeeded': '1',\n",
       "  'CanAcquireMoreLands': '1',\n",
       "  'PercentCostSaved': '1'}]"
      ]
     },
     "execution_count": 80,
     "metadata": {},
     "output_type": "execute_result"
    }
   ],
   "source": [
    "# Load all Farmers\n",
    "requests.get('http://127.0.0.1:5000/api/mechanization/all').json()"
   ]
  },
  {
   "cell_type": "code",
   "execution_count": 81,
   "id": "52fde303",
   "metadata": {},
   "outputs": [
    {
     "data": {
      "text/plain": [
       "{'error': True,\n",
       " 'message': 'Sorry your request can not be processed at the moment',\n",
       " 'data': 'Record with Bvn already exists!'}"
      ]
     },
     "execution_count": 81,
     "metadata": {},
     "output_type": "execute_result"
    }
   ],
   "source": [
    "# Add New Farmer\n",
    "data = {\n",
    "  'Bvn':1,\n",
    "        'MachinesUsed':1,'MachineHasHelped':1,\n",
    "        'AdviseMachineOrLabour':1,'OtherMachinesNeeded':1,\n",
    "        'CanAcquireMoreLands':1,'PercentCostSaved':1\n",
    "}\n",
    "\n",
    "requests.post('http://127.0.0.1:5000/api/add/mechanization', data=data).json()"
   ]
  },
  {
   "cell_type": "markdown",
   "id": "bfb3513a",
   "metadata": {},
   "source": [
    "# cultivation"
   ]
  },
  {
   "cell_type": "code",
   "execution_count": 82,
   "id": "7269708b",
   "metadata": {},
   "outputs": [
    {
     "data": {
      "text/plain": [
       "{'id': '1',\n",
       " 'Bvn': '1',\n",
       " 'type_of_labor': '1',\n",
       " 'pay_for_labor': '1',\n",
       " 'how_many_housechildren_help': '1',\n",
       " 'season_children_help': '1',\n",
       " 'labor_children_do': '1',\n",
       " 'household_vs_hire_cost': '1',\n",
       " 'labor_women_do': '1',\n",
       " 'percent_female_hired': '1'}"
      ]
     },
     "execution_count": 82,
     "metadata": {},
     "output_type": "execute_result"
    }
   ],
   "source": [
    "# Load farmer with Bvn \n",
    "requests.get('http://127.0.0.1:5000/api/cultivation/Bvn=1').json()"
   ]
  },
  {
   "cell_type": "code",
   "execution_count": 83,
   "id": "d4735ac3",
   "metadata": {},
   "outputs": [
    {
     "data": {
      "text/plain": [
       "{'error': True,\n",
       " 'message': 'Sorry your request can not be processed at the moment',\n",
       " 'data': 'Bvn Not Found'}"
      ]
     },
     "execution_count": 83,
     "metadata": {},
     "output_type": "execute_result"
    }
   ],
   "source": [
    "# Load farmer with Bvn \n",
    "requests.get('http://127.0.0.1:5000/api/cultivation/Bvn=30').json()"
   ]
  },
  {
   "cell_type": "code",
   "execution_count": 84,
   "id": "c987503f",
   "metadata": {},
   "outputs": [
    {
     "data": {
      "text/plain": [
       "[{'id': '1',\n",
       "  'Bvn': '1',\n",
       "  'type_of_labor': '1',\n",
       "  'pay_for_labor': '1',\n",
       "  'how_many_housechildren_help': '1',\n",
       "  'season_children_help': '1',\n",
       "  'labor_children_do': '1',\n",
       "  'household_vs_hire_cost': '1',\n",
       "  'labor_women_do': '1',\n",
       "  'percent_female_hired': '1'}]"
      ]
     },
     "execution_count": 84,
     "metadata": {},
     "output_type": "execute_result"
    }
   ],
   "source": [
    "# Load all Farmers\n",
    "requests.get('http://127.0.0.1:5000/api/cultivation/all').json()"
   ]
  },
  {
   "cell_type": "code",
   "execution_count": 85,
   "id": "45094f75",
   "metadata": {},
   "outputs": [
    {
     "data": {
      "text/plain": [
       "{'error': True,\n",
       " 'message': 'Sorry your request can not be processed at the moment',\n",
       " 'data': 'Record with Bvn already exists!'}"
      ]
     },
     "execution_count": 85,
     "metadata": {},
     "output_type": "execute_result"
    }
   ],
   "source": [
    "# Add New Farmer\n",
    "data = {\n",
    " 'Bvn':1,'type_of_labor':1,\n",
    "        'pay_for_labor':1,'how_many_housechildren_help':1,\n",
    "        'season_children_help':1,'labor_children_do':1,\n",
    "        'household_vs_hire_cost':1,'labor_women_do':1,\n",
    "        'percent_female_hired':1\n",
    "}\n",
    "\n",
    "requests.post('http://127.0.0.1:5000/api/add/cultivation', data=data).json()"
   ]
  },
  {
   "cell_type": "markdown",
   "id": "2ab5e500",
   "metadata": {},
   "source": [
    "# harvest"
   ]
  },
  {
   "cell_type": "code",
   "execution_count": 86,
   "id": "981ef121",
   "metadata": {},
   "outputs": [
    {
     "data": {
      "text/plain": [
       "{'id': '1',\n",
       " 'Bvn': '1',\n",
       " 'when_is_harvest_season': '1',\n",
       " 'no_of_hired_workers': '1',\n",
       " 'no_of_family_workers': '1',\n",
       " 'no_of_permanent_workers': '1',\n",
       " 'no_hired_constantly': '1'}"
      ]
     },
     "execution_count": 86,
     "metadata": {},
     "output_type": "execute_result"
    }
   ],
   "source": [
    "# Load farmer with Bvn \n",
    "requests.get('http://127.0.0.1:5000/api/harvest/Bvn=1').json()"
   ]
  },
  {
   "cell_type": "code",
   "execution_count": 87,
   "id": "14b6ed01",
   "metadata": {},
   "outputs": [
    {
     "data": {
      "text/plain": [
       "{'error': True,\n",
       " 'message': 'Sorry your request can not be processed at the moment',\n",
       " 'data': 'Bvn Not Found'}"
      ]
     },
     "execution_count": 87,
     "metadata": {},
     "output_type": "execute_result"
    }
   ],
   "source": [
    "# Load farmer with Bvn \n",
    "requests.get('http://127.0.0.1:5000/api/harvest/Bvn=30').json()"
   ]
  },
  {
   "cell_type": "code",
   "execution_count": 88,
   "id": "54728ae6",
   "metadata": {},
   "outputs": [
    {
     "data": {
      "text/plain": [
       "[{'id': '1',\n",
       "  'Bvn': '1',\n",
       "  'when_is_harvest_season': '1',\n",
       "  'no_of_hired_workers': '1',\n",
       "  'no_of_family_workers': '1',\n",
       "  'no_of_permanent_workers': '1',\n",
       "  'no_hired_constantly': '1'}]"
      ]
     },
     "execution_count": 88,
     "metadata": {},
     "output_type": "execute_result"
    }
   ],
   "source": [
    "# Load all Farmers\n",
    "requests.get('http://127.0.0.1:5000/api/harvest/all').json()"
   ]
  },
  {
   "cell_type": "code",
   "execution_count": 89,
   "id": "06c75eec",
   "metadata": {},
   "outputs": [
    {
     "data": {
      "text/plain": [
       "{'error': True,\n",
       " 'message': 'Sorry your request can not be processed at the moment',\n",
       " 'data': 'Record with Bvn already exists!'}"
      ]
     },
     "execution_count": 89,
     "metadata": {},
     "output_type": "execute_result"
    }
   ],
   "source": [
    "# Add New Farmer\n",
    "data = {\n",
    "'Bvn':1,'when_is_harvest_season':1,\n",
    "        'no_of_hired_workers':1,'no_of_family_workers':1,\n",
    "        'no_of_permanent_workers':1,'no_hired_constantly':1\n",
    "}\n",
    "\n",
    "requests.post('http://127.0.0.1:5000/api/add/harvest', data=data).json()"
   ]
  },
  {
   "cell_type": "markdown",
   "id": "c556f613",
   "metadata": {},
   "source": [
    "# request merging\n",
    "# 5c/capacity"
   ]
  },
  {
   "cell_type": "code",
   "execution_count": 90,
   "id": "441df68d",
   "metadata": {},
   "outputs": [
    {
     "data": {
      "text/plain": [
       "{'capital': {'id': '1',\n",
       "  'Bvn': '1',\n",
       "  'MainIncomeSource': '1',\n",
       "  'OtherIncomeSource': '1',\n",
       "  'NoOfIncomeEarners': '1',\n",
       "  'HasBankAccount': '1',\n",
       "  'FirstFundingOption': '1',\n",
       "  'NeedsALoan': '1',\n",
       "  'PayBackMonths': '1',\n",
       "  'HarvestQtyChanged': '1',\n",
       "  'PestExpenseChanged': '1'},\n",
       " 'creditaccess': {'id': '1',\n",
       "  'Bvn': '1',\n",
       "  'HasServedAsTreasurer': '1',\n",
       "  'DurationAsTreasurer': '1',\n",
       "  'SavesMoneyMonthly': '1',\n",
       "  'SavingsAmount': '1',\n",
       "  'HadDifficultyRepaying': '1',\n",
       "  'DifficultLoanAmount': '1',\n",
       "  'DifficultyReason': '1',\n",
       "  'NoOfDifficultLoans': '1',\n",
       "  'NoOfRepaidLoans': '1',\n",
       "  'NoOfLoansOnTime': '1',\n",
       "  'EstMonthlyIncome': '1',\n",
       "  'CostOfCultivation': '1',\n",
       "  'FarmProduceExchanged': '1',\n",
       "  'NoOfTimesExchanged': '1',\n",
       "  'Collateral': '1',\n",
       "  'ApplyLoanAmount': '1',\n",
       "  'YearsOfCultivating': '1',\n",
       "  'AnnualTurnover': '1'}}"
      ]
     },
     "execution_count": 90,
     "metadata": {},
     "output_type": "execute_result"
    }
   ],
   "source": [
    "# Load farmer with Bvn \n",
    "requests.get('http://127.0.0.1:5000/api/5c/capacity/Bvn=1').json()"
   ]
  },
  {
   "cell_type": "code",
   "execution_count": 91,
   "id": "65a5a9bc",
   "metadata": {},
   "outputs": [
    {
     "data": {
      "text/plain": [
       "{'message': 'The method is not allowed for the requested URL.'}"
      ]
     },
     "execution_count": 91,
     "metadata": {},
     "output_type": "execute_result"
    }
   ],
   "source": [
    "# Load farmer with Bvn \n",
    "requests.delete('http://127.0.0.1:5000/api/5c/capacity/Bvn=4').json()"
   ]
  },
  {
   "cell_type": "code",
   "execution_count": 92,
   "id": "38614ff0",
   "metadata": {},
   "outputs": [
    {
     "data": {
      "text/plain": [
       "{'capacity': [{'id': '1',\n",
       "   'Bvn': '1',\n",
       "   'HowLongBeenFarming': '1',\n",
       "   'ParticipatedInTraining': '1',\n",
       "   'FarmingPractice': '1',\n",
       "   'KeepsAnimals': '1',\n",
       "   'HasCooperative': '1',\n",
       "   'CooperativeName': '1',\n",
       "   'EducationLevel': '1'}],\n",
       " 'practice': [{'id': '1',\n",
       "   'Bvn': '1',\n",
       "   'SizeOfFarm': '1',\n",
       "   'FarmIsRentedorLeased': '1',\n",
       "   'NoOfYearsLeased': '1',\n",
       "   'UsesMachines': '1',\n",
       "   'RotatesCrops': '1',\n",
       "   'NoOfHectaresProducedYearly': '1',\n",
       "   'ApproxFertilizerUse': '1',\n",
       "   'NoOfFertlizerApplications': '1',\n",
       "   'DecisionForSpraying': '1',\n",
       "   'WeedControlPractice': '1',\n",
       "   'EstimatedIncomePerCrop': '1',\n",
       "   'CropthatcanSellWell': '1',\n",
       "   'HasFarmPlanOrProject': '1',\n",
       "   'FarmProjectInfo': '1'}],\n",
       " 'mechanization': [{'id': '1',\n",
       "   'Bvn': '1',\n",
       "   'MachinesUsed': '1',\n",
       "   'MachineHasHelped': '1',\n",
       "   'AdviseMachineOrLabour': '1',\n",
       "   'OtherMachinesNeeded': '1',\n",
       "   'CanAcquireMoreLands': '1',\n",
       "   'PercentCostSaved': '1'}],\n",
       " 'cultivation': [{'id': '1',\n",
       "   'Bvn': '1',\n",
       "   'type_of_labor': '1',\n",
       "   'pay_for_labor': '1',\n",
       "   'how_many_housechildren_help': '1',\n",
       "   'season_children_help': '1',\n",
       "   'labor_children_do': '1',\n",
       "   'household_vs_hire_cost': '1',\n",
       "   'labor_women_do': '1',\n",
       "   'percent_female_hired': '1'}],\n",
       " 'harvest': [{'id': '1',\n",
       "   'Bvn': '1',\n",
       "   'when_is_harvest_season': '1',\n",
       "   'no_of_hired_workers': '1',\n",
       "   'no_of_family_workers': '1',\n",
       "   'no_of_permanent_workers': '1',\n",
       "   'no_hired_constantly': '1'}]}"
      ]
     },
     "execution_count": 92,
     "metadata": {},
     "output_type": "execute_result"
    }
   ],
   "source": [
    "# Load all Farmers\n",
    "requests.get('http://127.0.0.1:5000/api/5c/capacity/all').json()"
   ]
  },
  {
   "cell_type": "code",
   "execution_count": 93,
   "id": "32420bcf",
   "metadata": {},
   "outputs": [],
   "source": [
    "# Add New Farmer\n",
    "data = {\n",
    " 'Bvn':1,\n",
    "        'HowLongBeenFarming':1,'ParticipatedInTraining':1,\n",
    "        'FarmingPractice':1,'KeepsAnimals':1,\n",
    "        'HasCooperative':1,'CooperativeName':1,\n",
    "        'EducationLevel':1,'when_is_harvest_season':1,\n",
    "        'no_of_hired_workers':1,'no_of_family_workers':1,\n",
    "        'no_of_permanent_workers':1,'no_hired_constantly':1,\n",
    "    'type_of_labor':1,\n",
    "        'pay_for_labor':1,'how_many_housechildren_help':1,\n",
    "        'season_children_help':1,'labor_children_do':1,\n",
    "        'household_vs_hire_cost':1,'labor_women_do':1,\n",
    "        'percent_female_hired':1,\n",
    "     'MachinesUsed':1,'MachineHasHelped':1,\n",
    "        'AdviseMachineOrLabour':1,'OtherMachinesNeeded':1,\n",
    "        'CanAcquireMoreLands':1,'PercentCostSaved':1,'SizeOfFarm':1,\n",
    "        'FarmIsRentedorLeased':1,'NoOfYearsLeased':1,\n",
    "        'UsesMachines':1,'RotatesCrops':1,\n",
    "        'NoOfHectaresProducedYearly':1,'ApproxFertilizerUse':1,\n",
    "        'NoOfFertlizerApplications':1,'DecisionForSpraying':1,\n",
    "        'WeedControlPractice':1,'EstimatedIncomePerCrop':1,\n",
    "        'CropthatcanSellWell':1,'HasFarmPlanOrProject':1,\n",
    "        'FarmProjectInfo':1\n",
    "}\n",
    "\n",
    "requests.post('http://127.0.0.1:5000/api/add/5c/capacity', data=data).json()"
   ]
  },
  {
   "cell_type": "code",
   "execution_count": null,
   "id": "c429fee9",
   "metadata": {},
   "outputs": [],
   "source": []
  }
 ],
 "metadata": {
  "kernelspec": {
   "display_name": "Python 3",
   "language": "python",
   "name": "python3"
  },
  "language_info": {
   "codemirror_mode": {
    "name": "ipython",
    "version": 3
   },
   "file_extension": ".py",
   "mimetype": "text/x-python",
   "name": "python",
   "nbconvert_exporter": "python",
   "pygments_lexer": "ipython3",
   "version": "3.8.8"
  }
 },
 "nbformat": 4,
 "nbformat_minor": 5
}
