{
 "cells": [
  {
   "cell_type": "code",
   "execution_count": 1,
   "id": "7821d168",
   "metadata": {},
   "outputs": [],
   "source": [
    "import requests"
   ]
  },
  {
   "cell_type": "markdown",
   "id": "b5b6c8aa",
   "metadata": {},
   "source": [
    "# credithistory"
   ]
  },
  {
   "cell_type": "code",
   "execution_count": 2,
   "id": "ce7fd9e2",
   "metadata": {},
   "outputs": [
    {
     "data": {
      "text/plain": [
       "{'error': True,\n",
       " 'message': 'Sorry your request can not be processed at the moment',\n",
       " 'data': 'Bvn Not Found'}"
      ]
     },
     "execution_count": 2,
     "metadata": {},
     "output_type": "execute_result"
    }
   ],
   "source": [
    "# Load farmer with Bvn \n",
    "requests.get('http://127.0.0.1:5000/api/credithistory/Bvn=1').json()"
   ]
  },
  {
   "cell_type": "code",
   "execution_count": 3,
   "id": "01ee01f3",
   "metadata": {},
   "outputs": [
    {
     "data": {
      "text/plain": [
       "{'error': True,\n",
       " 'message': 'Sorry your request can not be processed at the moment',\n",
       " 'data': 'Bvn Not Found'}"
      ]
     },
     "execution_count": 3,
     "metadata": {},
     "output_type": "execute_result"
    }
   ],
   "source": [
    "# Load farmer with Bvn \n",
    "requests.get('http://127.0.0.1:5000/api/credithistory/Bvn=2').json()"
   ]
  },
  {
   "cell_type": "code",
   "execution_count": 17,
   "id": "a9a1c9aa",
   "metadata": {},
   "outputs": [
    {
     "data": {
      "text/plain": [
       "[{'id': '1',\n",
       "  'Bvn': '1',\n",
       "  'HasTakenLoanBefore': '1',\n",
       "  'SourceOfLoan': '1',\n",
       "  'PastLoanAmount': '1',\n",
       "  'HowLoanWasRepaid': '1',\n",
       "  'IsReadyToPayInterest': '1',\n",
       "  'CanProvideCollateral': '1',\n",
       "  'WhyNoCollateral': '1'}]"
      ]
     },
     "execution_count": 17,
     "metadata": {},
     "output_type": "execute_result"
    }
   ],
   "source": [
    "# Load all Farmers\n",
    "requests.get('http://127.0.0.1:5000/api/credithistory/all').json()"
   ]
  },
  {
   "cell_type": "code",
   "execution_count": 18,
   "id": "4aac6000",
   "metadata": {},
   "outputs": [
    {
     "data": {
      "text/plain": [
       "{'error': True,\n",
       " 'message': 'Sorry your request can not be processed at the moment',\n",
       " 'data': 'Record with Bvn already exists!'}"
      ]
     },
     "execution_count": 18,
     "metadata": {},
     "output_type": "execute_result"
    }
   ],
   "source": [
    "# Add New Farmer\n",
    "data = {\n",
    "  'Bvn': '1',\n",
    "  'HasTakenLoanBefore': '1',\n",
    "  'SourceOfLoan': '1',\n",
    "  'PastLoanAmount': '1',\n",
    "  'HowLoanWasRepaid': '1',\n",
    "  'IsReadyToPayInterest': '1',\n",
    "  'CanProvideCollateral': '1',\n",
    "  'WhyNoCollateral': '1'}\n",
    "\n",
    "requests.post('http://127.0.0.1:5000/api/add/credithistory', data=data).json()"
   ]
  },
  {
   "cell_type": "markdown",
   "id": "367fc5fb",
   "metadata": {},
   "source": [
    "# productivity"
   ]
  },
  {
   "cell_type": "code",
   "execution_count": 6,
   "id": "1c81cb28",
   "metadata": {},
   "outputs": [
    {
     "data": {
      "text/plain": [
       "{'error': True,\n",
       " 'message': 'Sorry your request can not be processed at the moment',\n",
       " 'data': 'Bvn Not Found'}"
      ]
     },
     "execution_count": 6,
     "metadata": {},
     "output_type": "execute_result"
    }
   ],
   "source": [
    "# Load farmer with Bvn \n",
    "requests.get('http://127.0.0.1:5000/api/productivity/Bvn=1').json()"
   ]
  },
  {
   "cell_type": "code",
   "execution_count": 7,
   "id": "108fe7aa",
   "metadata": {},
   "outputs": [
    {
     "data": {
      "text/plain": [
       "{'error': True,\n",
       " 'message': 'Sorry your request can not be processed at the moment',\n",
       " 'data': 'Bvn Not Found'}"
      ]
     },
     "execution_count": 7,
     "metadata": {},
     "output_type": "execute_result"
    }
   ],
   "source": [
    "# Load farmer with Bvn \n",
    "requests.get('http://127.0.0.1:5000/api/productivity/Bvn=30').json()"
   ]
  },
  {
   "cell_type": "code",
   "execution_count": 19,
   "id": "ff11c196",
   "metadata": {},
   "outputs": [
    {
     "data": {
      "text/plain": [
       "[{'id': '1',\n",
       "  'Bvn': '1',\n",
       "  'CropsCultivated': '1',\n",
       "  'GrowsCrops': '1',\n",
       "  'OilPalmFertilizers': '1',\n",
       "  'CocoaFertilizers': '1',\n",
       "  'FertilizerFrequency': '1',\n",
       "  'PestFungHerbicides': '1',\n",
       "  'StageChemicalApplied': '1',\n",
       "  'NoOfOilDrums': '1',\n",
       "  'NoOfBagsSesame': '1',\n",
       "  'NoOfBagsSoyaBeans': '1',\n",
       "  'NoOfBagsMaize': '1',\n",
       "  'NoOfBagsSorghum': '1',\n",
       "  'NoOfBagsCocoaBeans': '1',\n",
       "  'CropTrainedOn': '1',\n",
       "  'WhereWhenWhoTrained': '1',\n",
       "  'NoOfTraining': '1',\n",
       "  'PruningFrequency': '1',\n",
       "  'CropBasedProblems': '1',\n",
       "  'TooYoungCrops': '1',\n",
       "  'YoungCropsAndStage': '1',\n",
       "  'CultivationStartdate': '1',\n",
       "  'IsIntensiveFarmingPractised': '1',\n",
       "  'EconomicActivities': '1'}]"
      ]
     },
     "execution_count": 19,
     "metadata": {},
     "output_type": "execute_result"
    }
   ],
   "source": [
    "# Load all Farmers\n",
    "requests.get('http://127.0.0.1:5000/api/productivity/all').json()"
   ]
  },
  {
   "cell_type": "code",
   "execution_count": 20,
   "id": "6ea9c817",
   "metadata": {},
   "outputs": [
    {
     "data": {
      "text/plain": [
       "{'id': '2',\n",
       " 'Bvn': '2',\n",
       " 'CropsCultivated': '1',\n",
       " 'GrowsCrops': '1',\n",
       " 'OilPalmFertilizers': '1',\n",
       " 'CocoaFertilizers': '1',\n",
       " 'FertilizerFrequency': '1',\n",
       " 'PestFungHerbicides': '1',\n",
       " 'StageChemicalApplied': '1',\n",
       " 'NoOfOilDrums': '1',\n",
       " 'NoOfBagsSesame': '1',\n",
       " 'NoOfBagsSoyaBeans': '1',\n",
       " 'NoOfBagsMaize': '1',\n",
       " 'NoOfBagsSorghum': '1',\n",
       " 'NoOfBagsCocoaBeans': '1',\n",
       " 'CropTrainedOn': '1',\n",
       " 'WhereWhenWhoTrained': '1',\n",
       " 'NoOfTraining': '1',\n",
       " 'PruningFrequency': '1',\n",
       " 'CropBasedProblems': '1',\n",
       " 'TooYoungCrops': '1',\n",
       " 'YoungCropsAndStage': '1',\n",
       " 'CultivationStartdate': '1',\n",
       " 'IsIntensiveFarmingPractised': '1',\n",
       " 'EconomicActivities': '1'}"
      ]
     },
     "execution_count": 20,
     "metadata": {},
     "output_type": "execute_result"
    }
   ],
   "source": [
    "# Add New Farmer\n",
    "data = {\n",
    "  'Bvn': 2,\n",
    "  'CropsCultivated': '1',\n",
    "  'GrowsCrops': '1',\n",
    "  'OilPalmFertilizers': '1',\n",
    "  'CocoaFertilizers': '1',\n",
    "  'FertilizerFrequency': '1',\n",
    "  'PestFungHerbicides': '1',\n",
    "  'StageChemicalApplied': '1',\n",
    "  'NoOfOilDrums': '1',\n",
    "  'NoOfBagsSesame': '1',\n",
    "  'NoOfBagsSoyaBeans': '1',\n",
    "  'NoOfBagsMaize': '1',\n",
    "  'NoOfBagsSorghum': '1',\n",
    "  'NoOfBagsCocoaBeans': '1',\n",
    "  'CropTrainedOn': '1',\n",
    "  'WhereWhenWhoTrained': '1',\n",
    "  'NoOfTraining': '1',\n",
    "  'PruningFrequency': '1',\n",
    "  'CropBasedProblems': '1',\n",
    "  'TooYoungCrops': '1',\n",
    "  'YoungCropsAndStage': '1',\n",
    "  'CultivationStartdate': '1',\n",
    "  'IsIntensiveFarmingPractised': '1',\n",
    "  'EconomicActivities': '1'}\n",
    "\n",
    "requests.post('http://127.0.0.1:5000/api/add/productivity', data=data).json()"
   ]
  },
  {
   "cell_type": "markdown",
   "id": "8245f77f",
   "metadata": {},
   "source": [
    "# agronomy"
   ]
  },
  {
   "cell_type": "code",
   "execution_count": 21,
   "id": "b25f72eb",
   "metadata": {},
   "outputs": [
    {
     "data": {
      "text/plain": [
       "{'id': '1',\n",
       " 'Bvn': '1',\n",
       " 'KnowsAgriProcessed': '1',\n",
       " 'AgronomistThatTrainedYou': '1',\n",
       " 'CanManageEcosystem': '1',\n",
       " 'HowToManageEcosystem': '1',\n",
       " 'IsTrainingBeneficial': '1',\n",
       " 'FieldRoutines': '1',\n",
       " 'HarvestingChanges': '1',\n",
       " 'IsCropCalendarBeneficial': '1',\n",
       " 'CropCalendarBenefits': '1',\n",
       " 'RecordKeepingBenefits': '1'}"
      ]
     },
     "execution_count": 21,
     "metadata": {},
     "output_type": "execute_result"
    }
   ],
   "source": [
    "# Load farmer with Bvn \n",
    "requests.get('http://127.0.0.1:5000/api/agronomy/Bvn=1').json()"
   ]
  },
  {
   "cell_type": "code",
   "execution_count": 22,
   "id": "2a8b7bad",
   "metadata": {},
   "outputs": [
    {
     "data": {
      "text/plain": [
       "{'error': True,\n",
       " 'message': 'Sorry your request can not be processed at the moment',\n",
       " 'data': 'Bvn Not Found'}"
      ]
     },
     "execution_count": 22,
     "metadata": {},
     "output_type": "execute_result"
    }
   ],
   "source": [
    "# Load farmer with Bvn \n",
    "requests.get('http://127.0.0.1:5000/api/agronomy/Bvn=30').json()"
   ]
  },
  {
   "cell_type": "code",
   "execution_count": 23,
   "id": "b7463866",
   "metadata": {},
   "outputs": [
    {
     "data": {
      "text/plain": [
       "[{'id': '1',\n",
       "  'Bvn': '1',\n",
       "  'KnowsAgriProcessed': '1',\n",
       "  'AgronomistThatTrainedYou': '1',\n",
       "  'CanManageEcosystem': '1',\n",
       "  'HowToManageEcosystem': '1',\n",
       "  'IsTrainingBeneficial': '1',\n",
       "  'FieldRoutines': '1',\n",
       "  'HarvestingChanges': '1',\n",
       "  'IsCropCalendarBeneficial': '1',\n",
       "  'CropCalendarBenefits': '1',\n",
       "  'RecordKeepingBenefits': '1'}]"
      ]
     },
     "execution_count": 23,
     "metadata": {},
     "output_type": "execute_result"
    }
   ],
   "source": [
    "# Load all Farmers\n",
    "requests.get('http://127.0.0.1:5000/api/agronomy/all').json()"
   ]
  },
  {
   "cell_type": "code",
   "execution_count": 24,
   "id": "c08dc186",
   "metadata": {},
   "outputs": [
    {
     "data": {
      "text/plain": [
       "{'id': '2',\n",
       " 'Bvn': '2',\n",
       " 'KnowsAgriProcessed': '1',\n",
       " 'AgronomistThatTrainedYou': '1',\n",
       " 'CanManageEcosystem': '1',\n",
       " 'HowToManageEcosystem': '1',\n",
       " 'IsTrainingBeneficial': '1',\n",
       " 'FieldRoutines': '1',\n",
       " 'HarvestingChanges': '1',\n",
       " 'IsCropCalendarBeneficial': '1',\n",
       " 'CropCalendarBenefits': '1',\n",
       " 'RecordKeepingBenefits': '1'}"
      ]
     },
     "execution_count": 24,
     "metadata": {},
     "output_type": "execute_result"
    }
   ],
   "source": [
    "# Add New Farmer\n",
    "data = {\n",
    "  'Bvn': 2,\n",
    "  'KnowsAgriProcessed': '1',\n",
    "  'AgronomistThatTrainedYou': '1',\n",
    "  'CanManageEcosystem': '1',\n",
    "  'HowToManageEcosystem': '1',\n",
    "  'IsTrainingBeneficial': '1',\n",
    "  'FieldRoutines': '1',\n",
    "  'HarvestingChanges': '1',\n",
    "  'IsCropCalendarBeneficial': '1',\n",
    "  'CropCalendarBenefits': '1',\n",
    "  'RecordKeepingBenefits': '1'}\n",
    "\n",
    "requests.post('http://127.0.0.1:5000/api/add/agronomy', data=data).json()"
   ]
  },
  {
   "cell_type": "markdown",
   "id": "0cf5a85e",
   "metadata": {},
   "source": [
    "# psychometrics"
   ]
  },
  {
   "cell_type": "code",
   "execution_count": 13,
   "id": "9622af6b",
   "metadata": {},
   "outputs": [
    {
     "data": {
      "text/plain": [
       "{'error': True,\n",
       " 'message': 'Sorry your request can not be processed at the moment',\n",
       " 'data': 'Bvn Not Found'}"
      ]
     },
     "execution_count": 13,
     "metadata": {},
     "output_type": "execute_result"
    }
   ],
   "source": [
    "# Load farmer with Bvn \n",
    "requests.get('http://127.0.0.1:5000/api/psychometrics/Bvn=1').json()"
   ]
  },
  {
   "cell_type": "code",
   "execution_count": 14,
   "id": "7952196b",
   "metadata": {},
   "outputs": [
    {
     "data": {
      "text/plain": [
       "{'error': True,\n",
       " 'message': 'Sorry your request can not be processed at the moment',\n",
       " 'data': 'Bvn Not Found'}"
      ]
     },
     "execution_count": 14,
     "metadata": {},
     "output_type": "execute_result"
    }
   ],
   "source": [
    "# Load farmer with Bvn \n",
    "requests.get('http://127.0.0.1:5000/api/psychometrics/Bvn=30').json()"
   ]
  },
  {
   "cell_type": "code",
   "execution_count": 15,
   "id": "dab44a3b",
   "metadata": {},
   "outputs": [
    {
     "data": {
      "text/plain": [
       "[{'id': '80',\n",
       "  'Bvn': '80',\n",
       "  'FluidIntelligence': 'hhd1',\n",
       "  'AttitudesandBeliefs': '1',\n",
       "  'AgribusinessSkills': '1',\n",
       "  'EthicsandHonesty': '1',\n",
       "  'SavesEnough': '1',\n",
       "  'HasLazyNeighbors': '1'}]"
      ]
     },
     "execution_count": 15,
     "metadata": {},
     "output_type": "execute_result"
    }
   ],
   "source": [
    "# Load all Farmers\n",
    "requests.get('http://127.0.0.1:5000/api/psychometrics/all').json()"
   ]
  },
  {
   "cell_type": "code",
   "execution_count": 25,
   "id": "0d9e6ce7",
   "metadata": {},
   "outputs": [
    {
     "data": {
      "text/plain": [
       "{'error': True,\n",
       " 'message': 'Sorry your request can not be processed at the moment',\n",
       " 'data': 'Record with Bvn already exists!'}"
      ]
     },
     "execution_count": 25,
     "metadata": {},
     "output_type": "execute_result"
    }
   ],
   "source": [
    "# Add New Farmer\n",
    "data = {\n",
    "  'Bvn': '80',\n",
    "  'FluidIntelligence': 'hhd1',\n",
    "  'AttitudesandBeliefs': '1',\n",
    "  'AgribusinessSkills': '1',\n",
    "  'EthicsandHonesty': '1',\n",
    "  'SavesEnough': '1',\n",
    "  'HasLazyNeighbors': '1'}\n",
    "\n",
    "requests.post('http://127.0.0.1:5000/api/add/psychometrics', data=data).json()"
   ]
  },
  {
   "cell_type": "markdown",
   "id": "fa5bb8a8",
   "metadata": {},
   "source": [
    "# mobiledata"
   ]
  },
  {
   "cell_type": "code",
   "execution_count": 26,
   "id": "9e9a02b5",
   "metadata": {},
   "outputs": [
    {
     "data": {
      "text/plain": [
       "{'id': '1',\n",
       " 'Bvn': '1',\n",
       " 'MobilePhoneType': '1',\n",
       " 'Avweeklyphoneuse': '1',\n",
       " 'Callsoutnumber': '1',\n",
       " 'Callsoutminutes': '1',\n",
       " 'Callsinnumber': '1',\n",
       " 'Callinminutes': '1',\n",
       " 'SMSsent': '1',\n",
       " 'Dataprecedingplanswitch': '1',\n",
       " 'Billpaymenthistory': '1',\n",
       " 'Avweeklydatarefill': '1',\n",
       " 'NoOfmobileapps': '1',\n",
       " 'AvTimeSpentOnApp': '1',\n",
       " 'MobileAppKinds': '1',\n",
       " 'AppDeleteRate': '1'}"
      ]
     },
     "execution_count": 26,
     "metadata": {},
     "output_type": "execute_result"
    }
   ],
   "source": [
    "# Load farmer with Bvn \n",
    "requests.get('http://127.0.0.1:5000/api/mobiledata/Bvn=1').json()"
   ]
  },
  {
   "cell_type": "code",
   "execution_count": 11,
   "id": "251419a9",
   "metadata": {},
   "outputs": [
    {
     "data": {
      "text/plain": [
       "{'error': True,\n",
       " 'message': 'Sorry your request can not be processed at the moment',\n",
       " 'data': 'Bvn Not Found'}"
      ]
     },
     "execution_count": 11,
     "metadata": {},
     "output_type": "execute_result"
    }
   ],
   "source": [
    "# Load farmer with Bvn \n",
    "requests.get('http://127.0.0.1:5000/api/mobiledata/Bvn=30').json()"
   ]
  },
  {
   "cell_type": "code",
   "execution_count": 27,
   "id": "174d2ad5",
   "metadata": {},
   "outputs": [
    {
     "data": {
      "text/plain": [
       "[{'id': '1',\n",
       "  'Bvn': '1',\n",
       "  'MobilePhoneType': '1',\n",
       "  'Avweeklyphoneuse': '1',\n",
       "  'Callsoutnumber': '1',\n",
       "  'Callsoutminutes': '1',\n",
       "  'Callsinnumber': '1',\n",
       "  'Callinminutes': '1',\n",
       "  'SMSsent': '1',\n",
       "  'Dataprecedingplanswitch': '1',\n",
       "  'Billpaymenthistory': '1',\n",
       "  'Avweeklydatarefill': '1',\n",
       "  'NoOfmobileapps': '1',\n",
       "  'AvTimeSpentOnApp': '1',\n",
       "  'MobileAppKinds': '1',\n",
       "  'AppDeleteRate': '1'}]"
      ]
     },
     "execution_count": 27,
     "metadata": {},
     "output_type": "execute_result"
    }
   ],
   "source": [
    "# Load all Farmers\n",
    "requests.get('http://127.0.0.1:5000/api/mobiledata/all').json()"
   ]
  },
  {
   "cell_type": "code",
   "execution_count": 28,
   "id": "517daa7f",
   "metadata": {},
   "outputs": [
    {
     "data": {
      "text/plain": [
       "{'error': True,\n",
       " 'message': 'Sorry your request can not be processed at the moment',\n",
       " 'data': 'Record with Bvn already exists!'}"
      ]
     },
     "execution_count": 28,
     "metadata": {},
     "output_type": "execute_result"
    }
   ],
   "source": [
    "# Add New Farmer\n",
    "data = {\n",
    "  'Bvn': '1',\n",
    "  'MobilePhoneType': '1',\n",
    "  'Avweeklyphoneuse': '1',\n",
    "  'Callsoutnumber': '1',\n",
    "  'Callsoutminutes': '1',\n",
    "  'Callsinnumber': '1',\n",
    "  'Callinminutes': '1',\n",
    "  'SMSsent': '1',\n",
    "  'Dataprecedingplanswitch': '1',\n",
    "  'Billpaymenthistory': '1',\n",
    "  'Avweeklydatarefill': '1',\n",
    "  'NoOfmobileapps': '1',\n",
    "  'AvTimeSpentOnApp': '1',\n",
    "  'MobileAppKinds': '1',\n",
    "  'AppDeleteRate': '1'}\n",
    "\n",
    "requests.post('http://127.0.0.1:5000/api/add/mobiledata', data=data).json()"
   ]
  },
  {
   "cell_type": "markdown",
   "id": "c556f613",
   "metadata": {},
   "source": [
    "# request merging\n",
    "# 5c/character "
   ]
  },
  {
   "cell_type": "code",
   "execution_count": 34,
   "id": "441df68d",
   "metadata": {},
   "outputs": [
    {
     "data": {
      "text/plain": [
       "{'credithistory': {'id': '1',\n",
       "  'Bvn': '1',\n",
       "  'HasTakenLoanBefore': '1',\n",
       "  'SourceOfLoan': '1',\n",
       "  'PastLoanAmount': '1',\n",
       "  'HowLoanWasRepaid': '1',\n",
       "  'IsReadyToPayInterest': '1',\n",
       "  'CanProvideCollateral': '1',\n",
       "  'WhyNoCollateral': '1'},\n",
       " 'productivity': {'id': '1',\n",
       "  'Bvn': '1',\n",
       "  'CropsCultivated': '1',\n",
       "  'GrowsCrops': '1',\n",
       "  'OilPalmFertilizers': '1',\n",
       "  'CocoaFertilizers': '1',\n",
       "  'FertilizerFrequency': '1',\n",
       "  'PestFungHerbicides': '1',\n",
       "  'StageChemicalApplied': '1',\n",
       "  'NoOfOilDrums': '1',\n",
       "  'NoOfBagsSesame': '1',\n",
       "  'NoOfBagsSoyaBeans': '1',\n",
       "  'NoOfBagsMaize': '1',\n",
       "  'NoOfBagsSorghum': '1',\n",
       "  'NoOfBagsCocoaBeans': '1',\n",
       "  'CropTrainedOn': '1',\n",
       "  'WhereWhenWhoTrained': '1',\n",
       "  'NoOfTraining': '1',\n",
       "  'PruningFrequency': '1',\n",
       "  'CropBasedProblems': '1',\n",
       "  'TooYoungCrops': '1',\n",
       "  'YoungCropsAndStage': '1',\n",
       "  'CultivationStartdate': '1',\n",
       "  'IsIntensiveFarmingPractised': '1',\n",
       "  'EconomicActivities': '1'},\n",
       " 'agronomy': {'id': '1',\n",
       "  'Bvn': '1',\n",
       "  'KnowsAgriProcessed': '1',\n",
       "  'AgronomistThatTrainedYou': '1',\n",
       "  'CanManageEcosystem': '1',\n",
       "  'HowToManageEcosystem': '1',\n",
       "  'IsTrainingBeneficial': '1',\n",
       "  'FieldRoutines': '1',\n",
       "  'HarvestingChanges': '1',\n",
       "  'IsCropCalendarBeneficial': '1',\n",
       "  'CropCalendarBenefits': '1',\n",
       "  'RecordKeepingBenefits': '1'},\n",
       " 'psychometrics': {'id': '1',\n",
       "  'Bvn': '1',\n",
       "  'FluidIntelligence': '1',\n",
       "  'AttitudesandBeliefs': '1',\n",
       "  'AgribusinessSkills': '1',\n",
       "  'EthicsandHonesty': '1',\n",
       "  'SavesEnough': '1',\n",
       "  'HasLazyNeighbors': '1'},\n",
       " 'mobiledata': {'id': '1',\n",
       "  'Bvn': '1',\n",
       "  'MobilePhoneType': '1',\n",
       "  'Avweeklyphoneuse': '1',\n",
       "  'Callsoutnumber': '1',\n",
       "  'Callsoutminutes': '1',\n",
       "  'Callsinnumber': '1',\n",
       "  'Callinminutes': '1',\n",
       "  'SMSsent': '1',\n",
       "  'Dataprecedingplanswitch': '1',\n",
       "  'Billpaymenthistory': '1',\n",
       "  'Avweeklydatarefill': '1',\n",
       "  'NoOfmobileapps': '1',\n",
       "  'AvTimeSpentOnApp': '1',\n",
       "  'MobileAppKinds': '1',\n",
       "  'AppDeleteRate': '1'}}"
      ]
     },
     "execution_count": 34,
     "metadata": {},
     "output_type": "execute_result"
    }
   ],
   "source": [
    "# Load farmer with Bvn \n",
    "requests.get('http://127.0.0.1:5000/api/5c/character/Bvn=1').json()"
   ]
  },
  {
   "cell_type": "code",
   "execution_count": 33,
   "id": "65a5a9bc",
   "metadata": {},
   "outputs": [
    {
     "data": {
      "text/plain": [
       "{'message': 'success'}"
      ]
     },
     "execution_count": 33,
     "metadata": {},
     "output_type": "execute_result"
    }
   ],
   "source": [
    "# Load farmer with Bvn \n",
    "requests.delete('http://127.0.0.1:5000/api/5c/character/Bvn=4').json()"
   ]
  },
  {
   "cell_type": "code",
   "execution_count": 31,
   "id": "38614ff0",
   "metadata": {},
   "outputs": [
    {
     "data": {
      "text/plain": [
       "{'credithistory': [{'id': '1',\n",
       "   'Bvn': '1',\n",
       "   'HasTakenLoanBefore': '1',\n",
       "   'SourceOfLoan': '1',\n",
       "   'PastLoanAmount': '1',\n",
       "   'HowLoanWasRepaid': '1',\n",
       "   'IsReadyToPayInterest': '1',\n",
       "   'CanProvideCollateral': '1',\n",
       "   'WhyNoCollateral': '1'}],\n",
       " 'productivity': [{'id': '1',\n",
       "   'Bvn': '1',\n",
       "   'CropsCultivated': '1',\n",
       "   'GrowsCrops': '1',\n",
       "   'OilPalmFertilizers': '1',\n",
       "   'CocoaFertilizers': '1',\n",
       "   'FertilizerFrequency': '1',\n",
       "   'PestFungHerbicides': '1',\n",
       "   'StageChemicalApplied': '1',\n",
       "   'NoOfOilDrums': '1',\n",
       "   'NoOfBagsSesame': '1',\n",
       "   'NoOfBagsSoyaBeans': '1',\n",
       "   'NoOfBagsMaize': '1',\n",
       "   'NoOfBagsSorghum': '1',\n",
       "   'NoOfBagsCocoaBeans': '1',\n",
       "   'CropTrainedOn': '1',\n",
       "   'WhereWhenWhoTrained': '1',\n",
       "   'NoOfTraining': '1',\n",
       "   'PruningFrequency': '1',\n",
       "   'CropBasedProblems': '1',\n",
       "   'TooYoungCrops': '1',\n",
       "   'YoungCropsAndStage': '1',\n",
       "   'CultivationStartdate': '1',\n",
       "   'IsIntensiveFarmingPractised': '1',\n",
       "   'EconomicActivities': '1'},\n",
       "  {'id': '2',\n",
       "   'Bvn': '2',\n",
       "   'CropsCultivated': '1',\n",
       "   'GrowsCrops': '1',\n",
       "   'OilPalmFertilizers': '1',\n",
       "   'CocoaFertilizers': '1',\n",
       "   'FertilizerFrequency': '1',\n",
       "   'PestFungHerbicides': '1',\n",
       "   'StageChemicalApplied': '1',\n",
       "   'NoOfOilDrums': '1',\n",
       "   'NoOfBagsSesame': '1',\n",
       "   'NoOfBagsSoyaBeans': '1',\n",
       "   'NoOfBagsMaize': '1',\n",
       "   'NoOfBagsSorghum': '1',\n",
       "   'NoOfBagsCocoaBeans': '1',\n",
       "   'CropTrainedOn': '1',\n",
       "   'WhereWhenWhoTrained': '1',\n",
       "   'NoOfTraining': '1',\n",
       "   'PruningFrequency': '1',\n",
       "   'CropBasedProblems': '1',\n",
       "   'TooYoungCrops': '1',\n",
       "   'YoungCropsAndStage': '1',\n",
       "   'CultivationStartdate': '1',\n",
       "   'IsIntensiveFarmingPractised': '1',\n",
       "   'EconomicActivities': '1'}],\n",
       " 'agronomy': [{'id': '1',\n",
       "   'Bvn': '1',\n",
       "   'KnowsAgriProcessed': '1',\n",
       "   'AgronomistThatTrainedYou': '1',\n",
       "   'CanManageEcosystem': '1',\n",
       "   'HowToManageEcosystem': '1',\n",
       "   'IsTrainingBeneficial': '1',\n",
       "   'FieldRoutines': '1',\n",
       "   'HarvestingChanges': '1',\n",
       "   'IsCropCalendarBeneficial': '1',\n",
       "   'CropCalendarBenefits': '1',\n",
       "   'RecordKeepingBenefits': '1'},\n",
       "  {'id': '2',\n",
       "   'Bvn': '2',\n",
       "   'KnowsAgriProcessed': '1',\n",
       "   'AgronomistThatTrainedYou': '1',\n",
       "   'CanManageEcosystem': '1',\n",
       "   'HowToManageEcosystem': '1',\n",
       "   'IsTrainingBeneficial': '1',\n",
       "   'FieldRoutines': '1',\n",
       "   'HarvestingChanges': '1',\n",
       "   'IsCropCalendarBeneficial': '1',\n",
       "   'CropCalendarBenefits': '1',\n",
       "   'RecordKeepingBenefits': '1'}],\n",
       " 'psychometrics': [{'id': '1',\n",
       "   'Bvn': '1',\n",
       "   'FluidIntelligence': '1',\n",
       "   'AttitudesandBeliefs': '1',\n",
       "   'AgribusinessSkills': '1',\n",
       "   'EthicsandHonesty': '1',\n",
       "   'SavesEnough': '1',\n",
       "   'HasLazyNeighbors': '1'},\n",
       "  {'id': '80',\n",
       "   'Bvn': '80',\n",
       "   'FluidIntelligence': 'hhd1',\n",
       "   'AttitudesandBeliefs': '1',\n",
       "   'AgribusinessSkills': '1',\n",
       "   'EthicsandHonesty': '1',\n",
       "   'SavesEnough': '1',\n",
       "   'HasLazyNeighbors': '1'}],\n",
       " 'mobiledata': [{'id': '1',\n",
       "   'Bvn': '1',\n",
       "   'MobilePhoneType': '1',\n",
       "   'Avweeklyphoneuse': '1',\n",
       "   'Callsoutnumber': '1',\n",
       "   'Callsoutminutes': '1',\n",
       "   'Callsinnumber': '1',\n",
       "   'Callinminutes': '1',\n",
       "   'SMSsent': '1',\n",
       "   'Dataprecedingplanswitch': '1',\n",
       "   'Billpaymenthistory': '1',\n",
       "   'Avweeklydatarefill': '1',\n",
       "   'NoOfmobileapps': '1',\n",
       "   'AvTimeSpentOnApp': '1',\n",
       "   'MobileAppKinds': '1',\n",
       "   'AppDeleteRate': '1'}]}"
      ]
     },
     "execution_count": 31,
     "metadata": {},
     "output_type": "execute_result"
    }
   ],
   "source": [
    "# Load all Farmers\n",
    "requests.get('http://127.0.0.1:5000/api/5c/character/all').json()"
   ]
  },
  {
   "cell_type": "code",
   "execution_count": 36,
   "id": "32420bcf",
   "metadata": {},
   "outputs": [
    {
     "data": {
      "text/plain": [
       "{'message': 'success'}"
      ]
     },
     "execution_count": 36,
     "metadata": {},
     "output_type": "execute_result"
    }
   ],
   "source": [
    "# Add New Farmer\n",
    "data = {\n",
    "  'Bvn':100,\n",
    "  'HasTakenLoanBefore': '1',\n",
    "  'SourceOfLoan': '1',\n",
    "  'PastLoanAmount': '1',\n",
    "  'HowLoanWasRepaid': '1',\n",
    "  'IsReadyToPayInterest': '1',\n",
    "  'CanProvideCollateral': '1',\n",
    "  'WhyNoCollateral': '1',\n",
    "'CropsCultivated': '1',\n",
    "  'GrowsCrops': '1',\n",
    "  'OilPalmFertilizers': '1',\n",
    "  'CocoaFertilizers': '1',\n",
    "  'FertilizerFrequency': '1',\n",
    "  'PestFungHerbicides': '1',\n",
    "  'StageChemicalApplied': '1',\n",
    "  'NoOfOilDrums': '1',\n",
    "  'NoOfBagsSesame': '1',\n",
    "  'NoOfBagsSoyaBeans': '1',\n",
    "  'NoOfBagsMaize': '1',\n",
    "  'NoOfBagsSorghum': '1',\n",
    "  'NoOfBagsCocoaBeans': '1',\n",
    "  'CropTrainedOn': '1',\n",
    "  'WhereWhenWhoTrained': '1',\n",
    "  'NoOfTraining': '1',\n",
    "  'PruningFrequency': '1',\n",
    "  'CropBasedProblems': '1',\n",
    "  'TooYoungCrops': '1',\n",
    "  'YoungCropsAndStage': '1',\n",
    "  'CultivationStartdate': '1',\n",
    "  'IsIntensiveFarmingPractised': '1',\n",
    "  'EconomicActivities': '1',\n",
    "    'KnowsAgriProcessed': '1',\n",
    " 'AgronomistThatTrainedYou': '1',\n",
    " 'CanManageEcosystem': '1',\n",
    " 'HowToManageEcosystem': '1',\n",
    " 'IsTrainingBeneficial': '1',\n",
    " 'FieldRoutines': '1',\n",
    " 'HarvestingChanges': '1',\n",
    " 'IsCropCalendarBeneficial': '1',\n",
    " 'CropCalendarBenefits': '1',\n",
    " 'RecordKeepingBenefits': '1',\n",
    "    'FluidIntelligence': 'hhd1',\n",
    "  'AttitudesandBeliefs': '1',\n",
    "  'AgribusinessSkills': '1',\n",
    "  'EthicsandHonesty': '1',\n",
    "  'SavesEnough': '1',\n",
    "  'HasLazyNeighbors': '1',\n",
    "'MobilePhoneType': '1',\n",
    " 'Avweeklyphoneuse': '1',\n",
    " 'Callsoutnumber': '1',\n",
    " 'Callsoutminutes': '1',\n",
    " 'Callsinnumber': '1',\n",
    " 'Callinminutes': '1',\n",
    " 'SMSsent': '1',\n",
    " 'Dataprecedingplanswitch': '1',\n",
    " 'Billpaymenthistory': '1',\n",
    " 'Avweeklydatarefill': '1',\n",
    " 'NoOfmobileapps': '1',\n",
    " 'AvTimeSpentOnApp': '1',\n",
    " 'MobileAppKinds': '1',\n",
    " 'AppDeleteRate': '1'\n",
    "}\n",
    "\n",
    "requests.post('http://127.0.0.1:5000/api/add/5c/character', data=data).json()"
   ]
  },
  {
   "cell_type": "code",
   "execution_count": null,
   "id": "c429fee9",
   "metadata": {},
   "outputs": [],
   "source": []
  }
 ],
 "metadata": {
  "kernelspec": {
   "display_name": "Python 3",
   "language": "python",
   "name": "python3"
  },
  "language_info": {
   "codemirror_mode": {
    "name": "ipython",
    "version": 3
   },
   "file_extension": ".py",
   "mimetype": "text/x-python",
   "name": "python",
   "nbconvert_exporter": "python",
   "pygments_lexer": "ipython3",
   "version": "3.8.8"
  }
 },
 "nbformat": 4,
 "nbformat_minor": 5
}
