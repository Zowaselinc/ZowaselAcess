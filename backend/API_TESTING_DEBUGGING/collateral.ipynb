{
 "cells": [
  {
   "cell_type": "code",
   "execution_count": 13,
   "id": "7821d168",
   "metadata": {},
   "outputs": [],
   "source": [
    "import requests"
   ]
  },
  {
   "cell_type": "markdown",
   "id": "b5b6c8aa",
   "metadata": {},
   "source": [
    "# farmland"
   ]
  },
  {
   "cell_type": "code",
   "execution_count": 14,
   "id": "ce7fd9e2",
   "metadata": {},
   "outputs": [
    {
     "data": {
      "text/plain": [
       "{'id': '1',\n",
       " 'Bvn': '1',\n",
       " 'NoOfFarmlands': '1',\n",
       " 'OwnerOrCaretaker': '1',\n",
       " 'FarmOwnerName': '1',\n",
       " 'FarmOwnerPhoneNo': '1',\n",
       " 'RelationshipWithOwner': '1',\n",
       " 'InheritedFrom': '1',\n",
       " 'SizeOfFarm': '1',\n",
       " 'FarmCoordinates': '1',\n",
       " 'FarmAddress': '1',\n",
       " 'KeepsAnimals': '1',\n",
       " 'AnimalsFeedOn': '1'}"
      ]
     },
     "execution_count": 14,
     "metadata": {},
     "output_type": "execute_result"
    }
   ],
   "source": [
    "# Load farmer with Bvn \n",
    "requests.get('http://127.0.0.1:5000/api/farmland/Bvn=1').json()"
   ]
  },
  {
   "cell_type": "code",
   "execution_count": 15,
   "id": "01ee01f3",
   "metadata": {},
   "outputs": [
    {
     "data": {
      "text/plain": [
       "{'error': True,\n",
       " 'message': 'Sorry your request can not be processed at the moment',\n",
       " 'data': 'Bvn Not Found'}"
      ]
     },
     "execution_count": 15,
     "metadata": {},
     "output_type": "execute_result"
    }
   ],
   "source": [
    "# Load farmer with Bvn \n",
    "requests.get('http://127.0.0.1:5000/api/farmland/Bvn=2').json()"
   ]
  },
  {
   "cell_type": "code",
   "execution_count": 16,
   "id": "a9a1c9aa",
   "metadata": {},
   "outputs": [
    {
     "data": {
      "text/plain": [
       "[{'id': '1',\n",
       "  'Bvn': '1',\n",
       "  'NoOfFarmlands': '1',\n",
       "  'OwnerOrCaretaker': '1',\n",
       "  'FarmOwnerName': '1',\n",
       "  'FarmOwnerPhoneNo': '1',\n",
       "  'RelationshipWithOwner': '1',\n",
       "  'InheritedFrom': '1',\n",
       "  'SizeOfFarm': '1',\n",
       "  'FarmCoordinates': '1',\n",
       "  'FarmAddress': '1',\n",
       "  'KeepsAnimals': '1',\n",
       "  'AnimalsFeedOn': '1'}]"
      ]
     },
     "execution_count": 16,
     "metadata": {},
     "output_type": "execute_result"
    }
   ],
   "source": [
    "# Load all Farmers\n",
    "requests.get('http://127.0.0.1:5000/api/farmland/all').json()"
   ]
  },
  {
   "cell_type": "code",
   "execution_count": 17,
   "id": "4aac6000",
   "metadata": {},
   "outputs": [
    {
     "data": {
      "text/plain": [
       "{'error': True,\n",
       " 'message': 'Sorry your request can not be processed at the moment',\n",
       " 'data': 'Record with Bvn already exists!'}"
      ]
     },
     "execution_count": 17,
     "metadata": {},
     "output_type": "execute_result"
    }
   ],
   "source": [
    "# Add New Farmer\n",
    "data = {\n",
    "      'Bvn':1,\n",
    "    'NoOfFarmlands':1,\n",
    "    'OwnerOrCaretaker':1,\n",
    "    'FarmOwnerName':1,\n",
    "    'FarmOwnerPhoneNo':1,\n",
    "    'RelationshipWithOwner':1,\n",
    "    'InheritedFrom':1,\n",
    "    'SizeOfFarm':1,\n",
    "    'FarmCoordinates':1,\n",
    "    'FarmAddress':1,\n",
    "    'KeepsAnimals':1,\n",
    "    'AnimalsFeedOn':1}\n",
    "\n",
    "requests.post('http://127.0.0.1:5000/api/add/farmland', data=data).json()"
   ]
  },
  {
   "cell_type": "markdown",
   "id": "c556f613",
   "metadata": {},
   "source": [
    "# request merging\n",
    "# 5c/collateral "
   ]
  },
  {
   "cell_type": "code",
   "execution_count": 18,
   "id": "441df68d",
   "metadata": {},
   "outputs": [
    {
     "data": {
      "text/plain": [
       "{'farmland': {'id': '1',\n",
       "  'Bvn': '1',\n",
       "  'NoOfFarmlands': '1',\n",
       "  'OwnerOrCaretaker': '1',\n",
       "  'FarmOwnerName': '1',\n",
       "  'FarmOwnerPhoneNo': '1',\n",
       "  'RelationshipWithOwner': '1',\n",
       "  'InheritedFrom': '1',\n",
       "  'SizeOfFarm': '1',\n",
       "  'FarmCoordinates': '1',\n",
       "  'FarmAddress': '1',\n",
       "  'KeepsAnimals': '1',\n",
       "  'AnimalsFeedOn': '1'}}"
      ]
     },
     "execution_count": 18,
     "metadata": {},
     "output_type": "execute_result"
    }
   ],
   "source": [
    "# Load farmer with Bvn \n",
    "requests.get('http://127.0.0.1:5000/api/5c/collateral/Bvn=1').json()"
   ]
  },
  {
   "cell_type": "code",
   "execution_count": 20,
   "id": "65a5a9bc",
   "metadata": {},
   "outputs": [
    {
     "data": {
      "text/plain": [
       "{'message': 'success'}"
      ]
     },
     "execution_count": 20,
     "metadata": {},
     "output_type": "execute_result"
    }
   ],
   "source": [
    "# Load farmer with Bvn \n",
    "requests.delete('http://127.0.0.1:5000/api/5c/collateral/Bvn=4').json()"
   ]
  },
  {
   "cell_type": "code",
   "execution_count": 21,
   "id": "38614ff0",
   "metadata": {},
   "outputs": [
    {
     "data": {
      "text/plain": [
       "{'farmland': [{'id': '1',\n",
       "   'Bvn': '1',\n",
       "   'NoOfFarmlands': '1',\n",
       "   'OwnerOrCaretaker': '1',\n",
       "   'FarmOwnerName': '1',\n",
       "   'FarmOwnerPhoneNo': '1',\n",
       "   'RelationshipWithOwner': '1',\n",
       "   'InheritedFrom': '1',\n",
       "   'SizeOfFarm': '1',\n",
       "   'FarmCoordinates': '1',\n",
       "   'FarmAddress': '1',\n",
       "   'KeepsAnimals': '1',\n",
       "   'AnimalsFeedOn': '1'}]}"
      ]
     },
     "execution_count": 21,
     "metadata": {},
     "output_type": "execute_result"
    }
   ],
   "source": [
    "# Load all Farmers\n",
    "requests.get('http://127.0.0.1:5000/api/5c/collateral/all').json()"
   ]
  },
  {
   "cell_type": "code",
   "execution_count": 22,
   "id": "32420bcf",
   "metadata": {},
   "outputs": [
    {
     "data": {
      "text/plain": [
       "{'message': 'success'}"
      ]
     },
     "execution_count": 22,
     "metadata": {},
     "output_type": "execute_result"
    }
   ],
   "source": [
    "# Add New Farmer\n",
    "data = {\n",
    "   'Bvn':1,\n",
    "    'NoOfFarmlands':1,\n",
    "    'OwnerOrCaretaker':1,\n",
    "    'FarmOwnerName':1,\n",
    "    'FarmOwnerPhoneNo':1,\n",
    "    'RelationshipWithOwner':1,\n",
    "    'InheritedFrom':1,\n",
    "    'SizeOfFarm':1,\n",
    "    'FarmCoordinates':1,\n",
    "    'FarmAddress':1,\n",
    "    'KeepsAnimals':1,\n",
    "    'AnimalsFeedOn':1}\n",
    "\n",
    "requests.post('http://127.0.0.1:5000/api/add/5c/collateral', data=data).json()"
   ]
  },
  {
   "cell_type": "code",
   "execution_count": null,
   "id": "c429fee9",
   "metadata": {},
   "outputs": [],
   "source": []
  }
 ],
 "metadata": {
  "kernelspec": {
   "display_name": "Python 3",
   "language": "python",
   "name": "python3"
  },
  "language_info": {
   "codemirror_mode": {
    "name": "ipython",
    "version": 3
   },
   "file_extension": ".py",
   "mimetype": "text/x-python",
   "name": "python",
   "nbconvert_exporter": "python",
   "pygments_lexer": "ipython3",
   "version": "3.8.8"
  }
 },
 "nbformat": 4,
 "nbformat_minor": 5
}
