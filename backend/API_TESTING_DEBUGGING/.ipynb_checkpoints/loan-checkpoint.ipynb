{
 "cells": [
  {
   "cell_type": "code",
   "execution_count": 1,
   "id": "7821d168",
   "metadata": {},
   "outputs": [],
   "source": [
    "import requests"
   ]
  },
  {
   "cell_type": "markdown",
   "id": "b5b6c8aa",
   "metadata": {},
   "source": [
    "# conditions"
   ]
  },
  {
   "cell_type": "code",
   "execution_count": 2,
   "id": "ce7fd9e2",
   "metadata": {},
   "outputs": [
    {
     "data": {
      "text/plain": [
       "{'id': '1',\n",
       " 'Bvn': '1',\n",
       " 'duration': '1',\n",
       " 'seller': '1',\n",
       " 'seller_mou': '1',\n",
       " 'CropYieldPrediction': '0',\n",
       " 'CropExpectedMarketValue': '0',\n",
       " 'ZowaselMarketplacePriceOffers': '0'}"
      ]
     },
     "execution_count": 2,
     "metadata": {},
     "output_type": "execute_result"
    }
   ],
   "source": [
    "# Load farmer with Bvn \n",
    "requests.get('http://127.0.0.1:5000/api/conditions/Bvn=1').json()"
   ]
  },
  {
   "cell_type": "code",
   "execution_count": 3,
   "id": "01ee01f3",
   "metadata": {},
   "outputs": [
    {
     "data": {
      "text/plain": [
       "{'error': True,\n",
       " 'message': 'Sorry your request can not be processed at the moment',\n",
       " 'data': 'Bvn Not Found'}"
      ]
     },
     "execution_count": 3,
     "metadata": {},
     "output_type": "execute_result"
    }
   ],
   "source": [
    "# Load farmer with Bvn \n",
    "requests.get('http://127.0.0.1:5000/api/conditions/Bvn=2').json()"
   ]
  },
  {
   "cell_type": "code",
   "execution_count": 4,
   "id": "a9a1c9aa",
   "metadata": {},
   "outputs": [
    {
     "data": {
      "text/plain": [
       "[{'id': '1',\n",
       "  'Bvn': '1',\n",
       "  'duration': '1',\n",
       "  'seller': '1',\n",
       "  'seller_mou': '1',\n",
       "  'CropYieldPrediction': '0',\n",
       "  'CropExpectedMarketValue': '0',\n",
       "  'ZowaselMarketplacePriceOffers': '0'}]"
      ]
     },
     "execution_count": 4,
     "metadata": {},
     "output_type": "execute_result"
    }
   ],
   "source": [
    "# Load all Farmers\n",
    "requests.get('http://127.0.0.1:5000/api/conditions/all').json()"
   ]
  },
  {
   "cell_type": "code",
   "execution_count": 5,
   "id": "4aac6000",
   "metadata": {},
   "outputs": [
    {
     "data": {
      "text/plain": [
       "{'id': '1',\n",
       " 'Bvn': '1',\n",
       " 'duration': '1',\n",
       " 'seller': '1',\n",
       " 'seller_mou': '1',\n",
       " 'CropYieldPrediction': None,\n",
       " 'CropExpectedMarketValue': None,\n",
       " 'ZowaselMarketplacePriceOffers': None}"
      ]
     },
     "execution_count": 5,
     "metadata": {},
     "output_type": "execute_result"
    }
   ],
   "source": [
    "# Add New Farmer\n",
    "data = {\n",
    "      'Bvn':1,\n",
    "        'duration':1,'seller':1,'seller_mou':1\n",
    "}\n",
    "\n",
    "requests.post('http://127.0.0.1:5000/api/conditions/add', data=data).json()"
   ]
  },
  {
   "cell_type": "markdown",
   "id": "c556f613",
   "metadata": {},
   "source": [
    "# request merging\n",
    "# 5c/conditions "
   ]
  },
  {
   "cell_type": "code",
   "execution_count": 6,
   "id": "441df68d",
   "metadata": {},
   "outputs": [
    {
     "data": {
      "text/plain": [
       "{'conditions': {'id': '1',\n",
       "  'Bvn': '1',\n",
       "  'duration': '1',\n",
       "  'seller': '1',\n",
       "  'seller_mou': '1',\n",
       "  'CropYieldPrediction': '0',\n",
       "  'CropExpectedMarketValue': '0',\n",
       "  'ZowaselMarketplacePriceOffers': '0'}}"
      ]
     },
     "execution_count": 6,
     "metadata": {},
     "output_type": "execute_result"
    }
   ],
   "source": [
    "# Load farmer with Bvn \n",
    "requests.get('http://127.0.0.1:5000/api/5c_conditions/Bvn=1').json()"
   ]
  },
  {
   "cell_type": "code",
   "execution_count": 7,
   "id": "65a5a9bc",
   "metadata": {},
   "outputs": [
    {
     "data": {
      "text/plain": [
       "{'message': 'success'}"
      ]
     },
     "execution_count": 7,
     "metadata": {},
     "output_type": "execute_result"
    }
   ],
   "source": [
    "# Load farmer with Bvn \n",
    "requests.delete('http://127.0.0.1:5000/api/5c_conditions/Bvn=4').json()"
   ]
  },
  {
   "cell_type": "code",
   "execution_count": 8,
   "id": "38614ff0",
   "metadata": {},
   "outputs": [
    {
     "data": {
      "text/plain": [
       "{'conditions': [{'id': '1',\n",
       "   'Bvn': '1',\n",
       "   'duration': '1',\n",
       "   'seller': '1',\n",
       "   'seller_mou': '1',\n",
       "   'CropYieldPrediction': '0',\n",
       "   'CropExpectedMarketValue': '0',\n",
       "   'ZowaselMarketplacePriceOffers': '0'}]}"
      ]
     },
     "execution_count": 8,
     "metadata": {},
     "output_type": "execute_result"
    }
   ],
   "source": [
    "# Load all Farmers\n",
    "requests.get('http://127.0.0.1:5000/api/5c_conditions/all').json()"
   ]
  },
  {
   "cell_type": "code",
   "execution_count": 9,
   "id": "32420bcf",
   "metadata": {},
   "outputs": [
    {
     "data": {
      "text/plain": [
       "{'id': '1',\n",
       " 'Bvn': '1',\n",
       " 'duration': '1',\n",
       " 'seller': '1',\n",
       " 'seller_mou': '1',\n",
       " 'CropYieldPrediction': None,\n",
       " 'CropExpectedMarketValue': None,\n",
       " 'ZowaselMarketplacePriceOffers': None}"
      ]
     },
     "execution_count": 9,
     "metadata": {},
     "output_type": "execute_result"
    }
   ],
   "source": [
    "# Add New Farmer\n",
    "data = {\n",
    "'Bvn':1,\n",
    "        'duration':1,'seller':1,'seller_mou':1\n",
    "}\n",
    "\n",
    "requests.post('http://127.0.0.1:5000/api/5c_conditions/add', data=data).json()"
   ]
  },
  {
   "cell_type": "code",
   "execution_count": null,
   "id": "c429fee9",
   "metadata": {},
   "outputs": [],
   "source": []
  }
 ],
 "metadata": {
  "kernelspec": {
   "display_name": "Python 3",
   "language": "python",
   "name": "python3"
  },
  "language_info": {
   "codemirror_mode": {
    "name": "ipython",
    "version": 3
   },
   "file_extension": ".py",
   "mimetype": "text/x-python",
   "name": "python",
   "nbconvert_exporter": "python",
   "pygments_lexer": "ipython3",
   "version": "3.8.8"
  }
 },
 "nbformat": 4,
 "nbformat_minor": 5
}
