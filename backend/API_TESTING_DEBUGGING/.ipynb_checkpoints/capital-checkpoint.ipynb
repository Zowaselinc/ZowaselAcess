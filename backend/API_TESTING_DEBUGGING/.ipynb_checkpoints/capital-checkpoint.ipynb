{
 "cells": [
  {
   "cell_type": "code",
   "execution_count": 63,
   "id": "7821d168",
   "metadata": {},
   "outputs": [],
   "source": [
    "import requests"
   ]
  },
  {
   "cell_type": "markdown",
   "id": "1dd66462",
   "metadata": {},
   "source": [
    "# capital"
   ]
  },
  {
   "cell_type": "code",
   "execution_count": 64,
   "id": "ce7fd9e2",
   "metadata": {},
   "outputs": [
    {
     "data": {
      "text/plain": [
       "{'id': '1',\n",
       " 'Bvn': '1',\n",
       " 'MainIncomeSource': '1',\n",
       " 'OtherIncomeSource': '1',\n",
       " 'NoOfIncomeEarners': '1',\n",
       " 'HasBankAccount': '1',\n",
       " 'FirstFundingOption': '1',\n",
       " 'NeedsALoan': '1',\n",
       " 'PayBackMonths': '1',\n",
       " 'HarvestQtyChanged': '1',\n",
       " 'PestExpenseChanged': '1'}"
      ]
     },
     "execution_count": 64,
     "metadata": {},
     "output_type": "execute_result"
    }
   ],
   "source": [
    "# Load farmer with Bvn \n",
    "requests.get('http://127.0.0.1:5000/api/capital/Bvn=1').json()"
   ]
  },
  {
   "cell_type": "code",
   "execution_count": 65,
   "id": "01ee01f3",
   "metadata": {},
   "outputs": [
    {
     "data": {
      "text/plain": [
       "{'id': '2',\n",
       " 'Bvn': '2',\n",
       " 'MainIncomeSource': '1',\n",
       " 'OtherIncomeSource': '1',\n",
       " 'NoOfIncomeEarners': '1',\n",
       " 'HasBankAccount': '1',\n",
       " 'FirstFundingOption': '1',\n",
       " 'NeedsALoan': '1',\n",
       " 'PayBackMonths': '1',\n",
       " 'HarvestQtyChanged': '1',\n",
       " 'PestExpenseChanged': '1'}"
      ]
     },
     "execution_count": 65,
     "metadata": {},
     "output_type": "execute_result"
    }
   ],
   "source": [
    "# Load farmer with Bvn \n",
    "requests.get('http://127.0.0.1:5000/api/capital/Bvn=2').json()"
   ]
  },
  {
   "cell_type": "code",
   "execution_count": 66,
   "id": "a9a1c9aa",
   "metadata": {},
   "outputs": [
    {
     "data": {
      "text/plain": [
       "[{'id': '1',\n",
       "  'Bvn': '1',\n",
       "  'MainIncomeSource': '1',\n",
       "  'OtherIncomeSource': '1',\n",
       "  'NoOfIncomeEarners': '1',\n",
       "  'HasBankAccount': '1',\n",
       "  'FirstFundingOption': '1',\n",
       "  'NeedsALoan': '1',\n",
       "  'PayBackMonths': '1',\n",
       "  'HarvestQtyChanged': '1',\n",
       "  'PestExpenseChanged': '1'},\n",
       " {'id': '2',\n",
       "  'Bvn': '2',\n",
       "  'MainIncomeSource': '1',\n",
       "  'OtherIncomeSource': '1',\n",
       "  'NoOfIncomeEarners': '1',\n",
       "  'HasBankAccount': '1',\n",
       "  'FirstFundingOption': '1',\n",
       "  'NeedsALoan': '1',\n",
       "  'PayBackMonths': '1',\n",
       "  'HarvestQtyChanged': '1',\n",
       "  'PestExpenseChanged': '1'},\n",
       " {'id': '3',\n",
       "  'Bvn': '3',\n",
       "  'MainIncomeSource': '1',\n",
       "  'OtherIncomeSource': '1',\n",
       "  'NoOfIncomeEarners': '1',\n",
       "  'HasBankAccount': '1',\n",
       "  'FirstFundingOption': '1',\n",
       "  'NeedsALoan': '1',\n",
       "  'PayBackMonths': '1',\n",
       "  'HarvestQtyChanged': '1',\n",
       "  'PestExpenseChanged': '1'}]"
      ]
     },
     "execution_count": 66,
     "metadata": {},
     "output_type": "execute_result"
    }
   ],
   "source": [
    "# Load all Farmers\n",
    "requests.get('http://127.0.0.1:5000/api/capital/all').json()"
   ]
  },
  {
   "cell_type": "code",
   "execution_count": 99,
   "id": "4aac6000",
   "metadata": {},
   "outputs": [
    {
     "data": {
      "text/plain": [
       "{'error': True,\n",
       " 'message': 'Sorry your request can not be processed at the moment',\n",
       " 'data': 'Record with Bvn already exists!'}"
      ]
     },
     "execution_count": 99,
     "metadata": {},
     "output_type": "execute_result"
    }
   ],
   "source": [
    "# Add New Farmer\n",
    "data = {\n",
    "  'Bvn': '3',\n",
    "  'MainIncomeSource': '1',\n",
    "  'OtherIncomeSource': '1',\n",
    "  'NoOfIncomeEarners': '1',\n",
    "  'HasBankAccount': '1',\n",
    "  'FirstFundingOption': '1',\n",
    "  'NeedsALoan': '1',\n",
    "  'PayBackMonths': '1',\n",
    "  'HarvestQtyChanged': '1',\n",
    "  'PestExpenseChanged': '1'}\n",
    "\n",
    "requests.post('http://127.0.0.1:5000/api/add/capital', data=data).json()"
   ]
  },
  {
   "cell_type": "markdown",
   "id": "02ff206b",
   "metadata": {},
   "source": [
    "# creditaccess"
   ]
  },
  {
   "cell_type": "code",
   "execution_count": 68,
   "id": "8216118e",
   "metadata": {},
   "outputs": [
    {
     "data": {
      "text/plain": [
       "{'id': '1',\n",
       " 'Bvn': '1',\n",
       " 'HasServedAsTreasurer': '1',\n",
       " 'DurationAsTreasurer': '1',\n",
       " 'SavesMoneyMonthly': '1',\n",
       " 'SavingsAmount': '1',\n",
       " 'HadDifficultyRepaying': '1',\n",
       " 'DifficultLoanAmount': '1',\n",
       " 'DifficultyReason': '1',\n",
       " 'NoOfDifficultLoans': '1',\n",
       " 'NoOfRepaidLoans': '1',\n",
       " 'NoOfLoansOnTime': '1',\n",
       " 'EstMonthlyIncome': '1',\n",
       " 'CostOfCultivation': '1',\n",
       " 'FarmProduceExchanged': '1',\n",
       " 'NoOfTimesExchanged': '1',\n",
       " 'Collateral': '1',\n",
       " 'ApplyLoanAmount': '1',\n",
       " 'YearsOfCultivating': '1',\n",
       " 'AnnualTurnover': '1'}"
      ]
     },
     "execution_count": 68,
     "metadata": {},
     "output_type": "execute_result"
    }
   ],
   "source": [
    "# Load farmer with Bvn \n",
    "requests.get('http://127.0.0.1:5000/api/creditaccess/Bvn=1').json()"
   ]
  },
  {
   "cell_type": "code",
   "execution_count": 69,
   "id": "ac255183",
   "metadata": {},
   "outputs": [
    {
     "data": {
      "text/plain": [
       "{'error': True,\n",
       " 'message': 'Sorry your request can not be processed at the moment',\n",
       " 'data': 'Bvn Not Found'}"
      ]
     },
     "execution_count": 69,
     "metadata": {},
     "output_type": "execute_result"
    }
   ],
   "source": [
    "# Load farmer with Bvn \n",
    "requests.get('http://127.0.0.1:5000/api/creditaccess/Bvn=2').json()"
   ]
  },
  {
   "cell_type": "code",
   "execution_count": 70,
   "id": "dcb9704d",
   "metadata": {},
   "outputs": [
    {
     "data": {
      "text/plain": [
       "[{'id': '1',\n",
       "  'Bvn': '1',\n",
       "  'HasServedAsTreasurer': '1',\n",
       "  'DurationAsTreasurer': '1',\n",
       "  'SavesMoneyMonthly': '1',\n",
       "  'SavingsAmount': '1',\n",
       "  'HadDifficultyRepaying': '1',\n",
       "  'DifficultLoanAmount': '1',\n",
       "  'DifficultyReason': '1',\n",
       "  'NoOfDifficultLoans': '1',\n",
       "  'NoOfRepaidLoans': '1',\n",
       "  'NoOfLoansOnTime': '1',\n",
       "  'EstMonthlyIncome': '1',\n",
       "  'CostOfCultivation': '1',\n",
       "  'FarmProduceExchanged': '1',\n",
       "  'NoOfTimesExchanged': '1',\n",
       "  'Collateral': '1',\n",
       "  'ApplyLoanAmount': '1',\n",
       "  'YearsOfCultivating': '1',\n",
       "  'AnnualTurnover': '1'},\n",
       " {'id': '3',\n",
       "  'Bvn': '3',\n",
       "  'HasServedAsTreasurer': '1',\n",
       "  'DurationAsTreasurer': '1',\n",
       "  'SavesMoneyMonthly': '1',\n",
       "  'SavingsAmount': '1',\n",
       "  'HadDifficultyRepaying': '1',\n",
       "  'DifficultLoanAmount': '1',\n",
       "  'DifficultyReason': '1',\n",
       "  'NoOfDifficultLoans': '1',\n",
       "  'NoOfRepaidLoans': '1',\n",
       "  'NoOfLoansOnTime': '1',\n",
       "  'EstMonthlyIncome': '1',\n",
       "  'CostOfCultivation': '1',\n",
       "  'FarmProduceExchanged': '1',\n",
       "  'NoOfTimesExchanged': '1',\n",
       "  'Collateral': '1',\n",
       "  'ApplyLoanAmount': '1',\n",
       "  'YearsOfCultivating': '1',\n",
       "  'AnnualTurnover': '1'}]"
      ]
     },
     "execution_count": 70,
     "metadata": {},
     "output_type": "execute_result"
    }
   ],
   "source": [
    "# Load all Farmers\n",
    "requests.get('http://127.0.0.1:5000/api/creditaccess/all').json()"
   ]
  },
  {
   "cell_type": "code",
   "execution_count": 100,
   "id": "6ec5f277",
   "metadata": {},
   "outputs": [],
   "source": [
    "# Add New Farmer\n",
    "data = {\n",
    "  'Bvn': '1',\n",
    "  'HasServedAsTreasurer': '1',\n",
    "  'DurationAsTreasurer': '1',\n",
    "  'SavesMoneyMonthly': '1',\n",
    "  'SavingsAmount': '1',\n",
    "  'HadDifficultyRepaying': '1',\n",
    "  'DifficultLoanAmount': '1',\n",
    "  'DifficultyReason': '1',\n",
    "  'NoOfDifficultLoans': '1',\n",
    "  'NoOfRepaidLoans': '1',\n",
    "  'NoOfLoansOnTime': '1',\n",
    "  'EstMonthlyIncome': '1',\n",
    "  'CostOfCultivation': '1',\n",
    "  'FarmProduceExchanged': '1',\n",
    "  'NoOfTimesExchanged': '1',\n",
    "  'Collateral': '1',\n",
    "  'ApplyLoanAmount': '1',\n",
    "  'YearsOfCultivating': '1',\n",
    "  'AnnualTurnover': '1'}\n",
    "\n",
    "requests.post('http://127.0.0.1:5000/api/add/creditaccess', data=data).json()"
   ]
  },
  {
   "cell_type": "markdown",
   "id": "e369148f",
   "metadata": {},
   "source": [
    "# 5c/capital"
   ]
  },
  {
   "cell_type": "code",
   "execution_count": 83,
   "id": "cd7185c6",
   "metadata": {},
   "outputs": [
    {
     "data": {
      "text/plain": [
       "{'capital': {'id': '1',\n",
       "  'Bvn': '1',\n",
       "  'MainIncomeSource': '1',\n",
       "  'OtherIncomeSource': '1',\n",
       "  'NoOfIncomeEarners': '1',\n",
       "  'HasBankAccount': '1',\n",
       "  'FirstFundingOption': '1',\n",
       "  'NeedsALoan': '1',\n",
       "  'PayBackMonths': '1',\n",
       "  'HarvestQtyChanged': '1',\n",
       "  'PestExpenseChanged': '1'},\n",
       " 'creditaccess': {'id': '1',\n",
       "  'Bvn': '1',\n",
       "  'HasServedAsTreasurer': '1',\n",
       "  'DurationAsTreasurer': '1',\n",
       "  'SavesMoneyMonthly': '1',\n",
       "  'SavingsAmount': '1',\n",
       "  'HadDifficultyRepaying': '1',\n",
       "  'DifficultLoanAmount': '1',\n",
       "  'DifficultyReason': '1',\n",
       "  'NoOfDifficultLoans': '1',\n",
       "  'NoOfRepaidLoans': '1',\n",
       "  'NoOfLoansOnTime': '1',\n",
       "  'EstMonthlyIncome': '1',\n",
       "  'CostOfCultivation': '1',\n",
       "  'FarmProduceExchanged': '1',\n",
       "  'NoOfTimesExchanged': '1',\n",
       "  'Collateral': '1',\n",
       "  'ApplyLoanAmount': '1',\n",
       "  'YearsOfCultivating': '1',\n",
       "  'AnnualTurnover': '1'}}"
      ]
     },
     "execution_count": 83,
     "metadata": {},
     "output_type": "execute_result"
    }
   ],
   "source": [
    "# Load farmer with Bvn \n",
    "requests.get('http://127.0.0.1:5000/api/5c/capital/Bvn=1').json()"
   ]
  },
  {
   "cell_type": "code",
   "execution_count": 97,
   "id": "9df371cd",
   "metadata": {},
   "outputs": [
    {
     "data": {
      "text/plain": [
       "<Response [500]>"
      ]
     },
     "execution_count": 97,
     "metadata": {},
     "output_type": "execute_result"
    }
   ],
   "source": [
    "# Load farmer with Bvn \n",
    "requests.delete('http://127.0.0.1:5000/api/creditaccess/Bvn=2')#.json()"
   ]
  },
  {
   "cell_type": "code",
   "execution_count": 94,
   "id": "38614ff0",
   "metadata": {},
   "outputs": [
    {
     "data": {
      "text/plain": [
       "{'capital': [{'id': '1',\n",
       "   'Bvn': '1',\n",
       "   'MainIncomeSource': '1',\n",
       "   'OtherIncomeSource': '1',\n",
       "   'NoOfIncomeEarners': '1',\n",
       "   'HasBankAccount': '1',\n",
       "   'FirstFundingOption': '1',\n",
       "   'NeedsALoan': '1',\n",
       "   'PayBackMonths': '1',\n",
       "   'HarvestQtyChanged': '1',\n",
       "   'PestExpenseChanged': '1'},\n",
       "  {'id': '2',\n",
       "   'Bvn': '2',\n",
       "   'MainIncomeSource': '1',\n",
       "   'OtherIncomeSource': '1',\n",
       "   'NoOfIncomeEarners': '1',\n",
       "   'HasBankAccount': '1',\n",
       "   'FirstFundingOption': '1',\n",
       "   'NeedsALoan': '1',\n",
       "   'PayBackMonths': '1',\n",
       "   'HarvestQtyChanged': '1',\n",
       "   'PestExpenseChanged': '1'},\n",
       "  {'id': '3',\n",
       "   'Bvn': '3',\n",
       "   'MainIncomeSource': '1',\n",
       "   'OtherIncomeSource': '1',\n",
       "   'NoOfIncomeEarners': '1',\n",
       "   'HasBankAccount': '1',\n",
       "   'FirstFundingOption': '1',\n",
       "   'NeedsALoan': '1',\n",
       "   'PayBackMonths': '1',\n",
       "   'HarvestQtyChanged': '1',\n",
       "   'PestExpenseChanged': '1'}],\n",
       " 'creditaccess': [{'id': '1',\n",
       "   'Bvn': '1',\n",
       "   'HasServedAsTreasurer': '1',\n",
       "   'DurationAsTreasurer': '1',\n",
       "   'SavesMoneyMonthly': '1',\n",
       "   'SavingsAmount': '1',\n",
       "   'HadDifficultyRepaying': '1',\n",
       "   'DifficultLoanAmount': '1',\n",
       "   'DifficultyReason': '1',\n",
       "   'NoOfDifficultLoans': '1',\n",
       "   'NoOfRepaidLoans': '1',\n",
       "   'NoOfLoansOnTime': '1',\n",
       "   'EstMonthlyIncome': '1',\n",
       "   'CostOfCultivation': '1',\n",
       "   'FarmProduceExchanged': '1',\n",
       "   'NoOfTimesExchanged': '1',\n",
       "   'Collateral': '1',\n",
       "   'ApplyLoanAmount': '1',\n",
       "   'YearsOfCultivating': '1',\n",
       "   'AnnualTurnover': '1'},\n",
       "  {'id': '2',\n",
       "   'Bvn': '2',\n",
       "   'HasServedAsTreasurer': '1',\n",
       "   'DurationAsTreasurer': '1',\n",
       "   'SavesMoneyMonthly': '1',\n",
       "   'SavingsAmount': '1',\n",
       "   'HadDifficultyRepaying': '1',\n",
       "   'DifficultLoanAmount': '1',\n",
       "   'DifficultyReason': '1',\n",
       "   'NoOfDifficultLoans': '1',\n",
       "   'NoOfRepaidLoans': '1',\n",
       "   'NoOfLoansOnTime': '1',\n",
       "   'EstMonthlyIncome': '1',\n",
       "   'CostOfCultivation': '1',\n",
       "   'FarmProduceExchanged': '1',\n",
       "   'NoOfTimesExchanged': '1',\n",
       "   'Collateral': '1',\n",
       "   'ApplyLoanAmount': '1',\n",
       "   'YearsOfCultivating': '1',\n",
       "   'AnnualTurnover': '1'},\n",
       "  {'id': '3',\n",
       "   'Bvn': '3',\n",
       "   'HasServedAsTreasurer': '1',\n",
       "   'DurationAsTreasurer': '1',\n",
       "   'SavesMoneyMonthly': '1',\n",
       "   'SavingsAmount': '1',\n",
       "   'HadDifficultyRepaying': '1',\n",
       "   'DifficultLoanAmount': '1',\n",
       "   'DifficultyReason': '1',\n",
       "   'NoOfDifficultLoans': '1',\n",
       "   'NoOfRepaidLoans': '1',\n",
       "   'NoOfLoansOnTime': '1',\n",
       "   'EstMonthlyIncome': '1',\n",
       "   'CostOfCultivation': '1',\n",
       "   'FarmProduceExchanged': '1',\n",
       "   'NoOfTimesExchanged': '1',\n",
       "   'Collateral': '1',\n",
       "   'ApplyLoanAmount': '1',\n",
       "   'YearsOfCultivating': '1',\n",
       "   'AnnualTurnover': '1'}]}"
      ]
     },
     "execution_count": 94,
     "metadata": {},
     "output_type": "execute_result"
    }
   ],
   "source": [
    "# Load all Farmers\n",
    "requests.get('http://127.0.0.1:5000/api/5c/capital/all').json()"
   ]
  },
  {
   "cell_type": "code",
   "execution_count": 101,
   "id": "9c23b61c",
   "metadata": {},
   "outputs": [],
   "source": [
    "# Add New Farmer\n",
    "data = {\n",
    "  'Bvn': '2',\n",
    "  'MainIncomeSource': '1',\n",
    "  'OtherIncomeSource': '1',\n",
    "  'NoOfIncomeEarners': '1',\n",
    "  'HasBankAccount': '1',\n",
    "  'FirstFundingOption': '1',\n",
    "  'NeedsALoan': '1',\n",
    "  'PayBackMonths': '1',\n",
    "  'HarvestQtyChanged': '1',\n",
    "  'PestExpenseChanged': '1',\n",
    "  'HasServedAsTreasurer': '1',\n",
    "  'DurationAsTreasurer': '1',\n",
    "  'SavesMoneyMonthly': '1',\n",
    "  'SavingsAmount': '1',\n",
    "  'HadDifficultyRepaying': '1',\n",
    "  'DifficultLoanAmount': '1',\n",
    "  'DifficultyReason': '1',\n",
    "  'NoOfDifficultLoans': '1',\n",
    "  'NoOfRepaidLoans': '1',\n",
    "  'NoOfLoansOnTime': '1',\n",
    "  'EstMonthlyIncome': '1',\n",
    "  'CostOfCultivation': '1',\n",
    "  'FarmProduceExchanged': '1',\n",
    "  'NoOfTimesExchanged': '1',\n",
    "  'Collateral': '1',\n",
    "  'ApplyLoanAmount': '1',\n",
    "  'YearsOfCultivating': '1',\n",
    "  'AnnualTurnover': '1'}\n",
    "\n",
    "requests.post('http://127.0.0.1:5000/api/add/5c/capital', data=data).json()"
   ]
  },
  {
   "cell_type": "code",
   "execution_count": null,
   "id": "09433eaa",
   "metadata": {},
   "outputs": [],
   "source": []
  }
 ],
 "metadata": {
  "kernelspec": {
   "display_name": "Python 3",
   "language": "python",
   "name": "python3"
  },
  "language_info": {
   "codemirror_mode": {
    "name": "ipython",
    "version": 3
   },
   "file_extension": ".py",
   "mimetype": "text/x-python",
   "name": "python",
   "nbconvert_exporter": "python",
   "pygments_lexer": "ipython3",
   "version": "3.8.8"
  }
 },
 "nbformat": 4,
 "nbformat_minor": 5
}
