{
 "cells": [
  {
   "cell_type": "code",
   "execution_count": 11,
   "id": "7821d168",
   "metadata": {},
   "outputs": [],
   "source": [
    "import requests"
   ]
  },
  {
   "cell_type": "markdown",
   "id": "03ebcb23",
   "metadata": {},
   "source": [
    "# Offer"
   ]
  },
  {
   "cell_type": "code",
   "execution_count": 14,
   "id": "b826c1e9",
   "metadata": {},
   "outputs": [
    {
     "data": {
      "text/plain": [
       "{'id': 18,\n",
       " 'type': 'UBA',\n",
       " 'company': 'UBA',\n",
       " 'amount': '47795.0',\n",
       " 'repayment_amount': '52574.50000000001',\n",
       " 'repayment_months': '12',\n",
       " 'status': 'Offered',\n",
       " 'group': 'Yes',\n",
       " 'bvn': '10',\n",
       " 'score': '0.75',\n",
       " 'bin': 'B',\n",
       " 'transfer_date': 'Pending',\n",
       " 'due_date': 'Pending',\n",
       " 'repaid': '0',\n",
       " 'balance': '0',\n",
       " 'date_created': '2023-01-06 22:20:30.649654'}"
      ]
     },
     "execution_count": 14,
     "metadata": {},
     "output_type": "execute_result"
    }
   ],
   "source": [
    "data = {\n",
    " 'bvn': '10',\n",
    " 'type': 'UBA',\n",
    "}\n",
    "\n",
    "requests.post('http://127.0.0.1:5000/api/transfer/add', json=data).json()\n"
   ]
  },
  {
   "cell_type": "markdown",
   "id": "2596d6ae",
   "metadata": {},
   "source": [
    "# Accept"
   ]
  },
  {
   "cell_type": "code",
   "execution_count": 26,
   "id": "11ae62be",
   "metadata": {},
   "outputs": [
    {
     "data": {
      "text/plain": [
       "{'message': 'success'}"
      ]
     },
     "execution_count": 26,
     "metadata": {},
     "output_type": "execute_result"
    }
   ],
   "source": [
    "requests.get('http://127.0.0.1:5000/api/transfer/accept/id=18', json=data).json()"
   ]
  },
  {
   "cell_type": "code",
   "execution_count": 27,
   "id": "8eb25f1e",
   "metadata": {},
   "outputs": [
    {
     "data": {
      "text/plain": [
       "{'status': 'success',\n",
       " 'transfers': [{'amount': '47795.0',\n",
       "   'balance': '52574.50000000001',\n",
       "   'bin': 'B',\n",
       "   'bvn': '10',\n",
       "   'company': 'UBA',\n",
       "   'date_created': '2023-01-06 22:20:30.649654',\n",
       "   'due_date': '2024-01-06 23:29:49.136420',\n",
       "   'group': 'Yes',\n",
       "   'id': 18,\n",
       "   'repaid': '15000',\n",
       "   'repayment_amount': '52574.50000000001',\n",
       "   'repayment_months': '12',\n",
       "   'score': '0.75',\n",
       "   'status': 'Accepted',\n",
       "   'transfer_date': '2023-01-06 23:29:49.136420',\n",
       "   'type': 'UBA'}]}"
      ]
     },
     "execution_count": 27,
     "metadata": {},
     "output_type": "execute_result"
    }
   ],
   "source": [
    "requests.get('http://127.0.0.1:5000/api/transfer/id=18', json=data).json()"
   ]
  },
  {
   "cell_type": "markdown",
   "id": "830039d5",
   "metadata": {},
   "source": [
    "# Update"
   ]
  },
  {
   "cell_type": "code",
   "execution_count": 22,
   "id": "a474a1b2",
   "metadata": {},
   "outputs": [
    {
     "data": {
      "text/plain": [
       "{'message': 'success'}"
      ]
     },
     "execution_count": 22,
     "metadata": {},
     "output_type": "execute_result"
    }
   ],
   "source": [
    "data = {\n",
    " 'amount': '5000',\n",
    "}\n",
    "requests.get('http://127.0.0.1:5000/api/transfer/update/id=18', json=data).json()"
   ]
  },
  {
   "cell_type": "code",
   "execution_count": 23,
   "id": "cf44b590",
   "metadata": {},
   "outputs": [
    {
     "data": {
      "text/plain": [
       "{'status': 'success',\n",
       " 'transfers': [{'amount': '47795.0',\n",
       "   'balance': '37574.50000000001',\n",
       "   'bin': 'B',\n",
       "   'bvn': '10',\n",
       "   'company': 'UBA',\n",
       "   'date_created': '2023-01-06 22:20:30.649654',\n",
       "   'due_date': '2024-01-06 23:22:45.019432',\n",
       "   'group': 'Yes',\n",
       "   'id': 18,\n",
       "   'repaid': '15000',\n",
       "   'repayment_amount': '52574.50000000001',\n",
       "   'repayment_months': '12',\n",
       "   'score': '0.75',\n",
       "   'status': 'Accepted',\n",
       "   'transfer_date': '2023-01-06 23:22:45.019432',\n",
       "   'type': 'UBA'}]}"
      ]
     },
     "execution_count": 23,
     "metadata": {},
     "output_type": "execute_result"
    }
   ],
   "source": [
    "requests.get('http://127.0.0.1:5000/api/transfer/id=18', json=data).json()"
   ]
  },
  {
   "cell_type": "markdown",
   "id": "40d4d094",
   "metadata": {},
   "source": [
    "# Reject "
   ]
  },
  {
   "cell_type": "code",
   "execution_count": 24,
   "id": "a3cdad5e",
   "metadata": {},
   "outputs": [
    {
     "data": {
      "text/plain": [
       "{'message': 'success'}"
      ]
     },
     "execution_count": 24,
     "metadata": {},
     "output_type": "execute_result"
    }
   ],
   "source": [
    "requests.get('http://127.0.0.1:5000/api/transfer/reject/id=18', json=data).json()"
   ]
  },
  {
   "cell_type": "code",
   "execution_count": 31,
   "id": "a021f962",
   "metadata": {},
   "outputs": [
    {
     "data": {
      "text/plain": [
       "{'status': 'success',\n",
       " 'transfers': [{'amount': '47795.0',\n",
       "   'balance': '52574.50000000001',\n",
       "   'bin': 'B',\n",
       "   'bvn': '10',\n",
       "   'company': 'UBA',\n",
       "   'date_created': '2023-01-06 22:20:30.649654',\n",
       "   'due_date': '2024-01-06 23:29:49.136420',\n",
       "   'group': 'Yes',\n",
       "   'id': 18,\n",
       "   'repaid': '15000',\n",
       "   'repayment_amount': '52574.50000000001',\n",
       "   'repayment_months': '12',\n",
       "   'score': '0.75',\n",
       "   'status': 'Accepted',\n",
       "   'transfer_date': '2023-01-06 23:29:49.136420',\n",
       "   'type': 'UBA'}]}"
      ]
     },
     "execution_count": 31,
     "metadata": {},
     "output_type": "execute_result"
    }
   ],
   "source": [
    "requests.get('http://127.0.0.1:5000/api/transfer/id=18', json=data).json()"
   ]
  },
  {
   "cell_type": "markdown",
   "id": "60e09f1e",
   "metadata": {},
   "source": [
    "# Delete"
   ]
  },
  {
   "cell_type": "code",
   "execution_count": 38,
   "id": "d0c43a4b",
   "metadata": {},
   "outputs": [
    {
     "data": {
      "text/plain": [
       "{'error': True,\n",
       " 'message': 'Sorry your request can not be processed at the moment',\n",
       " 'data': 'id not found'}"
      ]
     },
     "execution_count": 38,
     "metadata": {},
     "output_type": "execute_result"
    }
   ],
   "source": [
    "requests.delete('http://127.0.0.1:5000/api/transfer/id=10').json()"
   ]
  },
  {
   "cell_type": "code",
   "execution_count": null,
   "id": "dbfe14b5",
   "metadata": {},
   "outputs": [],
   "source": []
  },
  {
   "cell_type": "code",
   "execution_count": null,
   "id": "7be1e4e6",
   "metadata": {},
   "outputs": [],
   "source": []
  },
  {
   "cell_type": "code",
   "execution_count": null,
   "id": "9f34eead",
   "metadata": {},
   "outputs": [],
   "source": []
  }
 ],
 "metadata": {
  "kernelspec": {
   "display_name": "Python 3",
   "language": "python",
   "name": "python3"
  },
  "language_info": {
   "codemirror_mode": {
    "name": "ipython",
    "version": 3
   },
   "file_extension": ".py",
   "mimetype": "text/x-python",
   "name": "python",
   "nbconvert_exporter": "python",
   "pygments_lexer": "ipython3",
   "version": "3.8.8"
  }
 },
 "nbformat": 4,
 "nbformat_minor": 5
}
