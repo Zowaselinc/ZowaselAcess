{
 "cells": [
  {
   "cell_type": "code",
   "execution_count": 26,
   "id": "7821d168",
   "metadata": {},
   "outputs": [],
   "source": [
    "import requests"
   ]
  },
  {
   "cell_type": "code",
   "execution_count": 27,
   "id": "ce7fd9e2",
   "metadata": {},
   "outputs": [
    {
     "data": {
      "text/plain": [
       "{'error': True,\n",
       " 'message': 'Sorry your request can not be processed at the moment',\n",
       " 'data': 'Bvn Not Found'}"
      ]
     },
     "execution_count": 27,
     "metadata": {},
     "output_type": "execute_result"
    }
   ],
   "source": [
    "# Load farmer with Bvn \n",
    "requests.get('http://127.0.0.1:5000/api/farmer/Bvn=1').json()"
   ]
  },
  {
   "cell_type": "code",
   "execution_count": 28,
   "id": "01ee01f3",
   "metadata": {},
   "outputs": [
    {
     "data": {
      "text/plain": [
       "{'error': True,\n",
       " 'message': 'Sorry your request can not be processed at the moment',\n",
       " 'data': 'Bvn Not Found'}"
      ]
     },
     "execution_count": 28,
     "metadata": {},
     "output_type": "execute_result"
    }
   ],
   "source": [
    "# Load farmer with Bvn \n",
    "requests.get('http://127.0.0.1:5000/api/farmer/Bvn=2').json()"
   ]
  },
  {
   "cell_type": "code",
   "execution_count": 29,
   "id": "a9a1c9aa",
   "metadata": {},
   "outputs": [
    {
     "data": {
      "text/plain": [
       "{'farmers': [{'Accountno': '1',\n",
       "   'Age': '1',\n",
       "   'Bankname': '1',\n",
       "   'Bvn': '8',\n",
       "   'Email': '9',\n",
       "   'Expirydate': '1',\n",
       "   'Gender': '1',\n",
       "   'Group': '1',\n",
       "   'Issuedate': '1',\n",
       "   'Landmark': '1',\n",
       "   'LandmarkNok': '1',\n",
       "   'Language': '1',\n",
       "   'MaritalStatus': '1',\n",
       "   'MeansofID': '1',\n",
       "   'Middlename': '1',\n",
       "   'MiddlenameNok': '1',\n",
       "   'Nin': '1',\n",
       "   'NinNok': '1',\n",
       "   'NumberofMembers': '1',\n",
       "   'OccupationNok': '1',\n",
       "   'PermanentAddress': '1',\n",
       "   'PermanentAddressNok': '1',\n",
       "   'ReasonNoGroup': '1',\n",
       "   'RelationshipNok': '1',\n",
       "   'Stateoforigin': '1',\n",
       "   'Telephone': '1',\n",
       "   'TelephoneNok': '1',\n",
       "   'farmer_id': 'ZOWASEL-1b2c63d3-fdfb-4389-a345-5924556498db',\n",
       "   'firstname': '1',\n",
       "   'firstnameNok': '1',\n",
       "   'id': 1,\n",
       "   'isinagroup': '1',\n",
       "   'surname': '1',\n",
       "   'surnameNok': '1'}],\n",
       " 'status': 'success'}"
      ]
     },
     "execution_count": 29,
     "metadata": {},
     "output_type": "execute_result"
    }
   ],
   "source": [
    "# Load all Farmers\n",
    "requests.get('http://127.0.0.1:5000/api/farmer/all').json()"
   ]
  },
  {
   "cell_type": "code",
   "execution_count": 30,
   "id": "4aac6000",
   "metadata": {},
   "outputs": [
    {
     "data": {
      "text/plain": [
       "{'error': True,\n",
       " 'message': 'Sorry your request can not be processed at the moment',\n",
       " 'data': 'Record with Bvn already exists!'}"
      ]
     },
     "execution_count": 30,
     "metadata": {},
     "output_type": "execute_result"
    }
   ],
   "source": [
    "# Add New Farmer\n",
    "data = {\n",
    " 'firstname': '1',\n",
    " 'surname': '1',\n",
    " 'Middlename': '1',\n",
    " 'Telephone': '1',\n",
    "    'Email': '9',\n",
    " 'Age': '1',\n",
    " 'Gender': '1',\n",
    " 'Language': '1',\n",
    " 'MaritalStatus': '1',\n",
    " 'Bankname': '1',\n",
    " 'Accountno': '1',\n",
    " 'Bvn': '8',\n",
    " 'MeansofID': '1',\n",
    " 'Issuedate': '1',\n",
    " 'Expirydate': '1',\n",
    " 'Nin': '1',\n",
    " 'PermanentAddress': '1',\n",
    " 'Landmark': '1',\n",
    " 'Stateoforigin': '1',\n",
    " 'isinagroup': '1',\n",
    " 'ReasonNoGroup': '1',\n",
    " 'Group': '1',\n",
    " 'NumberofMembers': '1',\n",
    " 'firstnameNok': '1',\n",
    " 'surnameNok': '1',\n",
    " 'MiddlenameNok': '1',\n",
    " 'RelationshipNok': '1',\n",
    " 'OccupationNok': '1',\n",
    " 'TelephoneNok': '1',\n",
    " 'PermanentAddressNok': '1',\n",
    " 'LandmarkNok': '1',\n",
    " 'NinNok': '1',\n",
    "}\n",
    "\n",
    "\n",
    "requests.post('http://127.0.0.1:5000/api/farmer/add', data=data).json()"
   ]
  },
  {
   "cell_type": "code",
   "execution_count": 31,
   "id": "3397bbc0",
   "metadata": {},
   "outputs": [
    {
     "data": {
      "text/plain": [
       "{'error': True,\n",
       " 'message': 'Sorry your request can not be processed at the moment',\n",
       " 'data': 'Bvn Not Found'}"
      ]
     },
     "execution_count": 31,
     "metadata": {},
     "output_type": "execute_result"
    }
   ],
   "source": [
    "# Load farmer with Bvn \n",
    "requests.get('http://127.0.0.1:5000/api/farmer/Bvn=1').json()"
   ]
  },
  {
   "cell_type": "code",
   "execution_count": 32,
   "id": "38614ff0",
   "metadata": {},
   "outputs": [
    {
     "data": {
      "text/plain": [
       "{'error': True,\n",
       " 'message': 'Sorry your request can not be processed at the moment',\n",
       " 'data': 'Bvn Not Found'}"
      ]
     },
     "execution_count": 32,
     "metadata": {},
     "output_type": "execute_result"
    }
   ],
   "source": [
    "# Load farmer with Bvn \n",
    "requests.delete('http://127.0.0.1:5000/api/farmer/Bvn=1').json()"
   ]
  },
  {
   "cell_type": "code",
   "execution_count": 33,
   "id": "e6a4a21b",
   "metadata": {},
   "outputs": [
    {
     "data": {
      "text/plain": [
       "{'error': True,\n",
       " 'message': 'Sorry your request can not be processed at the moment',\n",
       " 'data': 'Bvn Not Found'}"
      ]
     },
     "execution_count": 33,
     "metadata": {},
     "output_type": "execute_result"
    }
   ],
   "source": [
    "# Load farmer with Bvn \n",
    "requests.get('http://127.0.0.1:5000/api/farmer/Bvn=1').json()"
   ]
  },
  {
   "cell_type": "code",
   "execution_count": null,
   "id": "b2c6145b",
   "metadata": {},
   "outputs": [],
   "source": []
  }
 ],
 "metadata": {
  "kernelspec": {
   "display_name": "Python 3",
   "language": "python",
   "name": "python3"
  },
  "language_info": {
   "codemirror_mode": {
    "name": "ipython",
    "version": 3
   },
   "file_extension": ".py",
   "mimetype": "text/x-python",
   "name": "python",
   "nbconvert_exporter": "python",
   "pygments_lexer": "ipython3",
   "version": "3.8.8"
  }
 },
 "nbformat": 4,
 "nbformat_minor": 5
}
