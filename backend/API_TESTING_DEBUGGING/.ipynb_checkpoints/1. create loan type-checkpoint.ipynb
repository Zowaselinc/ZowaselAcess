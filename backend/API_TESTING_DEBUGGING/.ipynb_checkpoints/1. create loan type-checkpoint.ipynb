{
 "cells": [
  {
   "cell_type": "code",
   "execution_count": 10,
   "id": "7821d168",
   "metadata": {},
   "outputs": [],
   "source": [
    "import requests"
   ]
  },
  {
   "cell_type": "markdown",
   "id": "b5b6c8aa",
   "metadata": {},
   "source": [
    "# loan"
   ]
  },
  {
   "cell_type": "code",
   "execution_count": 11,
   "id": "a9a1c9aa",
   "metadata": {},
   "outputs": [
    {
     "data": {
      "text/plain": [
       "{'loans': [{'company': None,\n",
       "   'date_created': '2023-01-04 12:11:06.015572',\n",
       "   'id': 9,\n",
       "   'interest_rate_per_annum': 2,\n",
       "   'repayment_months': 1,\n",
       "   'type': 'Test'},\n",
       "  {'company': None,\n",
       "   'date_created': '2023-01-04 14:48:21.145670',\n",
       "   'id': 10,\n",
       "   'interest_rate_per_annum': 10,\n",
       "   'repayment_months': 24,\n",
       "   'type': 'New Loans'},\n",
       "  {'company': 'UBA',\n",
       "   'date_created': '2023-01-06 18:11:55.317743',\n",
       "   'id': 11,\n",
       "   'interest_rate_per_annum': 10,\n",
       "   'repayment_months': 12,\n",
       "   'type': 'UBA'},\n",
       "  {'company': 'FML',\n",
       "   'date_created': '2023-01-06 21:05:41.855838',\n",
       "   'id': 12,\n",
       "   'interest_rate_per_annum': 1,\n",
       "   'repayment_months': 12,\n",
       "   'type': 'Bonus'}],\n",
       " 'status': 'success'}"
      ]
     },
     "execution_count": 11,
     "metadata": {},
     "output_type": "execute_result"
    }
   ],
   "source": [
    "# Load all loan\n",
    "requests.get('http://127.0.0.1:5000/api/loan/all').json()"
   ]
  },
  {
   "cell_type": "code",
   "execution_count": 12,
   "id": "4aac6000",
   "metadata": {},
   "outputs": [
    {
     "data": {
      "text/plain": [
       "{'message': 'success'}"
      ]
     },
     "execution_count": 12,
     "metadata": {},
     "output_type": "execute_result"
    }
   ],
   "source": [
    "# Add New loan\n",
    "data = {\n",
    "      'type':'Machines',\n",
    "    'repayment_months':1,\n",
    "    'interest_rate_per_annum':1,\n",
    "    'repayment_months': 12,\n",
    "    'company': 'FML'\n",
    "}\n",
    "\n",
    "requests.post('http://127.0.0.1:5000/api/loan/add', json=data).json()"
   ]
  },
  {
   "cell_type": "code",
   "execution_count": 13,
   "id": "44620270",
   "metadata": {},
   "outputs": [
    {
     "data": {
      "text/plain": [
       "{'loans': [{'company': None,\n",
       "   'date_created': '2023-01-04 12:11:06.015572',\n",
       "   'id': 9,\n",
       "   'interest_rate_per_annum': 2,\n",
       "   'repayment_months': 1,\n",
       "   'type': 'Test'},\n",
       "  {'company': None,\n",
       "   'date_created': '2023-01-04 14:48:21.145670',\n",
       "   'id': 10,\n",
       "   'interest_rate_per_annum': 10,\n",
       "   'repayment_months': 24,\n",
       "   'type': 'New Loans'},\n",
       "  {'company': 'UBA',\n",
       "   'date_created': '2023-01-06 18:11:55.317743',\n",
       "   'id': 11,\n",
       "   'interest_rate_per_annum': 10,\n",
       "   'repayment_months': 12,\n",
       "   'type': 'UBA'},\n",
       "  {'company': 'FML',\n",
       "   'date_created': '2023-01-06 21:05:41.855838',\n",
       "   'id': 12,\n",
       "   'interest_rate_per_annum': 1,\n",
       "   'repayment_months': 12,\n",
       "   'type': 'Bonus'},\n",
       "  {'company': 'FML',\n",
       "   'date_created': '2023-01-06 22:11:33.849274',\n",
       "   'id': 13,\n",
       "   'interest_rate_per_annum': 1,\n",
       "   'repayment_months': 12,\n",
       "   'type': 'Machines'}],\n",
       " 'status': 'success'}"
      ]
     },
     "execution_count": 13,
     "metadata": {},
     "output_type": "execute_result"
    }
   ],
   "source": [
    "# Load all loan\n",
    "requests.get('http://127.0.0.1:5000/api/loan/all').json()"
   ]
  },
  {
   "cell_type": "code",
   "execution_count": null,
   "id": "bf6e470d",
   "metadata": {},
   "outputs": [],
   "source": []
  }
 ],
 "metadata": {
  "kernelspec": {
   "display_name": "Python 3",
   "language": "python",
   "name": "python3"
  },
  "language_info": {
   "codemirror_mode": {
    "name": "ipython",
    "version": 3
   },
   "file_extension": ".py",
   "mimetype": "text/x-python",
   "name": "python",
   "nbconvert_exporter": "python",
   "pygments_lexer": "ipython3",
   "version": "3.8.8"
  }
 },
 "nbformat": 4,
 "nbformat_minor": 5
}
