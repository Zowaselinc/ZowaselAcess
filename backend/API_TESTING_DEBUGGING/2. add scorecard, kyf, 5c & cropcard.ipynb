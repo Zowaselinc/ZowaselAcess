{
 "cells": [
  {
   "cell_type": "markdown",
   "id": "08e69116",
   "metadata": {},
   "source": [
    "# REGISTRATION"
   ]
  },
  {
   "cell_type": "code",
   "execution_count": 38,
   "id": "e5c58aef",
   "metadata": {},
   "outputs": [],
   "source": [
    "import requests"
   ]
  },
  {
   "cell_type": "markdown",
   "id": "28cc11e7",
   "metadata": {},
   "source": [
    "# 1. Add Scorecard"
   ]
  },
  {
   "cell_type": "code",
   "execution_count": 47,
   "id": "091928e8",
   "metadata": {},
   "outputs": [
    {
     "data": {
      "text/plain": [
       "{'message': 'Success!Add capital!Add character!Add collateral!Add capacity!Add conditions!'}"
      ]
     },
     "execution_count": 47,
     "metadata": {},
     "output_type": "execute_result"
    }
   ],
   "source": [
    "# add scorecard\n",
    "\n",
    "data = {\"address\":\"Located in different area\",\n",
    "        \"age\":\"35 to 45\",\n",
    "        \"bvn\":\"10\",\n",
    "        \"crop\":\"Food crops\",\n",
    "        \"estimate_monthly_income\":\"Less than 500,000\",\n",
    "        \"gender\":\"Male\",\n",
    "        \"intercropping\":\"Mixed cropping\",\n",
    "        \"is_in_a_cooperative\":\"Yes\",\n",
    "        \"machines\":\"Yes\",\n",
    "        \"no_of_agronomist_visits\":\"Less than once a month\",\n",
    "        \"number_of_crops\":\"Yes\",\n",
    "        \"number_of_land\":\"More than 3 farms\",\n",
    "        \"owner_caretaker\":\"Rental\",\n",
    "        \"owns_a_bank_account\":\"Yes\",\n",
    "        \"size_of_farm\":\"below 25 hectars\",\n",
    "        \"years_cultivating\":\"10 to 15 years\"}\n",
    "\n",
    "requests.post('http://127.0.0.1:5000/api/scorecard/add', json=data).json()\n"
   ]
  },
  {
   "cell_type": "code",
   "execution_count": 48,
   "id": "a593c73d",
   "metadata": {},
   "outputs": [
    {
     "data": {
      "text/plain": [
       "[{'id': 47,\n",
       "  'bvn': '10',\n",
       "  'age': '35 to 45',\n",
       "  'number_of_land': 'More than 3 farms',\n",
       "  'address': 'Located in different area',\n",
       "  'owner_caretaker': 'Rental',\n",
       "  'crop': 'Food crops',\n",
       "  'intercropping': 'Mixed cropping',\n",
       "  'machines': 'Yes',\n",
       "  'estimate_monthly_income': 'Less than 500,000',\n",
       "  'years_cultivating': '10 to 15 years',\n",
       "  'gender': 'Male',\n",
       "  'owns_a_bank_account': 'Yes',\n",
       "  'size_of_farm': 'below 25 hectars',\n",
       "  'number_of_crops': 'Yes',\n",
       "  'is_in_a_cooperative': 'Yes',\n",
       "  'no_of_agronomist_visits': 'Less than once a month',\n",
       "  'applyLoanAmount': '0',\n",
       "  'term_months': 'term_months',\n",
       "  'score': '0.5',\n",
       "  'bin': 'D',\n",
       "  'date_created': '2023-01-06 22:17:20.472530'}]"
      ]
     },
     "execution_count": 48,
     "metadata": {},
     "output_type": "execute_result"
    }
   ],
   "source": [
    "# load scorecard\n",
    "requests.get('http://127.0.0.1:5000/api/scorecard/bvn=10').json()"
   ]
  },
  {
   "cell_type": "markdown",
   "id": "9f69434d",
   "metadata": {},
   "source": [
    "# 2. Add CropCard"
   ]
  },
  {
   "cell_type": "code",
   "execution_count": 49,
   "id": "96e30df2",
   "metadata": {},
   "outputs": [
    {
     "data": {
      "text/plain": [
       "{'message': 'success'}"
      ]
     },
     "execution_count": 49,
     "metadata": {},
     "output_type": "execute_result"
    }
   ],
   "source": [
    "# add cropcard\n",
    "data = {\"farmer_name\":\"Anonymous\",\n",
    "        \"age\":\"35 to 45\",\n",
    "        \"bvn\":\"10\",\n",
    "        \"crop_name\":\"Food crops\",\n",
    "        \"fertilizer_cost\":\"60000\",\n",
    "        \"fertilizer\":\"fertilizer abc\",\n",
    "        \"harvest_cost\":\"60990\",\n",
    "        \"harvest\":\"fertilizer abc\",\n",
    "        \"fertilizer_cost\":\"66600\",\n",
    "        \"fertilizer\":\"fertilizer abc\",\n",
    "        \"other_cost\":\"600\",\n",
    "        \"others\":\"fertilizer abc\",\n",
    "        \"labour_cost\":\"34600\",\n",
    "        \"labour\":\"fertilizer abc\",\n",
    "        \"mechanization_cost\":\"66700\",\n",
    "        \"mechanization\":\"fertilizer abc\",\n",
    "        \"date_filled\":\"01/01/2022\"\n",
    "        }\n",
    "\n",
    "requests.post('http://127.0.0.1:5000/api/cropcard/add', json=data).json()\n"
   ]
  },
  {
   "cell_type": "code",
   "execution_count": null,
   "id": "94e7d6f1",
   "metadata": {},
   "outputs": [],
   "source": [
    "# load cropcard\n",
    "requests.get('http://127.0.0.1:5000/api/cropcard/bvn=10').json()"
   ]
  },
  {
   "cell_type": "code",
   "execution_count": 50,
   "id": "42f70bb0",
   "metadata": {},
   "outputs": [
    {
     "data": {
      "text/plain": [
       "[{'id': 47,\n",
       "  'bvn': '10',\n",
       "  'age': '35 to 45',\n",
       "  'number_of_land': 'More than 3 farms',\n",
       "  'address': 'Located in different area',\n",
       "  'owner_caretaker': 'Rental',\n",
       "  'crop': 'Food crops',\n",
       "  'intercropping': 'Mixed cropping',\n",
       "  'machines': 'Yes',\n",
       "  'estimate_monthly_income': 'Less than 500,000',\n",
       "  'years_cultivating': '10 to 15 years',\n",
       "  'gender': 'Male',\n",
       "  'owns_a_bank_account': 'Yes',\n",
       "  'size_of_farm': 'below 25 hectars',\n",
       "  'number_of_crops': 'Yes',\n",
       "  'is_in_a_cooperative': 'Yes',\n",
       "  'no_of_agronomist_visits': 'Less than once a month',\n",
       "  'applyLoanAmount': '47795.0',\n",
       "  'term_months': 'term_months',\n",
       "  'score': '0.75',\n",
       "  'bin': 'B',\n",
       "  'date_created': '2023-01-06 22:17:20.472530'}]"
      ]
     },
     "execution_count": 50,
     "metadata": {},
     "output_type": "execute_result"
    }
   ],
   "source": [
    "# load scorecard\n",
    "requests.get('http://127.0.0.1:5000/api/scorecard/bvn=10').json()"
   ]
  },
  {
   "cell_type": "code",
   "execution_count": null,
   "id": "5da58ffb",
   "metadata": {},
   "outputs": [],
   "source": []
  },
  {
   "cell_type": "code",
   "execution_count": null,
   "id": "5f4cb888",
   "metadata": {},
   "outputs": [],
   "source": []
  }
 ],
 "metadata": {
  "kernelspec": {
   "display_name": "Python 3",
   "language": "python",
   "name": "python3"
  },
  "language_info": {
   "codemirror_mode": {
    "name": "ipython",
    "version": 3
   },
   "file_extension": ".py",
   "mimetype": "text/x-python",
   "name": "python",
   "nbconvert_exporter": "python",
   "pygments_lexer": "ipython3",
   "version": "3.8.8"
  }
 },
 "nbformat": 4,
 "nbformat_minor": 5
}
